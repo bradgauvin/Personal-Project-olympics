{
 "cells": [
  {
   "cell_type": "code",
   "execution_count": 1,
   "id": "5cecdea3",
   "metadata": {
    "ExecuteTime": {
     "end_time": "2022-08-17T17:08:26.632523Z",
     "start_time": "2022-08-17T17:08:25.106077Z"
    }
   },
   "outputs": [],
   "source": [
    "import pandas as pd\n",
    "import numpy as np\n",
    "import opendatasets as od\n",
    "import os\n",
    "import pandas as pd\n",
    "import numpy as np\n",
    "import seaborn as sns\n",
    "import scipy.stats as stats\n",
    "import matplotlib.pyplot as plt\n",
    "from datetime import datetime\n",
    "\n",
    "#Local Libraries\n",
    "import wrangle_o\n",
    "import utilities\n",
    "import modeling\n",
    "\n",
    "np.random.seed(123)\n",
    "\n",
    "# default pandas decimal number display format\n",
    "pd.options.display.float_format = '{:20,.2f}'.format"
   ]
  },
  {
   "cell_type": "code",
   "execution_count": 2,
   "id": "53c9092c",
   "metadata": {
    "ExecuteTime": {
     "end_time": "2022-08-17T17:08:27.515004Z",
     "start_time": "2022-08-17T17:08:26.633634Z"
    }
   },
   "outputs": [
    {
     "name": "stdout",
     "output_type": "stream",
     "text": [
      "Olympic data pulled\n"
     ]
    }
   ],
   "source": [
    "wrangle_o.pull_data()"
   ]
  },
  {
   "cell_type": "code",
   "execution_count": 3,
   "id": "b2d1a0ce",
   "metadata": {
    "ExecuteTime": {
     "end_time": "2022-08-17T17:08:31.103617Z",
     "start_time": "2022-08-17T17:08:27.515717Z"
    }
   },
   "outputs": [],
   "source": [
    "# To fill na, adjust \"born\" column to approriate date formats\n",
    "wrangle_o.athlete_bio()"
   ]
  },
  {
   "cell_type": "code",
   "execution_count": 4,
   "id": "3e92099e",
   "metadata": {
    "ExecuteTime": {
     "end_time": "2022-08-17T17:08:31.931721Z",
     "start_time": "2022-08-17T17:08:31.104917Z"
    }
   },
   "outputs": [],
   "source": [
    "bio = pd.read_csv('clean_olympic_athlete_bio.csv',keep_default_na=False)\n",
    "er = pd.read_csv('Olympic_Athlete_Event_Results.csv')\n",
    "res = pd.read_csv('Olympic_Results.csv')\n",
    "country = pd.read_csv('Olympics_country.csv')\n",
    "games = pd.read_csv('Olympics_Games.csv')\n",
    "mt = pd.read_csv('Olympic_Games_Medal_Tally.csv')"
   ]
  },
  {
   "cell_type": "code",
   "execution_count": 5,
   "id": "09ca6aaf",
   "metadata": {
    "ExecuteTime": {
     "end_time": "2022-08-17T17:08:32.131364Z",
     "start_time": "2022-08-17T17:08:31.932387Z"
    }
   },
   "outputs": [
    {
     "name": "stdout",
     "output_type": "stream",
     "text": [
      "Use df: 'olympics'\n"
     ]
    }
   ],
   "source": [
    "olympics = wrangle_o.merge_data(bio, er, res, country, games)"
   ]
  },
  {
   "cell_type": "code",
   "execution_count": 6,
   "id": "a4ce1ab6",
   "metadata": {
    "ExecuteTime": {
     "end_time": "2022-08-17T17:08:32.667764Z",
     "start_time": "2022-08-17T17:08:32.132090Z"
    }
   },
   "outputs": [],
   "source": [
    "olympics = wrangle_o.wrangle_olympics(olympics)"
   ]
  },
  {
   "cell_type": "code",
   "execution_count": 7,
   "id": "7cb3eab7",
   "metadata": {
    "ExecuteTime": {
     "end_time": "2022-08-17T17:09:22.035951Z",
     "start_time": "2022-08-17T17:08:32.669010Z"
    }
   },
   "outputs": [],
   "source": [
    "# Long code of replacing weight measurements and birth data- Takes a bit of time\n",
    "olympics = wrangle_o.replace_olympics(olympics)"
   ]
  },
  {
   "cell_type": "code",
   "execution_count": 8,
   "id": "98b5fffc",
   "metadata": {
    "ExecuteTime": {
     "end_time": "2022-08-17T17:09:22.351745Z",
     "start_time": "2022-08-17T17:09:22.037491Z"
    }
   },
   "outputs": [
    {
     "data": {
      "text/html": [
       "<div>\n",
       "<style scoped>\n",
       "    .dataframe tbody tr th:only-of-type {\n",
       "        vertical-align: middle;\n",
       "    }\n",
       "\n",
       "    .dataframe tbody tr th {\n",
       "        vertical-align: top;\n",
       "    }\n",
       "\n",
       "    .dataframe thead th {\n",
       "        text-align: right;\n",
       "    }\n",
       "</style>\n",
       "<table border=\"1\" class=\"dataframe\">\n",
       "  <thead>\n",
       "    <tr style=\"text-align: right;\">\n",
       "      <th></th>\n",
       "      <th>athlete_id</th>\n",
       "      <th>name</th>\n",
       "      <th>sex</th>\n",
       "      <th>height</th>\n",
       "      <th>weight</th>\n",
       "      <th>country</th>\n",
       "      <th>country_noc_x</th>\n",
       "      <th>edition</th>\n",
       "      <th>sport</th>\n",
       "      <th>event</th>\n",
       "      <th>result_id</th>\n",
       "      <th>medal</th>\n",
       "      <th>isTeamSport</th>\n",
       "      <th>city</th>\n",
       "      <th>country_noc_y</th>\n",
       "      <th>event_year</th>\n",
       "      <th>medalist</th>\n",
       "      <th>home</th>\n",
       "      <th>age</th>\n",
       "      <th>bmi</th>\n",
       "    </tr>\n",
       "  </thead>\n",
       "  <tbody>\n",
       "    <tr>\n",
       "      <th>0</th>\n",
       "      <td>14503</td>\n",
       "      <td>scar Giraldo</td>\n",
       "      <td>Male</td>\n",
       "      <td>175.37</td>\n",
       "      <td>70.62</td>\n",
       "      <td>Colombia</td>\n",
       "      <td>COL</td>\n",
       "      <td>Summer Olympics</td>\n",
       "      <td>Cycling Road</td>\n",
       "      <td>Road Race, Individual, Men</td>\n",
       "      <td>154878</td>\n",
       "      <td>participant</td>\n",
       "      <td>0</td>\n",
       "      <td>Atlanta</td>\n",
       "      <td>USA</td>\n",
       "      <td>1996-01-01</td>\n",
       "      <td>0</td>\n",
       "      <td>0</td>\n",
       "      <td>22.00</td>\n",
       "      <td>22.96</td>\n",
       "    </tr>\n",
       "    <tr>\n",
       "      <th>1</th>\n",
       "      <td>58758</td>\n",
       "      <td>Hossein Mollaghasemi</td>\n",
       "      <td>Male</td>\n",
       "      <td>173.00</td>\n",
       "      <td>63.00</td>\n",
       "      <td>Islamic Republic of Iran</td>\n",
       "      <td>IRI</td>\n",
       "      <td>Summer Olympics</td>\n",
       "      <td>Wrestling</td>\n",
       "      <td>Featherweight, Greco-Roman, Men</td>\n",
       "      <td>124658</td>\n",
       "      <td>participant</td>\n",
       "      <td>0</td>\n",
       "      <td>Roma</td>\n",
       "      <td>ITA</td>\n",
       "      <td>1960-01-01</td>\n",
       "      <td>0</td>\n",
       "      <td>0</td>\n",
       "      <td>26.00</td>\n",
       "      <td>21.05</td>\n",
       "    </tr>\n",
       "    <tr>\n",
       "      <th>2</th>\n",
       "      <td>58758</td>\n",
       "      <td>Hossein Mollaghasemi</td>\n",
       "      <td>Male</td>\n",
       "      <td>173.00</td>\n",
       "      <td>63.00</td>\n",
       "      <td>Islamic Republic of Iran</td>\n",
       "      <td>IRI</td>\n",
       "      <td>Summer Olympics</td>\n",
       "      <td>Wrestling</td>\n",
       "      <td>Lightweight, Greco-Roman, Men</td>\n",
       "      <td>125396</td>\n",
       "      <td>participant</td>\n",
       "      <td>0</td>\n",
       "      <td>Tokyo</td>\n",
       "      <td>JPN</td>\n",
       "      <td>1964-01-01</td>\n",
       "      <td>0</td>\n",
       "      <td>0</td>\n",
       "      <td>30.00</td>\n",
       "      <td>21.05</td>\n",
       "    </tr>\n",
       "    <tr>\n",
       "      <th>3</th>\n",
       "      <td>90217</td>\n",
       "      <td>Enrico Lazzarotto</td>\n",
       "      <td>Male</td>\n",
       "      <td>178.00</td>\n",
       "      <td>72.00</td>\n",
       "      <td>Italy</td>\n",
       "      <td>ITA</td>\n",
       "      <td>Summer Olympics</td>\n",
       "      <td>Canoe Slalom</td>\n",
       "      <td>Kayak Singles, Slalom, Men</td>\n",
       "      <td>256271</td>\n",
       "      <td>participant</td>\n",
       "      <td>0</td>\n",
       "      <td>Sydney</td>\n",
       "      <td>AUS</td>\n",
       "      <td>2000-01-01</td>\n",
       "      <td>0</td>\n",
       "      <td>0</td>\n",
       "      <td>26.00</td>\n",
       "      <td>22.72</td>\n",
       "    </tr>\n",
       "    <tr>\n",
       "      <th>4</th>\n",
       "      <td>74565</td>\n",
       "      <td>John Hou</td>\n",
       "      <td>Male</td>\n",
       "      <td>178.00</td>\n",
       "      <td>60.00</td>\n",
       "      <td>Papua New Guinea</td>\n",
       "      <td>PNG</td>\n",
       "      <td>Summer Olympics</td>\n",
       "      <td>Athletics</td>\n",
       "      <td>100 metres, Men</td>\n",
       "      <td>63261</td>\n",
       "      <td>participant</td>\n",
       "      <td>0</td>\n",
       "      <td>Seoul</td>\n",
       "      <td>KOR</td>\n",
       "      <td>1988-01-01</td>\n",
       "      <td>0</td>\n",
       "      <td>0</td>\n",
       "      <td>20.00</td>\n",
       "      <td>18.94</td>\n",
       "    </tr>\n",
       "    <tr>\n",
       "      <th>...</th>\n",
       "      <td>...</td>\n",
       "      <td>...</td>\n",
       "      <td>...</td>\n",
       "      <td>...</td>\n",
       "      <td>...</td>\n",
       "      <td>...</td>\n",
       "      <td>...</td>\n",
       "      <td>...</td>\n",
       "      <td>...</td>\n",
       "      <td>...</td>\n",
       "      <td>...</td>\n",
       "      <td>...</td>\n",
       "      <td>...</td>\n",
       "      <td>...</td>\n",
       "      <td>...</td>\n",
       "      <td>...</td>\n",
       "      <td>...</td>\n",
       "      <td>...</td>\n",
       "      <td>...</td>\n",
       "      <td>...</td>\n",
       "    </tr>\n",
       "    <tr>\n",
       "      <th>314720</th>\n",
       "      <td>30727</td>\n",
       "      <td>Armando Valles</td>\n",
       "      <td>Male</td>\n",
       "      <td>170.00</td>\n",
       "      <td>68.00</td>\n",
       "      <td>Mexico</td>\n",
       "      <td>MEX</td>\n",
       "      <td>Summer Olympics</td>\n",
       "      <td>Artistic Gymnastics</td>\n",
       "      <td>Horse Vault, Men</td>\n",
       "      <td>70306</td>\n",
       "      <td>participant</td>\n",
       "      <td>0</td>\n",
       "      <td>Ciudad de México</td>\n",
       "      <td>MEX</td>\n",
       "      <td>1968-01-01</td>\n",
       "      <td>0</td>\n",
       "      <td>1</td>\n",
       "      <td>26.00</td>\n",
       "      <td>23.53</td>\n",
       "    </tr>\n",
       "    <tr>\n",
       "      <th>314721</th>\n",
       "      <td>30727</td>\n",
       "      <td>Armando Valles</td>\n",
       "      <td>Male</td>\n",
       "      <td>170.00</td>\n",
       "      <td>68.00</td>\n",
       "      <td>Mexico</td>\n",
       "      <td>MEX</td>\n",
       "      <td>Summer Olympics</td>\n",
       "      <td>Artistic Gymnastics</td>\n",
       "      <td>Parallel Bars, Men</td>\n",
       "      <td>70309</td>\n",
       "      <td>participant</td>\n",
       "      <td>0</td>\n",
       "      <td>Ciudad de México</td>\n",
       "      <td>MEX</td>\n",
       "      <td>1968-01-01</td>\n",
       "      <td>0</td>\n",
       "      <td>1</td>\n",
       "      <td>26.00</td>\n",
       "      <td>23.53</td>\n",
       "    </tr>\n",
       "    <tr>\n",
       "      <th>314722</th>\n",
       "      <td>30727</td>\n",
       "      <td>Armando Valles</td>\n",
       "      <td>Male</td>\n",
       "      <td>170.00</td>\n",
       "      <td>68.00</td>\n",
       "      <td>Mexico</td>\n",
       "      <td>MEX</td>\n",
       "      <td>Summer Olympics</td>\n",
       "      <td>Artistic Gymnastics</td>\n",
       "      <td>Horizontal Bar, Men</td>\n",
       "      <td>70312</td>\n",
       "      <td>participant</td>\n",
       "      <td>0</td>\n",
       "      <td>Ciudad de México</td>\n",
       "      <td>MEX</td>\n",
       "      <td>1968-01-01</td>\n",
       "      <td>0</td>\n",
       "      <td>1</td>\n",
       "      <td>26.00</td>\n",
       "      <td>23.53</td>\n",
       "    </tr>\n",
       "    <tr>\n",
       "      <th>314723</th>\n",
       "      <td>30727</td>\n",
       "      <td>Armando Valles</td>\n",
       "      <td>Male</td>\n",
       "      <td>170.00</td>\n",
       "      <td>68.00</td>\n",
       "      <td>Mexico</td>\n",
       "      <td>MEX</td>\n",
       "      <td>Summer Olympics</td>\n",
       "      <td>Artistic Gymnastics</td>\n",
       "      <td>Rings, Men</td>\n",
       "      <td>70315</td>\n",
       "      <td>participant</td>\n",
       "      <td>0</td>\n",
       "      <td>Ciudad de México</td>\n",
       "      <td>MEX</td>\n",
       "      <td>1968-01-01</td>\n",
       "      <td>0</td>\n",
       "      <td>1</td>\n",
       "      <td>26.00</td>\n",
       "      <td>23.53</td>\n",
       "    </tr>\n",
       "    <tr>\n",
       "      <th>314724</th>\n",
       "      <td>30727</td>\n",
       "      <td>Armando Valles</td>\n",
       "      <td>Male</td>\n",
       "      <td>170.00</td>\n",
       "      <td>68.00</td>\n",
       "      <td>Mexico</td>\n",
       "      <td>MEX</td>\n",
       "      <td>Summer Olympics</td>\n",
       "      <td>Artistic Gymnastics</td>\n",
       "      <td>Pommelled Horse, Men</td>\n",
       "      <td>70318</td>\n",
       "      <td>participant</td>\n",
       "      <td>0</td>\n",
       "      <td>Ciudad de México</td>\n",
       "      <td>MEX</td>\n",
       "      <td>1968-01-01</td>\n",
       "      <td>0</td>\n",
       "      <td>1</td>\n",
       "      <td>26.00</td>\n",
       "      <td>23.53</td>\n",
       "    </tr>\n",
       "  </tbody>\n",
       "</table>\n",
       "<p>314402 rows × 20 columns</p>\n",
       "</div>"
      ],
      "text/plain": [
       "        athlete_id                  name   sex               height  \\\n",
       "0            14503          scar Giraldo  Male               175.37   \n",
       "1            58758  Hossein Mollaghasemi  Male               173.00   \n",
       "2            58758  Hossein Mollaghasemi  Male               173.00   \n",
       "3            90217     Enrico Lazzarotto  Male               178.00   \n",
       "4            74565              John Hou  Male               178.00   \n",
       "...            ...                   ...   ...                  ...   \n",
       "314720       30727        Armando Valles  Male               170.00   \n",
       "314721       30727        Armando Valles  Male               170.00   \n",
       "314722       30727        Armando Valles  Male               170.00   \n",
       "314723       30727        Armando Valles  Male               170.00   \n",
       "314724       30727        Armando Valles  Male               170.00   \n",
       "\n",
       "                     weight                    country country_noc_x  \\\n",
       "0                     70.62                   Colombia           COL   \n",
       "1                     63.00   Islamic Republic of Iran           IRI   \n",
       "2                     63.00   Islamic Republic of Iran           IRI   \n",
       "3                     72.00                      Italy           ITA   \n",
       "4                     60.00           Papua New Guinea           PNG   \n",
       "...                     ...                        ...           ...   \n",
       "314720                68.00                     Mexico           MEX   \n",
       "314721                68.00                     Mexico           MEX   \n",
       "314722                68.00                     Mexico           MEX   \n",
       "314723                68.00                     Mexico           MEX   \n",
       "314724                68.00                     Mexico           MEX   \n",
       "\n",
       "                 edition                sport  \\\n",
       "0        Summer Olympics         Cycling Road   \n",
       "1        Summer Olympics            Wrestling   \n",
       "2        Summer Olympics            Wrestling   \n",
       "3        Summer Olympics         Canoe Slalom   \n",
       "4        Summer Olympics            Athletics   \n",
       "...                  ...                  ...   \n",
       "314720   Summer Olympics  Artistic Gymnastics   \n",
       "314721   Summer Olympics  Artistic Gymnastics   \n",
       "314722   Summer Olympics  Artistic Gymnastics   \n",
       "314723   Summer Olympics  Artistic Gymnastics   \n",
       "314724   Summer Olympics  Artistic Gymnastics   \n",
       "\n",
       "                                  event  result_id        medal  isTeamSport  \\\n",
       "0            Road Race, Individual, Men     154878  participant            0   \n",
       "1       Featherweight, Greco-Roman, Men     124658  participant            0   \n",
       "2         Lightweight, Greco-Roman, Men     125396  participant            0   \n",
       "3            Kayak Singles, Slalom, Men     256271  participant            0   \n",
       "4                       100 metres, Men      63261  participant            0   \n",
       "...                                 ...        ...          ...          ...   \n",
       "314720                 Horse Vault, Men      70306  participant            0   \n",
       "314721               Parallel Bars, Men      70309  participant            0   \n",
       "314722              Horizontal Bar, Men      70312  participant            0   \n",
       "314723                       Rings, Men      70315  participant            0   \n",
       "314724             Pommelled Horse, Men      70318  participant            0   \n",
       "\n",
       "                    city country_noc_y event_year  medalist  home  \\\n",
       "0                Atlanta           USA 1996-01-01         0     0   \n",
       "1                   Roma           ITA 1960-01-01         0     0   \n",
       "2                  Tokyo           JPN 1964-01-01         0     0   \n",
       "3                 Sydney           AUS 2000-01-01         0     0   \n",
       "4                  Seoul           KOR 1988-01-01         0     0   \n",
       "...                  ...           ...        ...       ...   ...   \n",
       "314720  Ciudad de México           MEX 1968-01-01         0     1   \n",
       "314721  Ciudad de México           MEX 1968-01-01         0     1   \n",
       "314722  Ciudad de México           MEX 1968-01-01         0     1   \n",
       "314723  Ciudad de México           MEX 1968-01-01         0     1   \n",
       "314724  Ciudad de México           MEX 1968-01-01         0     1   \n",
       "\n",
       "                        age                  bmi  \n",
       "0                     22.00                22.96  \n",
       "1                     26.00                21.05  \n",
       "2                     30.00                21.05  \n",
       "3                     26.00                22.72  \n",
       "4                     20.00                18.94  \n",
       "...                     ...                  ...  \n",
       "314720                26.00                23.53  \n",
       "314721                26.00                23.53  \n",
       "314722                26.00                23.53  \n",
       "314723                26.00                23.53  \n",
       "314724                26.00                23.53  \n",
       "\n",
       "[314402 rows x 20 columns]"
      ]
     },
     "execution_count": 8,
     "metadata": {},
     "output_type": "execute_result"
    }
   ],
   "source": [
    "wrangle_o.height_weight_age_data(olympics)\n",
    "olympics = olympics.drop(['born','year_born'], axis=1)\n",
    "olympics"
   ]
  },
  {
   "cell_type": "code",
   "execution_count": 9,
   "id": "6a64d522",
   "metadata": {
    "ExecuteTime": {
     "end_time": "2022-08-17T17:09:22.454501Z",
     "start_time": "2022-08-17T17:09:22.352557Z"
    }
   },
   "outputs": [
    {
     "name": "stdout",
     "output_type": "stream",
     "text": [
      "Data split as follows: Train 56.00%, Validate 24.00%, Test 20.00%\n"
     ]
    },
    {
     "data": {
      "text/plain": [
       "((176064, 20), (75457, 20), (62881, 20))"
      ]
     },
     "execution_count": 9,
     "metadata": {},
     "output_type": "execute_result"
    }
   ],
   "source": [
    "# Split Data\n",
    "train, validate, test = utilities.split_data(olympics)\n",
    "train.shape, validate.shape, test.shape"
   ]
  },
  {
   "cell_type": "code",
   "execution_count": 10,
   "id": "fde751f2",
   "metadata": {
    "ExecuteTime": {
     "end_time": "2022-08-17T17:09:22.459211Z",
     "start_time": "2022-08-17T17:09:22.457313Z"
    }
   },
   "outputs": [],
   "source": [
    "selected_features = ['home','isTeamSport','age','bmi']\n",
    "target = 'medalist'"
   ]
  },
  {
   "cell_type": "code",
   "execution_count": 11,
   "id": "b50fb8a2",
   "metadata": {
    "ExecuteTime": {
     "end_time": "2022-08-17T17:09:22.463209Z",
     "start_time": "2022-08-17T17:09:22.460237Z"
    }
   },
   "outputs": [
    {
     "data": {
      "text/plain": [
       "0.14215285350781534"
      ]
     },
     "execution_count": 11,
     "metadata": {},
     "output_type": "execute_result"
    }
   ],
   "source": [
    "n = train.shape[0]\n",
    "baseline_medal=train.medalist.sum()/n\n",
    "baseline_medal"
   ]
  },
  {
   "cell_type": "code",
   "execution_count": 12,
   "id": "1850305f",
   "metadata": {
    "ExecuteTime": {
     "end_time": "2022-08-17T17:09:22.470048Z",
     "start_time": "2022-08-17T17:09:22.464051Z"
    }
   },
   "outputs": [],
   "source": [
    "X_train = train[selected_features]\n",
    "y_train = train[[target]]\n",
    "\n",
    "X_validate = validate[selected_features]\n",
    "y_validate = validate[[target]]\n",
    "\n",
    "X_test = test[selected_features]\n",
    "y_test = test[[target]]"
   ]
  },
  {
   "cell_type": "code",
   "execution_count": 13,
   "id": "435c8459",
   "metadata": {
    "ExecuteTime": {
     "end_time": "2022-08-17T17:09:22.474261Z",
     "start_time": "2022-08-17T17:09:22.470953Z"
    }
   },
   "outputs": [
    {
     "data": {
      "text/html": [
       "<div>\n",
       "<style scoped>\n",
       "    .dataframe tbody tr th:only-of-type {\n",
       "        vertical-align: middle;\n",
       "    }\n",
       "\n",
       "    .dataframe tbody tr th {\n",
       "        vertical-align: top;\n",
       "    }\n",
       "\n",
       "    .dataframe thead th {\n",
       "        text-align: right;\n",
       "    }\n",
       "</style>\n",
       "<table border=\"1\" class=\"dataframe\">\n",
       "  <thead>\n",
       "    <tr style=\"text-align: right;\">\n",
       "      <th></th>\n",
       "      <th>home</th>\n",
       "      <th>isTeamSport</th>\n",
       "      <th>age</th>\n",
       "      <th>bmi</th>\n",
       "    </tr>\n",
       "  </thead>\n",
       "  <tbody>\n",
       "    <tr>\n",
       "      <th>98265</th>\n",
       "      <td>0</td>\n",
       "      <td>1</td>\n",
       "      <td>32.00</td>\n",
       "      <td>27.34</td>\n",
       "    </tr>\n",
       "    <tr>\n",
       "      <th>177475</th>\n",
       "      <td>0</td>\n",
       "      <td>0</td>\n",
       "      <td>30.00</td>\n",
       "      <td>22.96</td>\n",
       "    </tr>\n",
       "    <tr>\n",
       "      <th>89882</th>\n",
       "      <td>0</td>\n",
       "      <td>1</td>\n",
       "      <td>22.00</td>\n",
       "      <td>23.72</td>\n",
       "    </tr>\n",
       "  </tbody>\n",
       "</table>\n",
       "</div>"
      ],
      "text/plain": [
       "        home  isTeamSport                  age                  bmi\n",
       "98265      0            1                32.00                27.34\n",
       "177475     0            0                30.00                22.96\n",
       "89882      0            1                22.00                23.72"
      ]
     },
     "execution_count": 13,
     "metadata": {},
     "output_type": "execute_result"
    }
   ],
   "source": [
    "# Check Split\n",
    "X_train[:3]"
   ]
  },
  {
   "cell_type": "code",
   "execution_count": 14,
   "id": "14d434fd",
   "metadata": {
    "ExecuteTime": {
     "end_time": "2022-08-17T17:09:22.478286Z",
     "start_time": "2022-08-17T17:09:22.475279Z"
    }
   },
   "outputs": [
    {
     "data": {
      "text/html": [
       "<div>\n",
       "<style scoped>\n",
       "    .dataframe tbody tr th:only-of-type {\n",
       "        vertical-align: middle;\n",
       "    }\n",
       "\n",
       "    .dataframe tbody tr th {\n",
       "        vertical-align: top;\n",
       "    }\n",
       "\n",
       "    .dataframe thead th {\n",
       "        text-align: right;\n",
       "    }\n",
       "</style>\n",
       "<table border=\"1\" class=\"dataframe\">\n",
       "  <thead>\n",
       "    <tr style=\"text-align: right;\">\n",
       "      <th></th>\n",
       "      <th>medalist</th>\n",
       "    </tr>\n",
       "  </thead>\n",
       "  <tbody>\n",
       "    <tr>\n",
       "      <th>98265</th>\n",
       "      <td>0</td>\n",
       "    </tr>\n",
       "    <tr>\n",
       "      <th>177475</th>\n",
       "      <td>0</td>\n",
       "    </tr>\n",
       "    <tr>\n",
       "      <th>89882</th>\n",
       "      <td>0</td>\n",
       "    </tr>\n",
       "  </tbody>\n",
       "</table>\n",
       "</div>"
      ],
      "text/plain": [
       "        medalist\n",
       "98265          0\n",
       "177475         0\n",
       "89882          0"
      ]
     },
     "execution_count": 14,
     "metadata": {},
     "output_type": "execute_result"
    }
   ],
   "source": [
    "y_train[:3]"
   ]
  },
  {
   "cell_type": "markdown",
   "id": "5d55a3cd",
   "metadata": {},
   "source": [
    "## Decision Tree"
   ]
  },
  {
   "cell_type": "code",
   "execution_count": 15,
   "id": "961691df",
   "metadata": {
    "ExecuteTime": {
     "end_time": "2022-08-17T17:09:43.593370Z",
     "start_time": "2022-08-17T17:09:22.479191Z"
    }
   },
   "outputs": [
    {
     "name": "stdout",
     "output_type": "stream",
     "text": [
      "Highest accuracy score on train:\n",
      " 0.8590171755725191 with max depth setting of 9 and min_sample_leaf of 1\n",
      "Highest accuracy score on validate:\n",
      "0.8605695959288071 with max depth setting of 6 and min_sample_leaf of 6\n",
      "This was a drop-off from train of:\n",
      "0.0025009390767533057\n",
      "Lowest drop-off in accuracy from train to validate:\n",
      " 0.002695944274742179 with max depth setting of 1 and min sample leaf of  1\n"
     ]
    }
   ],
   "source": [
    "depths =[]\n",
    "min_samples = []\n",
    "train_accuracies = []\n",
    "train_precisions = []\n",
    "train_recalls = []\n",
    "\n",
    "v_accuracies = []\n",
    "v_precisions = []\n",
    "v_recalls = []\n",
    "min_samples_range = range(1,10)\n",
    "d_range = range(1,10)\n",
    "for d in d_range:\n",
    "    for min_sample in min_samples_range:\n",
    "        clf, train_report = modeling.decision_tree_train(X_train, y_train,selected_features, target, d=d, m = min_sample , print_results=False)\n",
    "        validate_report = modeling.classifier_validate(X_validate,y_validate, clf, print_results=False)\n",
    "\n",
    "        depths.append(d)\n",
    "        min_samples.append(min_sample)\n",
    "        train_accuracies.append(train_report['accuracy'])\n",
    "        train_precisions.append(train_report['precision'])\n",
    "        train_recalls.append(train_report['recall'])\n",
    "\n",
    "        v_accuracies.append(validate_report['accuracy'])\n",
    "        v_precisions.append(validate_report['precision'])\n",
    "        v_recalls.append(validate_report['recall'])\n",
    "\n",
    "train_results_df= pd.DataFrame(data = {\"max_depth\":depths,\"min_samples_leaf\":min_samples,\"accuracy\":train_accuracies,\"precision\":train_precisions,\"recall\":train_recalls})\n",
    "validate_results_df= pd.DataFrame(data = {\"max_depth\":depths,\"min_samples_leaf\":min_samples,\"accuracy\":v_accuracies,\"precision\":v_precisions,\"recall\":v_recalls})\n",
    "\n",
    "combined_df = train_results_df.merge(validate_results_df,on=['max_depth','min_samples_leaf'], suffixes=['_train','_validate'])\n",
    "combined_df[\"accuracy_diff\"] = combined_df.accuracy_validate-combined_df.accuracy_train\n",
    "combined_df[\"precision_diff\"] = combined_df.precision_validate-combined_df.precision_train\n",
    "combined_df[\"recall_diff\"] = combined_df.recall_validate-combined_df.recall_train\n",
    "\n",
    "combined_df = combined_df.sort_values(by =['accuracy_validate','accuracy_diff'], ascending=False)\n",
    "print(f\"Highest accuracy score on train:\\n {combined_df.accuracy_train.max()} with max depth setting of {combined_df.max_depth[combined_df.accuracy_train.idxmax()]} and min_sample_leaf of {combined_df.min_samples_leaf[combined_df.accuracy_train.idxmax()]}\")\n",
    "print(f\"Highest accuracy score on validate:\\n{combined_df.accuracy_validate.max()} with max depth setting of {combined_df.max_depth[combined_df.accuracy_validate.idxmax()]} and min_sample_leaf of {combined_df.min_samples_leaf[combined_df.accuracy_validate.idxmax()]}\")\n",
    "print(f\"This was a drop-off from train of:\\n{combined_df.accuracy_diff[combined_df.accuracy_validate == combined_df.accuracy_validate.max()].array[0]}\")\n",
    "print(f\"Lowest drop-off in accuracy from train to validate:\\n {combined_df.accuracy_diff.max()} with max depth setting of {combined_df.max_depth[combined_df.accuracy_diff == combined_df.accuracy_diff.max()].array[0]} and min sample leaf of  {combined_df.min_samples_leaf[combined_df.accuracy_diff == combined_df.accuracy_diff.max()].array[0]}\")\n",
    "\n",
    "decision_tree_final_results = combined_df\n",
    "decision_tree_final_results[\"model\"] = 'decision_tree'"
   ]
  },
  {
   "cell_type": "code",
   "execution_count": 16,
   "id": "89201d8b",
   "metadata": {
    "ExecuteTime": {
     "end_time": "2022-08-17T17:09:43.868168Z",
     "start_time": "2022-08-17T17:09:43.594183Z"
    }
   },
   "outputs": [
    {
     "data": {
      "image/png": "[encoded data removed]",
      "text/plain": [
       "<Figure size 1152x432 with 6 Axes>"
      ]
     },
     "metadata": {
      "needs_background": "light"
     },
     "output_type": "display_data"
    }
   ],
   "source": [
    "_, ax = plt.subplots(1,3, figsize=(16,6))\n",
    "to_plot = [\"accuracy\",\"precision\",\"recall\"]\n",
    "for i, metric in enumerate(to_plot):\n",
    "    heatmap_df = train_results_df.pivot(\"max_depth\",\"min_samples_leaf\",metric)\n",
    "    # Set floor of accuracy at the baseline \n",
    "    if i == 0:\n",
    "        sns.heatmap(heatmap_df, ax=ax[i], vmin = baseline_medal)\n",
    "        ax[i].set_title(metric)\n",
    "    else:\n",
    "        sns.heatmap(heatmap_df, ax=ax[i])\n",
    "        ax[i].set_title(metric)\n",
    "    plt.suptitle('Train performance')"
   ]
  },
  {
   "cell_type": "code",
   "execution_count": 17,
   "id": "a90676b7",
   "metadata": {
    "ExecuteTime": {
     "end_time": "2022-08-17T17:09:44.186800Z",
     "start_time": "2022-08-17T17:09:43.868967Z"
    }
   },
   "outputs": [
    {
     "data": {
      "image/png": "[encoded data removed]",
      "text/plain": [
       "<Figure size 1152x432 with 6 Axes>"
      ]
     },
     "metadata": {
      "needs_background": "light"
     },
     "output_type": "display_data"
    }
   ],
   "source": [
    "_, ax = plt.subplots(1,3, figsize=(16,6))\n",
    "to_plot = [\"accuracy\",\"precision\",\"recall\"]\n",
    "for i, metric in enumerate(to_plot):\n",
    "    heatmap_df = train_results_df.pivot(\"max_depth\",\"min_samples_leaf\",metric)\n",
    "    # Set floor of accuracy at the baseline \n",
    "    if i == 0:\n",
    "        sns.heatmap(heatmap_df, ax=ax[i], vmin = baseline_medal)\n",
    "        ax[i].set_title(metric)\n",
    "    else:\n",
    "        sns.heatmap(heatmap_df, ax=ax[i])\n",
    "        ax[i].set_title(metric)\n",
    "    plt.suptitle('Train performance')"
   ]
  },
  {
   "cell_type": "code",
   "execution_count": 18,
   "id": "12708c94",
   "metadata": {
    "ExecuteTime": {
     "end_time": "2022-08-17T17:09:44.440719Z",
     "start_time": "2022-08-17T17:09:44.188148Z"
    }
   },
   "outputs": [
    {
     "data": {
      "image/png": "[encoded data removed]",
      "text/plain": [
       "<Figure size 1152x432 with 6 Axes>"
      ]
     },
     "metadata": {
      "needs_background": "light"
     },
     "output_type": "display_data"
    }
   ],
   "source": [
    "_, ax = plt.subplots(1,3, figsize=(16,6))\n",
    "to_plot = [\"accuracy_diff\",\"precision_diff\",\"recall_diff\"]\n",
    "for i, metric in enumerate(to_plot):\n",
    "    heatmap_df = combined_df.pivot(\"max_depth\",\"min_samples_leaf\",metric)\n",
    "    sns.heatmap(heatmap_df, ax=ax[i])\n",
    "    plt.suptitle('Difference between validate and train performance')\n",
    "    ax[i].set_title(metric)"
   ]
  },
  {
   "cell_type": "markdown",
   "id": "a8bfccfb",
   "metadata": {},
   "source": [
    "### Random Forest"
   ]
  },
  {
   "cell_type": "code",
   "execution_count": null,
   "id": "62a61d2c",
   "metadata": {
    "ExecuteTime": {
     "start_time": "2022-08-17T17:17:06.507Z"
    }
   },
   "outputs": [],
   "source": [
    "depths =[]\n",
    "min_samples = []\n",
    "train_accuracies = []\n",
    "train_precisions = []\n",
    "train_recalls = []\n",
    "\n",
    "v_accuracies = []\n",
    "v_precisions = []\n",
    "v_recalls = []\n",
    "min_samples_range = range(1,10)\n",
    "d_range = range(1,10)\n",
    "for d in d_range:\n",
    "    for min_sample in min_samples_range:\n",
    "        clf, train_report = modeling.random_forest_train(X_train, y_train,selected_features, target, d=d, m = min_sample , print_results=False)\n",
    "        validate_report = modeling.classifier_validate(X_validate,y_validate, clf, print_results=False)\n",
    "\n",
    "        depths.append(d)\n",
    "        min_samples.append(min_sample)\n",
    "        train_accuracies.append(train_report['accuracy'])\n",
    "        train_precisions.append(train_report['precision'])\n",
    "        train_recalls.append(train_report['recall'])\n",
    "\n",
    "        v_accuracies.append(validate_report['accuracy'])\n",
    "        v_precisions.append(validate_report['precision'])\n",
    "        v_recalls.append(validate_report['recall'])"
   ]
  },
  {
   "cell_type": "code",
   "execution_count": 20,
   "id": "c23bea5f",
   "metadata": {
    "ExecuteTime": {
     "end_time": "2022-08-17T17:16:54.835798Z",
     "start_time": "2022-08-17T17:16:54.510423Z"
    }
   },
   "outputs": [
    {
     "ename": "AttributeError",
     "evalue": "module 'modeling' has no attribute 'consolidate_results'",
     "output_type": "error",
     "traceback": [
      "\u001b[0;31m---------------------------------------------------------------------------\u001b[0m",
      "\u001b[0;31mAttributeError\u001b[0m                            Traceback (most recent call last)",
      "Input \u001b[0;32mIn [20]\u001b[0m, in \u001b[0;36m<cell line: 10>\u001b[0;34m()\u001b[0m\n\u001b[1;32m      7\u001b[0m combined_df[\u001b[38;5;124m\"\u001b[39m\u001b[38;5;124mrecall_diff\u001b[39m\u001b[38;5;124m\"\u001b[39m] \u001b[38;5;241m=\u001b[39m combined_df\u001b[38;5;241m.\u001b[39mrecall_validate\u001b[38;5;241m-\u001b[39mcombined_df\u001b[38;5;241m.\u001b[39mrecall_train\n\u001b[1;32m      9\u001b[0m \u001b[38;5;66;03m# Combine train and validate results as well as calculate difference in performance between train and validate\u001b[39;00m\n\u001b[0;32m---> 10\u001b[0m combined_df2 \u001b[38;5;241m=\u001b[39m \u001b[43mmodeling\u001b[49m\u001b[38;5;241;43m.\u001b[39;49m\u001b[43mconsolidate_results\u001b[49m(train_results_df, \n\u001b[1;32m     11\u001b[0m                                         validate_results_df, \n\u001b[1;32m     12\u001b[0m                                         join_on \u001b[38;5;241m=\u001b[39m [\u001b[38;5;124m'\u001b[39m\u001b[38;5;124mmax_depth\u001b[39m\u001b[38;5;124m'\u001b[39m,\u001b[38;5;124m'\u001b[39m\u001b[38;5;124mmin_samples_leaf\u001b[39m\u001b[38;5;124m'\u001b[39m])\n\u001b[1;32m     13\u001b[0m combined_df2[\u001b[38;5;124m\"\u001b[39m\u001b[38;5;124malgorithm\u001b[39m\u001b[38;5;124m\"\u001b[39m] \u001b[38;5;241m=\u001b[39m model_name\n\u001b[1;32m     14\u001b[0m \u001b[38;5;66;03m# Concatenate results into one dataframe to hold results for all models\u001b[39;00m\n",
      "\u001b[0;31mAttributeError\u001b[0m: module 'modeling' has no attribute 'consolidate_results'"
     ]
    }
   ],
   "source": [
    "train_results_df= pd.DataFrame(data = {\"max_depth\":depths,\"min_samples_leaf\":min_samples,\"accuracy\":train_accuracies,\"precision\":train_precisions,\"recall\":train_recalls})\n",
    "validate_results_df= pd.DataFrame(data = {\"max_depth\":depths,\"min_samples_leaf\":min_samples,\"accuracy\":v_accuracies,\"precision\":v_precisions,\"recall\":v_recalls})\n",
    "\n",
    "combined_df = train_results_df.merge(validate_results_df,on=['max_depth','min_samples_leaf'], suffixes=['_train','_validate'])\n",
    "combined_df[\"accuracy_diff\"] = combined_df.accuracy_validate-combined_df.accuracy_train\n",
    "combined_df[\"precision_diff\"] = combined_df.precision_validate-combined_df.precision_train\n",
    "combined_df[\"recall_diff\"] = combined_df.recall_validate-combined_df.recall_train\n",
    "\n",
    "# Combine train and validate results as well as calculate difference in performance between train and validate\n",
    "combined_df2 = modeling.consolidate_results(train_results_df, \n",
    "                                        validate_results_df, \n",
    "                                        join_on = ['max_depth','min_samples_leaf'])\n",
    "combined_df2[\"algorithm\"] = model_name\n",
    "# Concatenate results into one dataframe to hold results for all models\n",
    "all_results = pd.concat([all_results,combined_df2])\n",
    "\n",
    "combined_df = combined_df.sort_values(by =['accuracy_validate','accuracy_diff'], ascending=False)\n",
    "print(f\"Highest accuracy score on train:\\n {combined_df.accuracy_train.max()} with max depth setting of {combined_df.max_depth[combined_df.accuracy_train.idxmax()]} and min_sample_leaf of {combined_df.min_samples_leaf[combined_df.accuracy_train.idxmax()]}\")\n",
    "print(f\"Highest accuracy score on validate:\\n{combined_df.accuracy_validate.max()} with max depth setting of {combined_df.max_depth[combined_df.accuracy_validate.idxmax()]} and min_sample_leaf of {combined_df.min_samples_leaf[combined_df.accuracy_validate.idxmax()]}\")\n",
    "print(f\"This was a drop-off from train of:\\n{combined_df.accuracy_diff[combined_df.accuracy_validate == combined_df.accuracy_validate.max()].array[0]}\")\n",
    "print(f\"Lowest drop-off in accuracy from train to validate:\\n {combined_df.accuracy_diff.max()} with max depth setting of {combined_df.max_depth[combined_df.accuracy_diff == combined_df.accuracy_diff.max()].array[0]} and min sample leaf of  {combined_df.min_samples_leaf[combined_df.accuracy_diff == combined_df.accuracy_diff.max()].array[0]}\")\n",
    "\n",
    "random_forest_final_results = combined_df\n",
    "random_forest_final_results[\"model\"] = 'random_forest'"
   ]
  },
  {
   "cell_type": "code",
   "execution_count": null,
   "id": "333246e6",
   "metadata": {
    "ExecuteTime": {
     "end_time": "2022-08-17T17:16:54.836840Z",
     "start_time": "2022-08-17T17:16:54.836835Z"
    }
   },
   "outputs": [],
   "source": [
    "_, ax = plt.subplots(1,3, figsize=(16,6))\n",
    "to_plot = [\"accuracy\",\"precision\",\"recall\"]\n",
    "    \n",
    "for i, metric in enumerate(to_plot):\n",
    "    heatmap_df = train_results_df.pivot(\"max_depth\",\"min_samples_leaf\",metric)\n",
    "    # Set floor of accuracy at the baseline \n",
    "    if i == 0:\n",
    "        sns.heatmap(heatmap_df, ax=ax[i], vmin = baseline_medal)\n",
    "        ax[i].set_title(metric)\n",
    "    else:\n",
    "        sns.heatmap(heatmap_df, ax=ax[i])\n",
    "        ax[i].set_title(metric)\n",
    "    plt.suptitle('Train performance')"
   ]
  },
  {
   "cell_type": "code",
   "execution_count": null,
   "id": "6c597888",
   "metadata": {
    "ExecuteTime": {
     "end_time": "2022-08-17T17:16:54.837347Z",
     "start_time": "2022-08-17T17:16:54.837341Z"
    }
   },
   "outputs": [],
   "source": [
    "_, ax = plt.subplots(1,3, figsize=(16,6))\n",
    "to_plot = [\"accuracy\",\"precision\",\"recall\"]\n",
    "for i, metric in enumerate(to_plot):\n",
    "    heatmap_df = validate_results_df.pivot(\"max_depth\",\"min_samples_leaf\",metric)\n",
    "    # Set floor of accuracy at the baseline \n",
    "    if i == 0:\n",
    "        sns.heatmap(heatmap_df, ax=ax[i], vmin = baseline_medal)\n",
    "        ax[i].set_title(metric)\n",
    "    else:\n",
    "        sns.heatmap(heatmap_df, ax=ax[i])\n",
    "        ax[i].set_title(metric)\n",
    "    plt.suptitle('Validate performance')"
   ]
  },
  {
   "cell_type": "code",
   "execution_count": null,
   "id": "5834fe93",
   "metadata": {
    "ExecuteTime": {
     "end_time": "2022-08-17T17:16:54.837911Z",
     "start_time": "2022-08-17T17:16:54.837905Z"
    }
   },
   "outputs": [],
   "source": [
    "_, ax = plt.subplots(1,3, figsize=(16,6))\n",
    "to_plot = [\"accuracy_diff\",\"precision_diff\",\"recall_diff\"]\n",
    "for i, metric in enumerate(to_plot):\n",
    "    heatmap_df = combined_df.pivot(\"max_depth\",\"min_samples_leaf\",metric)\n",
    "    sns.heatmap(heatmap_df, ax=ax[i])\n",
    "    plt.suptitle('Difference between validate and train performance')\n",
    "    ax[i].set_title(metric)"
   ]
  },
  {
   "cell_type": "markdown",
   "id": "844125eb",
   "metadata": {},
   "source": [
    "### KNN"
   ]
  },
  {
   "cell_type": "code",
   "execution_count": null,
   "id": "22dc013c",
   "metadata": {
    "ExecuteTime": {
     "end_time": "2022-08-17T17:16:54.838435Z",
     "start_time": "2022-08-17T17:16:54.838429Z"
    }
   },
   "outputs": [],
   "source": [
    "ks =[]\n",
    "train_accuracies = []\n",
    "train_precisions = []\n",
    "train_recalls = []\n",
    "\n",
    "v_accuracies = []\n",
    "v_precisions = []\n",
    "v_recalls = []\n",
    "\n",
    "k_range = range(1,100)\n",
    "for k in k_range:\n",
    "\n",
    "    clf, train_report = modeling.knn_train(X_train, y_train, selected_features, target, k=k, print_results=False)\n",
    "    validate_report = modeling.knn_validate(X_validate,y_validate, clf, print_results=False)\n",
    "\n",
    "    ks.append(k)\n",
    "    min_samples.append(min_sample)\n",
    "    train_accuracies.append(train_report['accuracy'])\n",
    "    train_precisions.append(train_report['precision'])\n",
    "    train_recalls.append(train_report['recall'])\n",
    "\n",
    "    v_accuracies.append(validate_report['accuracy'])\n",
    "    v_precisions.append(validate_report['precision'])\n",
    "    v_recalls.append(validate_report['recall'])"
   ]
  },
  {
   "cell_type": "code",
   "execution_count": null,
   "id": "bc21c9cf",
   "metadata": {
    "ExecuteTime": {
     "end_time": "2022-08-17T17:16:54.838980Z",
     "start_time": "2022-08-17T17:16:54.838976Z"
    }
   },
   "outputs": [],
   "source": [
    "train_results_df= pd.DataFrame(data = {\"k\":ks,\"accuracy\":train_accuracies,\"precision\":train_precisions,\"recall\":train_recalls})\n",
    "validate_results_df= pd.DataFrame(data = {\"k\":ks,\"accuracy\":v_accuracies,\"precision\":v_precisions,\"recall\":v_recalls})\n",
    "\n",
    "combined_df = train_results_df.merge(validate_results_df,on=['k'], suffixes=['_train','_validate'])\n",
    "combined_df[\"accuracy_diff\"] = combined_df.accuracy_validate-combined_df.accuracy_train\n",
    "combined_df[\"precision_diff\"] = combined_df.precision_validate-combined_df.precision_train\n",
    "combined_df[\"recall_diff\"] = combined_df.recall_validate-combined_df.recall_train\n",
    "\n",
    "# Combine train and validate results as well as calculate difference in performance between train and validate\n",
    "combined_df2 = modeling.consolidate_results(train_results_df, validate_results_df, join_on = ['k'])\n",
    "combined_df2[\"algorithm\"] = \"k_nearest_neighbors\"\n",
    "# Concatenate results into one dataframe to hold results for all models\n",
    "all_results = pd.concat([all_results,combined_df2])\n",
    "\n",
    "combined_df = combined_df.sort_values(by =['accuracy_validate','accuracy_diff'], ascending=False)\n",
    "print(f\"Highest accuracy score on train:\\n {combined_df.accuracy_train.max()} with k setting of {combined_df.k[combined_df.accuracy_train.idxmax()]}\")\n",
    "print(f\"Highest accuracy score on validate:\\n {combined_df.accuracy_validate.max()} with k setting of {combined_df.k[combined_df.accuracy_validate.idxmax()]}\")\n",
    "print(f\"Lowest drop-off in accuracy from train to validate:\\n {combined_df.accuracy_diff.min()} with k setting of {combined_df.k[combined_df.accuracy_diff == combined_df.accuracy_diff.min()].array[0]}\")\n",
    "\n",
    "knn_final_results = combined_df\n",
    "knn_final_results[\"model\"] = 'k_nearest_neighbors'"
   ]
  },
  {
   "cell_type": "code",
   "execution_count": null,
   "id": "ee86aba3",
   "metadata": {
    "ExecuteTime": {
     "end_time": "2022-08-17T17:16:54.839503Z",
     "start_time": "2022-08-17T17:16:54.839498Z"
    }
   },
   "outputs": [],
   "source": [
    "# Melt metrics into same column to enable clean plotting with seaborn\n",
    "data = pd.melt(combined_df.drop(columns = ['accuracy_diff','precision_diff','recall_diff']), id_vars =['k'], var_name='metric')\n",
    "\n",
    "_, ax = plt.subplots(1,3, figsize=(16,6))\n",
    "to_plot = [\"accuracy\",\"precision\",\"recall\"]\n",
    "for i, metric in enumerate(to_plot):\n",
    "    sns.lineplot(x = data[data.metric.str.contains(metric)].k, \n",
    "                 y = data[data.metric.str.contains(metric)].value, \n",
    "                 hue = data[data.metric.str.contains(metric)].metric,  \n",
    "                 ax=ax[i])\n",
    "    \n",
    "    plt.suptitle(f'KNN Train and validate performance \\nPrecision and recall based on class 1')\n",
    "    plt.tight_layout()\n",
    "    #plt.xticks([analysis_range])\n",
    "    ax[i].legend(title = 'data set')\n",
    "    ax[i].set_title(metric)\n",
    "    if metric == \"accuracy\":\n",
    "        ax[i].set_title('Accuracy (Baseline accuracy shown in green)')\n",
    "        ax[i].axhline(baseline_medal, color = 'green')"
   ]
  },
  {
   "cell_type": "markdown",
   "id": "bf2d2717",
   "metadata": {},
   "source": [
    "### Logistical Regression"
   ]
  },
  {
   "cell_type": "code",
   "execution_count": null,
   "id": "474903ff",
   "metadata": {
    "ExecuteTime": {
     "end_time": "2022-08-17T17:16:54.839981Z",
     "start_time": "2022-08-17T17:16:54.839976Z"
    }
   },
   "outputs": [],
   "source": [
    "cs =[]\n",
    "train_accuracies = []\n",
    "train_precisions = []\n",
    "train_recalls = []\n",
    "\n",
    "v_accuracies = []\n",
    "v_precisions = []\n",
    "v_recalls = []\n",
    "\n",
    "c_range = np.linspace(0.01, 10000, num = 50)#[0.01, 0.1, 1.0, 10, 100, 1000, 10000]\n",
    "for c in c_range:\n",
    "\n",
    "    clf, train_report = modeling.logistic_regression_train(X_train, y_train, selected_features, target, c=c, print_results=False)\n",
    "    validate_report = modeling.logisitic_regression_validate(X_validate,y_validate, clf, print_results=False)\n",
    "\n",
    "    cs.append(clf.C)\n",
    "    min_samples.append(min_sample)\n",
    "    train_accuracies.append(train_report['accuracy'])\n",
    "    train_precisions.append(train_report['precision'])\n",
    "    train_recalls.append(train_report['recall'])\n",
    "\n",
    "    v_accuracies.append(validate_report['accuracy'])\n",
    "    v_precisions.append(validate_report['precision'])\n",
    "    v_recalls.append(validate_report['recall'])"
   ]
  },
  {
   "cell_type": "code",
   "execution_count": null,
   "id": "7e0f4589",
   "metadata": {
    "ExecuteTime": {
     "end_time": "2022-08-17T17:16:54.840407Z",
     "start_time": "2022-08-17T17:16:54.840401Z"
    }
   },
   "outputs": [],
   "source": [
    "train_results_df= pd.DataFrame(data = {\"c\":cs,\"accuracy\":train_accuracies,\"precision\":train_precisions,\"recall\":train_recalls})\n",
    "validate_results_df= pd.DataFrame(data = {\"c\":cs,\"accuracy\":v_accuracies,\"precision\":v_precisions,\"recall\":v_recalls})\n",
    "\n",
    "combined_df = train_results_df.merge(validate_results_df,on=['c'], suffixes=['_train','_validate'])\n",
    "combined_df[\"accuracy_diff\"] = combined_df.accuracy_validate-combined_df.accuracy_train\n",
    "combined_df[\"precision_diff\"] = combined_df.precision_validate-combined_df.precision_train\n",
    "combined_df[\"recall_diff\"] = combined_df.recall_validate-combined_df.recall_train\n",
    "\n",
    "combined_df2 = modeling.consolidate_results(train_results_df, validate_results_df, join_on = ['c'])\n",
    "combined_df2[\"algorithm\"] = \"logistic_regression\"\n",
    "all_results = pd.concat([all_results,combined_df2])\n",
    "\n",
    "combined_df2 = modeling.consolidate_results(train_results_df, validate_results_df, join_on = ['c'])\n",
    "combined_df2[\"algorithm\"] = \"logistic_regression\"\n",
    "all_results = pd.concat([all_results,combined_df2])\n",
    "\n",
    "combined_df = combined_df.sort_values(by =['accuracy_validate','accuracy_diff'], ascending=False)\n",
    "print(f\"Highest accuracy score on train:\\n {combined_df.accuracy_train.max()} with c setting of {combined_df.c[combined_df.accuracy_train.idxmax()]}\")\n",
    "print(f\"Highest accuracy score on validate:\\n {combined_df.accuracy_validate.max()} with c setting of {combined_df.c[combined_df.accuracy_validate.idxmax()]}\")\n",
    "print(f\"Lowest drop-off in accuracy from train to validate:\\n {combined_df.accuracy_diff.min()} with c setting of {combined_df.c[combined_df.accuracy_diff == combined_df.accuracy_diff.min()].array[0]}\")\n",
    "\n",
    "logistic_regression_final_results = combined_df\n",
    "logistic_regression_final_results[\"model\"] = 'logistic_regression'\n",
    "\n"
   ]
  },
  {
   "cell_type": "code",
   "execution_count": null,
   "id": "1c9ef794",
   "metadata": {
    "ExecuteTime": {
     "end_time": "2022-08-17T17:16:54.840961Z",
     "start_time": "2022-08-17T17:16:54.840952Z"
    }
   },
   "outputs": [],
   "source": [
    "# Melt metrics into same column to enable clean plotting with seaborn\n",
    "data = pd.melt(combined_df.drop(columns = ['accuracy_diff','precision_diff','recall_diff']), id_vars =['c'], var_name='metric')\n",
    "\n",
    "_, ax = plt.subplots(1,3, figsize=(16,6))\n",
    "to_plot = [\"accuracy\",\"precision\",\"recall\"]\n",
    "for i, metric in enumerate(to_plot):\n",
    "    sns.lineplot(x = data[data.metric.str.contains(metric)].c, \n",
    "                 y = data[data.metric.str.contains(metric)].value, \n",
    "                 hue = data[data.metric.str.contains(metric)].metric,  \n",
    "                 ax=ax[i])\n",
    "    \n",
    "    plt.suptitle(f'Logistic Regression Train and Validate performance \\nPrecision and recall based on class 1')\n",
    "    plt.tight_layout()\n",
    "    #plt.xticks([analysis_range])\n",
    "    ax[i].legend(title = 'data set')\n",
    "    ax[i].set_title(metric)\n",
    "    if metric == \"accuracy\":\n",
    "        ax[i].set_title('Accuracy (Baseline accuracy shown in green)')\n",
    "        ax[i].axhline(baseline_medal, color = 'green')"
   ]
  },
  {
   "cell_type": "code",
   "execution_count": null,
   "id": "e431fa98",
   "metadata": {
    "ExecuteTime": {
     "end_time": "2022-08-17T17:16:54.841432Z",
     "start_time": "2022-08-17T17:16:54.841427Z"
    }
   },
   "outputs": [],
   "source": [
    "final_results = pd.concat([decision_tree_final_results,random_forest_final_results,knn_final_results,logistic_regression_final_results])"
   ]
  },
  {
   "cell_type": "code",
   "execution_count": null,
   "id": "0280595a",
   "metadata": {
    "ExecuteTime": {
     "end_time": "2022-08-17T17:16:54.841932Z",
     "start_time": "2022-08-17T17:16:54.841927Z"
    }
   },
   "outputs": [],
   "source": [
    "final_results.sort_values(by='accuracy_validate', ascending=False)"
   ]
  },
  {
   "cell_type": "markdown",
   "id": "5399d9d3",
   "metadata": {
    "ExecuteTime": {
     "end_time": "2022-08-17T16:42:20.386142Z",
     "start_time": "2022-08-17T16:42:20.359453Z"
    }
   },
   "source": [
    "# Takeaway\n",
    "#### Top 3 Models based on Accuracy\n",
    "- Random Forest W/ depth of 9 and sample leaf of 9\n",
    "- KNN with K at 58\n",
    "- KNN with K at 46\n",
    "\n",
    "Precision Difference Highest With KNN with K at 46.  *** Test Model ***"
   ]
  },
  {
   "cell_type": "code",
   "execution_count": null,
   "id": "de8ed3b2",
   "metadata": {
    "ExecuteTime": {
     "end_time": "2022-08-17T17:16:54.842623Z",
     "start_time": "2022-08-17T17:16:54.842618Z"
    }
   },
   "outputs": [],
   "source": [
    "selected_features = ['home','isTeamSport','age','bmi']\n",
    "clf, train_report = modeling.knn_train(X_train, y_train, selected_features, target, k=46, print_results=False)"
   ]
  },
  {
   "cell_type": "code",
   "execution_count": null,
   "id": "e4463e45",
   "metadata": {
    "ExecuteTime": {
     "end_time": "2022-08-17T17:16:54.844335Z",
     "start_time": "2022-08-17T17:16:54.844327Z"
    }
   },
   "outputs": [],
   "source": [
    "test_report = modeling.knn_validate(X_test,y_test, clf, print_results=False)\n",
    "test_report"
   ]
  },
  {
   "cell_type": "code",
   "execution_count": null,
   "id": "05cd2c6d",
   "metadata": {
    "ExecuteTime": {
     "end_time": "2022-08-17T17:16:54.844785Z",
     "start_time": "2022-08-17T17:16:54.844780Z"
    }
   },
   "outputs": [],
   "source": [
    "# Create dataframe of the test report\n",
    "test_report = pd.DataFrame(data = [test_report])\n",
    "# Append '_test' to each column in test\n",
    "test_report.columns = [c+'_test' for c in test_report]\n",
    "# Get row for selected k value\n",
    "final_result = all_results[all_results.k == 46]\n",
    "# Merge train, validate, and test results into one dataframe\n",
    "final_result = pd.merge(final_result, test_report,left_on='k',right_on='k_test')"
   ]
  },
  {
   "cell_type": "code",
   "execution_count": null,
   "id": "0fa1c0e5",
   "metadata": {
    "ExecuteTime": {
     "end_time": "2022-08-17T17:16:54.845105Z",
     "start_time": "2022-08-17T17:16:54.845100Z"
    }
   },
   "outputs": [],
   "source": [
    "# Compare accuracy from different data sets\n",
    "plt.bar(x=['Train Accuracy',\n",
    "           'Validate Accuracy',\n",
    "           'Test Accuracy'],\n",
    "        height = [final_result.accuracy_train[0], final_result.accuracy_validate[0], final_result.accuracy_test[0]],\n",
    "       color = ('b','b','g'))\n",
    "plt.ylim(0.7,0.82)\n",
    "plt.title('Accuracy Comparison\\nRed Line is Baseline', fontsize=18)\n",
    "plt.axhline(baseline_accuracy, color = 'r')"
   ]
  },
  {
   "cell_type": "code",
   "execution_count": null,
   "id": "149ca2d8",
   "metadata": {},
   "outputs": [],
   "source": []
  }
 ],
 "metadata": {
  "kernelspec": {
   "display_name": "Python 3 (ipykernel)",
   "language": "python",
   "name": "python3"
  },
  "language_info": {
   "codemirror_mode": {
    "name": "ipython",
    "version": 3
   },
   "file_extension": ".py",
   "mimetype": "text/x-python",
   "name": "python",
   "nbconvert_exporter": "python",
   "pygments_lexer": "ipython3",
   "version": "3.9.13"
  }
 },
 "nbformat": 4,
 "nbformat_minor": 5
}
