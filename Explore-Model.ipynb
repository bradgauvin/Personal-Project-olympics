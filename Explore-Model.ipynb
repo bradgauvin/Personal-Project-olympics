{
 "cells": [
  {
   "cell_type": "code",
   "execution_count": 1,
   "id": "42e03da5",
   "metadata": {
    "ExecuteTime": {
     "end_time": "2022-08-17T01:20:55.100700Z",
     "start_time": "2022-08-17T01:20:51.169598Z"
    }
   },
   "outputs": [],
   "source": [
    "import pandas as pd\n",
    "import numpy as np\n",
    "import opendatasets as od\n",
    "import os\n",
    "import pandas as pd\n",
    "import numpy as np\n",
    "import seaborn as sns\n",
    "import scipy.stats as stats\n",
    "import matplotlib.pyplot as plt\n",
    "from datetime import datetime\n",
    "\n",
    "#Local Libraries\n",
    "import wrangle_o\n",
    "import utilities\n",
    "import modeling\n",
    "\n",
    "# default pandas decimal number display format\n",
    "pd.options.display.float_format = '{:20,.2f}'.format"
   ]
  },
  {
   "cell_type": "code",
   "execution_count": 2,
   "id": "d171bb2f",
   "metadata": {
    "ExecuteTime": {
     "end_time": "2022-08-17T01:20:55.992531Z",
     "start_time": "2022-08-17T01:20:55.101734Z"
    }
   },
   "outputs": [
    {
     "name": "stdout",
     "output_type": "stream",
     "text": [
      "Olympic data pulled\n"
     ]
    }
   ],
   "source": [
    "wrangle_o.pull_data()"
   ]
  },
  {
   "cell_type": "code",
   "execution_count": 3,
   "id": "41dd5083",
   "metadata": {
    "ExecuteTime": {
     "end_time": "2022-08-17T01:20:59.496661Z",
     "start_time": "2022-08-17T01:20:55.993261Z"
    }
   },
   "outputs": [],
   "source": [
    "# To fill na, adjust \"born\" column to approriate date formats\n",
    "wrangle_o.athlete_bio()"
   ]
  },
  {
   "cell_type": "code",
   "execution_count": 4,
   "id": "4c62aedb",
   "metadata": {
    "ExecuteTime": {
     "end_time": "2022-08-17T01:21:00.353810Z",
     "start_time": "2022-08-17T01:20:59.497984Z"
    }
   },
   "outputs": [],
   "source": [
    "bio = pd.read_csv('clean_olympic_athlete_bio.csv',keep_default_na=False)\n",
    "er = pd.read_csv('Olympic_Athlete_Event_Results.csv')\n",
    "res = pd.read_csv('Olympic_Results.csv')\n",
    "country = pd.read_csv('Olympics_country.csv')\n",
    "games = pd.read_csv('Olympics_Games.csv')\n",
    "mt = pd.read_csv('Olympic_Games_Medal_Tally.csv')"
   ]
  },
  {
   "cell_type": "code",
   "execution_count": 5,
   "id": "39c70841",
   "metadata": {
    "ExecuteTime": {
     "end_time": "2022-08-17T01:21:00.566343Z",
     "start_time": "2022-08-17T01:21:00.354665Z"
    }
   },
   "outputs": [
    {
     "name": "stdout",
     "output_type": "stream",
     "text": [
      "Use df: 'olympics'\n"
     ]
    }
   ],
   "source": [
    "olympics = wrangle_o.merge_data(bio, er, res, country, games)"
   ]
  },
  {
   "cell_type": "code",
   "execution_count": 6,
   "id": "cf77a15b",
   "metadata": {
    "ExecuteTime": {
     "end_time": "2022-08-17T01:21:01.104615Z",
     "start_time": "2022-08-17T01:21:00.567273Z"
    }
   },
   "outputs": [],
   "source": [
    "olympics = wrangle_o.wrangle_olympics(olympics)"
   ]
  },
  {
   "cell_type": "code",
   "execution_count": 7,
   "id": "59035c46",
   "metadata": {
    "ExecuteTime": {
     "end_time": "2022-08-17T01:21:52.998138Z",
     "start_time": "2022-08-17T01:21:01.105583Z"
    }
   },
   "outputs": [],
   "source": [
    "# Long code of replacing weight measurements and birth data- Takes a bit of time\n",
    "olympics = wrangle_o.replace_olympics(olympics)"
   ]
  },
  {
   "cell_type": "code",
   "execution_count": 8,
   "id": "8db6c155",
   "metadata": {
    "ExecuteTime": {
     "end_time": "2022-08-17T01:21:53.335848Z",
     "start_time": "2022-08-17T01:21:53.001615Z"
    }
   },
   "outputs": [
    {
     "data": {
      "text/html": [
       "<div>\n",
       "<style scoped>\n",
       "    .dataframe tbody tr th:only-of-type {\n",
       "        vertical-align: middle;\n",
       "    }\n",
       "\n",
       "    .dataframe tbody tr th {\n",
       "        vertical-align: top;\n",
       "    }\n",
       "\n",
       "    .dataframe thead th {\n",
       "        text-align: right;\n",
       "    }\n",
       "</style>\n",
       "<table border=\"1\" class=\"dataframe\">\n",
       "  <thead>\n",
       "    <tr style=\"text-align: right;\">\n",
       "      <th></th>\n",
       "      <th>athlete_id</th>\n",
       "      <th>name</th>\n",
       "      <th>sex</th>\n",
       "      <th>height</th>\n",
       "      <th>weight</th>\n",
       "      <th>country</th>\n",
       "      <th>country_noc_x</th>\n",
       "      <th>edition</th>\n",
       "      <th>sport</th>\n",
       "      <th>event</th>\n",
       "      <th>result_id</th>\n",
       "      <th>medal</th>\n",
       "      <th>isTeamSport</th>\n",
       "      <th>city</th>\n",
       "      <th>country_noc_y</th>\n",
       "      <th>event_year</th>\n",
       "      <th>medalist</th>\n",
       "      <th>home</th>\n",
       "      <th>age</th>\n",
       "      <th>bmi</th>\n",
       "    </tr>\n",
       "  </thead>\n",
       "  <tbody>\n",
       "    <tr>\n",
       "      <th>0</th>\n",
       "      <td>14503</td>\n",
       "      <td>scar Giraldo</td>\n",
       "      <td>Male</td>\n",
       "      <td>175.37</td>\n",
       "      <td>70.62</td>\n",
       "      <td>Colombia</td>\n",
       "      <td>COL</td>\n",
       "      <td>Summer Olympics</td>\n",
       "      <td>Cycling Road</td>\n",
       "      <td>Road Race, Individual, Men</td>\n",
       "      <td>154878</td>\n",
       "      <td>participant</td>\n",
       "      <td>0</td>\n",
       "      <td>Atlanta</td>\n",
       "      <td>USA</td>\n",
       "      <td>1996-01-01</td>\n",
       "      <td>0</td>\n",
       "      <td>0</td>\n",
       "      <td>22.00</td>\n",
       "      <td>22.96</td>\n",
       "    </tr>\n",
       "    <tr>\n",
       "      <th>1</th>\n",
       "      <td>58758</td>\n",
       "      <td>Hossein Mollaghasemi</td>\n",
       "      <td>Male</td>\n",
       "      <td>173.00</td>\n",
       "      <td>63.00</td>\n",
       "      <td>Islamic Republic of Iran</td>\n",
       "      <td>IRI</td>\n",
       "      <td>Summer Olympics</td>\n",
       "      <td>Wrestling</td>\n",
       "      <td>Featherweight, Greco-Roman, Men</td>\n",
       "      <td>124658</td>\n",
       "      <td>participant</td>\n",
       "      <td>0</td>\n",
       "      <td>Roma</td>\n",
       "      <td>ITA</td>\n",
       "      <td>1960-01-01</td>\n",
       "      <td>0</td>\n",
       "      <td>0</td>\n",
       "      <td>26.00</td>\n",
       "      <td>21.05</td>\n",
       "    </tr>\n",
       "    <tr>\n",
       "      <th>2</th>\n",
       "      <td>58758</td>\n",
       "      <td>Hossein Mollaghasemi</td>\n",
       "      <td>Male</td>\n",
       "      <td>173.00</td>\n",
       "      <td>63.00</td>\n",
       "      <td>Islamic Republic of Iran</td>\n",
       "      <td>IRI</td>\n",
       "      <td>Summer Olympics</td>\n",
       "      <td>Wrestling</td>\n",
       "      <td>Lightweight, Greco-Roman, Men</td>\n",
       "      <td>125396</td>\n",
       "      <td>participant</td>\n",
       "      <td>0</td>\n",
       "      <td>Tokyo</td>\n",
       "      <td>JPN</td>\n",
       "      <td>1964-01-01</td>\n",
       "      <td>0</td>\n",
       "      <td>0</td>\n",
       "      <td>30.00</td>\n",
       "      <td>21.05</td>\n",
       "    </tr>\n",
       "    <tr>\n",
       "      <th>3</th>\n",
       "      <td>90217</td>\n",
       "      <td>Enrico Lazzarotto</td>\n",
       "      <td>Male</td>\n",
       "      <td>178.00</td>\n",
       "      <td>72.00</td>\n",
       "      <td>Italy</td>\n",
       "      <td>ITA</td>\n",
       "      <td>Summer Olympics</td>\n",
       "      <td>Canoe Slalom</td>\n",
       "      <td>Kayak Singles, Slalom, Men</td>\n",
       "      <td>256271</td>\n",
       "      <td>participant</td>\n",
       "      <td>0</td>\n",
       "      <td>Sydney</td>\n",
       "      <td>AUS</td>\n",
       "      <td>2000-01-01</td>\n",
       "      <td>0</td>\n",
       "      <td>0</td>\n",
       "      <td>26.00</td>\n",
       "      <td>22.72</td>\n",
       "    </tr>\n",
       "    <tr>\n",
       "      <th>4</th>\n",
       "      <td>74565</td>\n",
       "      <td>John Hou</td>\n",
       "      <td>Male</td>\n",
       "      <td>178.00</td>\n",
       "      <td>60.00</td>\n",
       "      <td>Papua New Guinea</td>\n",
       "      <td>PNG</td>\n",
       "      <td>Summer Olympics</td>\n",
       "      <td>Athletics</td>\n",
       "      <td>100 metres, Men</td>\n",
       "      <td>63261</td>\n",
       "      <td>participant</td>\n",
       "      <td>0</td>\n",
       "      <td>Seoul</td>\n",
       "      <td>KOR</td>\n",
       "      <td>1988-01-01</td>\n",
       "      <td>0</td>\n",
       "      <td>0</td>\n",
       "      <td>20.00</td>\n",
       "      <td>18.94</td>\n",
       "    </tr>\n",
       "    <tr>\n",
       "      <th>...</th>\n",
       "      <td>...</td>\n",
       "      <td>...</td>\n",
       "      <td>...</td>\n",
       "      <td>...</td>\n",
       "      <td>...</td>\n",
       "      <td>...</td>\n",
       "      <td>...</td>\n",
       "      <td>...</td>\n",
       "      <td>...</td>\n",
       "      <td>...</td>\n",
       "      <td>...</td>\n",
       "      <td>...</td>\n",
       "      <td>...</td>\n",
       "      <td>...</td>\n",
       "      <td>...</td>\n",
       "      <td>...</td>\n",
       "      <td>...</td>\n",
       "      <td>...</td>\n",
       "      <td>...</td>\n",
       "      <td>...</td>\n",
       "    </tr>\n",
       "    <tr>\n",
       "      <th>314720</th>\n",
       "      <td>30727</td>\n",
       "      <td>Armando Valles</td>\n",
       "      <td>Male</td>\n",
       "      <td>170.00</td>\n",
       "      <td>68.00</td>\n",
       "      <td>Mexico</td>\n",
       "      <td>MEX</td>\n",
       "      <td>Summer Olympics</td>\n",
       "      <td>Artistic Gymnastics</td>\n",
       "      <td>Horse Vault, Men</td>\n",
       "      <td>70306</td>\n",
       "      <td>participant</td>\n",
       "      <td>0</td>\n",
       "      <td>Ciudad de México</td>\n",
       "      <td>MEX</td>\n",
       "      <td>1968-01-01</td>\n",
       "      <td>0</td>\n",
       "      <td>1</td>\n",
       "      <td>26.00</td>\n",
       "      <td>23.53</td>\n",
       "    </tr>\n",
       "    <tr>\n",
       "      <th>314721</th>\n",
       "      <td>30727</td>\n",
       "      <td>Armando Valles</td>\n",
       "      <td>Male</td>\n",
       "      <td>170.00</td>\n",
       "      <td>68.00</td>\n",
       "      <td>Mexico</td>\n",
       "      <td>MEX</td>\n",
       "      <td>Summer Olympics</td>\n",
       "      <td>Artistic Gymnastics</td>\n",
       "      <td>Parallel Bars, Men</td>\n",
       "      <td>70309</td>\n",
       "      <td>participant</td>\n",
       "      <td>0</td>\n",
       "      <td>Ciudad de México</td>\n",
       "      <td>MEX</td>\n",
       "      <td>1968-01-01</td>\n",
       "      <td>0</td>\n",
       "      <td>1</td>\n",
       "      <td>26.00</td>\n",
       "      <td>23.53</td>\n",
       "    </tr>\n",
       "    <tr>\n",
       "      <th>314722</th>\n",
       "      <td>30727</td>\n",
       "      <td>Armando Valles</td>\n",
       "      <td>Male</td>\n",
       "      <td>170.00</td>\n",
       "      <td>68.00</td>\n",
       "      <td>Mexico</td>\n",
       "      <td>MEX</td>\n",
       "      <td>Summer Olympics</td>\n",
       "      <td>Artistic Gymnastics</td>\n",
       "      <td>Horizontal Bar, Men</td>\n",
       "      <td>70312</td>\n",
       "      <td>participant</td>\n",
       "      <td>0</td>\n",
       "      <td>Ciudad de México</td>\n",
       "      <td>MEX</td>\n",
       "      <td>1968-01-01</td>\n",
       "      <td>0</td>\n",
       "      <td>1</td>\n",
       "      <td>26.00</td>\n",
       "      <td>23.53</td>\n",
       "    </tr>\n",
       "    <tr>\n",
       "      <th>314723</th>\n",
       "      <td>30727</td>\n",
       "      <td>Armando Valles</td>\n",
       "      <td>Male</td>\n",
       "      <td>170.00</td>\n",
       "      <td>68.00</td>\n",
       "      <td>Mexico</td>\n",
       "      <td>MEX</td>\n",
       "      <td>Summer Olympics</td>\n",
       "      <td>Artistic Gymnastics</td>\n",
       "      <td>Rings, Men</td>\n",
       "      <td>70315</td>\n",
       "      <td>participant</td>\n",
       "      <td>0</td>\n",
       "      <td>Ciudad de México</td>\n",
       "      <td>MEX</td>\n",
       "      <td>1968-01-01</td>\n",
       "      <td>0</td>\n",
       "      <td>1</td>\n",
       "      <td>26.00</td>\n",
       "      <td>23.53</td>\n",
       "    </tr>\n",
       "    <tr>\n",
       "      <th>314724</th>\n",
       "      <td>30727</td>\n",
       "      <td>Armando Valles</td>\n",
       "      <td>Male</td>\n",
       "      <td>170.00</td>\n",
       "      <td>68.00</td>\n",
       "      <td>Mexico</td>\n",
       "      <td>MEX</td>\n",
       "      <td>Summer Olympics</td>\n",
       "      <td>Artistic Gymnastics</td>\n",
       "      <td>Pommelled Horse, Men</td>\n",
       "      <td>70318</td>\n",
       "      <td>participant</td>\n",
       "      <td>0</td>\n",
       "      <td>Ciudad de México</td>\n",
       "      <td>MEX</td>\n",
       "      <td>1968-01-01</td>\n",
       "      <td>0</td>\n",
       "      <td>1</td>\n",
       "      <td>26.00</td>\n",
       "      <td>23.53</td>\n",
       "    </tr>\n",
       "  </tbody>\n",
       "</table>\n",
       "<p>314402 rows × 20 columns</p>\n",
       "</div>"
      ],
      "text/plain": [
       "        athlete_id                  name   sex               height  \\\n",
       "0            14503          scar Giraldo  Male               175.37   \n",
       "1            58758  Hossein Mollaghasemi  Male               173.00   \n",
       "2            58758  Hossein Mollaghasemi  Male               173.00   \n",
       "3            90217     Enrico Lazzarotto  Male               178.00   \n",
       "4            74565              John Hou  Male               178.00   \n",
       "...            ...                   ...   ...                  ...   \n",
       "314720       30727        Armando Valles  Male               170.00   \n",
       "314721       30727        Armando Valles  Male               170.00   \n",
       "314722       30727        Armando Valles  Male               170.00   \n",
       "314723       30727        Armando Valles  Male               170.00   \n",
       "314724       30727        Armando Valles  Male               170.00   \n",
       "\n",
       "                     weight                    country country_noc_x  \\\n",
       "0                     70.62                   Colombia           COL   \n",
       "1                     63.00   Islamic Republic of Iran           IRI   \n",
       "2                     63.00   Islamic Republic of Iran           IRI   \n",
       "3                     72.00                      Italy           ITA   \n",
       "4                     60.00           Papua New Guinea           PNG   \n",
       "...                     ...                        ...           ...   \n",
       "314720                68.00                     Mexico           MEX   \n",
       "314721                68.00                     Mexico           MEX   \n",
       "314722                68.00                     Mexico           MEX   \n",
       "314723                68.00                     Mexico           MEX   \n",
       "314724                68.00                     Mexico           MEX   \n",
       "\n",
       "                 edition                sport  \\\n",
       "0        Summer Olympics         Cycling Road   \n",
       "1        Summer Olympics            Wrestling   \n",
       "2        Summer Olympics            Wrestling   \n",
       "3        Summer Olympics         Canoe Slalom   \n",
       "4        Summer Olympics            Athletics   \n",
       "...                  ...                  ...   \n",
       "314720   Summer Olympics  Artistic Gymnastics   \n",
       "314721   Summer Olympics  Artistic Gymnastics   \n",
       "314722   Summer Olympics  Artistic Gymnastics   \n",
       "314723   Summer Olympics  Artistic Gymnastics   \n",
       "314724   Summer Olympics  Artistic Gymnastics   \n",
       "\n",
       "                                  event  result_id        medal  isTeamSport  \\\n",
       "0            Road Race, Individual, Men     154878  participant            0   \n",
       "1       Featherweight, Greco-Roman, Men     124658  participant            0   \n",
       "2         Lightweight, Greco-Roman, Men     125396  participant            0   \n",
       "3            Kayak Singles, Slalom, Men     256271  participant            0   \n",
       "4                       100 metres, Men      63261  participant            0   \n",
       "...                                 ...        ...          ...          ...   \n",
       "314720                 Horse Vault, Men      70306  participant            0   \n",
       "314721               Parallel Bars, Men      70309  participant            0   \n",
       "314722              Horizontal Bar, Men      70312  participant            0   \n",
       "314723                       Rings, Men      70315  participant            0   \n",
       "314724             Pommelled Horse, Men      70318  participant            0   \n",
       "\n",
       "                    city country_noc_y event_year  medalist  home  \\\n",
       "0                Atlanta           USA 1996-01-01         0     0   \n",
       "1                   Roma           ITA 1960-01-01         0     0   \n",
       "2                  Tokyo           JPN 1964-01-01         0     0   \n",
       "3                 Sydney           AUS 2000-01-01         0     0   \n",
       "4                  Seoul           KOR 1988-01-01         0     0   \n",
       "...                  ...           ...        ...       ...   ...   \n",
       "314720  Ciudad de México           MEX 1968-01-01         0     1   \n",
       "314721  Ciudad de México           MEX 1968-01-01         0     1   \n",
       "314722  Ciudad de México           MEX 1968-01-01         0     1   \n",
       "314723  Ciudad de México           MEX 1968-01-01         0     1   \n",
       "314724  Ciudad de México           MEX 1968-01-01         0     1   \n",
       "\n",
       "                        age                  bmi  \n",
       "0                     22.00                22.96  \n",
       "1                     26.00                21.05  \n",
       "2                     30.00                21.05  \n",
       "3                     26.00                22.72  \n",
       "4                     20.00                18.94  \n",
       "...                     ...                  ...  \n",
       "314720                26.00                23.53  \n",
       "314721                26.00                23.53  \n",
       "314722                26.00                23.53  \n",
       "314723                26.00                23.53  \n",
       "314724                26.00                23.53  \n",
       "\n",
       "[314402 rows x 20 columns]"
      ]
     },
     "execution_count": 8,
     "metadata": {},
     "output_type": "execute_result"
    }
   ],
   "source": [
    "wrangle_o.height_weight_age_data(olympics)"
   ]
  },
  {
   "cell_type": "code",
   "execution_count": 9,
   "id": "548fe4b6",
   "metadata": {
    "ExecuteTime": {
     "end_time": "2022-08-17T01:21:53.379402Z",
     "start_time": "2022-08-17T01:21:53.336924Z"
    }
   },
   "outputs": [
    {
     "data": {
      "text/html": [
       "<div>\n",
       "<style scoped>\n",
       "    .dataframe tbody tr th:only-of-type {\n",
       "        vertical-align: middle;\n",
       "    }\n",
       "\n",
       "    .dataframe tbody tr th {\n",
       "        vertical-align: top;\n",
       "    }\n",
       "\n",
       "    .dataframe thead th {\n",
       "        text-align: right;\n",
       "    }\n",
       "</style>\n",
       "<table border=\"1\" class=\"dataframe\">\n",
       "  <thead>\n",
       "    <tr style=\"text-align: right;\">\n",
       "      <th></th>\n",
       "      <th>athlete_id</th>\n",
       "      <th>name</th>\n",
       "      <th>sex</th>\n",
       "      <th>height</th>\n",
       "      <th>weight</th>\n",
       "      <th>country</th>\n",
       "      <th>country_noc_x</th>\n",
       "      <th>edition</th>\n",
       "      <th>sport</th>\n",
       "      <th>event</th>\n",
       "      <th>result_id</th>\n",
       "      <th>medal</th>\n",
       "      <th>isTeamSport</th>\n",
       "      <th>city</th>\n",
       "      <th>country_noc_y</th>\n",
       "      <th>event_year</th>\n",
       "      <th>medalist</th>\n",
       "      <th>home</th>\n",
       "      <th>age</th>\n",
       "      <th>bmi</th>\n",
       "    </tr>\n",
       "  </thead>\n",
       "  <tbody>\n",
       "    <tr>\n",
       "      <th>0</th>\n",
       "      <td>14503</td>\n",
       "      <td>scar Giraldo</td>\n",
       "      <td>Male</td>\n",
       "      <td>175.37</td>\n",
       "      <td>70.62</td>\n",
       "      <td>Colombia</td>\n",
       "      <td>COL</td>\n",
       "      <td>Summer Olympics</td>\n",
       "      <td>Cycling Road</td>\n",
       "      <td>Road Race, Individual, Men</td>\n",
       "      <td>154878</td>\n",
       "      <td>participant</td>\n",
       "      <td>0</td>\n",
       "      <td>Atlanta</td>\n",
       "      <td>USA</td>\n",
       "      <td>1996-01-01</td>\n",
       "      <td>0</td>\n",
       "      <td>0</td>\n",
       "      <td>22.00</td>\n",
       "      <td>22.96</td>\n",
       "    </tr>\n",
       "    <tr>\n",
       "      <th>1</th>\n",
       "      <td>58758</td>\n",
       "      <td>Hossein Mollaghasemi</td>\n",
       "      <td>Male</td>\n",
       "      <td>173.00</td>\n",
       "      <td>63.00</td>\n",
       "      <td>Islamic Republic of Iran</td>\n",
       "      <td>IRI</td>\n",
       "      <td>Summer Olympics</td>\n",
       "      <td>Wrestling</td>\n",
       "      <td>Featherweight, Greco-Roman, Men</td>\n",
       "      <td>124658</td>\n",
       "      <td>participant</td>\n",
       "      <td>0</td>\n",
       "      <td>Roma</td>\n",
       "      <td>ITA</td>\n",
       "      <td>1960-01-01</td>\n",
       "      <td>0</td>\n",
       "      <td>0</td>\n",
       "      <td>26.00</td>\n",
       "      <td>21.05</td>\n",
       "    </tr>\n",
       "    <tr>\n",
       "      <th>2</th>\n",
       "      <td>58758</td>\n",
       "      <td>Hossein Mollaghasemi</td>\n",
       "      <td>Male</td>\n",
       "      <td>173.00</td>\n",
       "      <td>63.00</td>\n",
       "      <td>Islamic Republic of Iran</td>\n",
       "      <td>IRI</td>\n",
       "      <td>Summer Olympics</td>\n",
       "      <td>Wrestling</td>\n",
       "      <td>Lightweight, Greco-Roman, Men</td>\n",
       "      <td>125396</td>\n",
       "      <td>participant</td>\n",
       "      <td>0</td>\n",
       "      <td>Tokyo</td>\n",
       "      <td>JPN</td>\n",
       "      <td>1964-01-01</td>\n",
       "      <td>0</td>\n",
       "      <td>0</td>\n",
       "      <td>30.00</td>\n",
       "      <td>21.05</td>\n",
       "    </tr>\n",
       "    <tr>\n",
       "      <th>3</th>\n",
       "      <td>90217</td>\n",
       "      <td>Enrico Lazzarotto</td>\n",
       "      <td>Male</td>\n",
       "      <td>178.00</td>\n",
       "      <td>72.00</td>\n",
       "      <td>Italy</td>\n",
       "      <td>ITA</td>\n",
       "      <td>Summer Olympics</td>\n",
       "      <td>Canoe Slalom</td>\n",
       "      <td>Kayak Singles, Slalom, Men</td>\n",
       "      <td>256271</td>\n",
       "      <td>participant</td>\n",
       "      <td>0</td>\n",
       "      <td>Sydney</td>\n",
       "      <td>AUS</td>\n",
       "      <td>2000-01-01</td>\n",
       "      <td>0</td>\n",
       "      <td>0</td>\n",
       "      <td>26.00</td>\n",
       "      <td>22.72</td>\n",
       "    </tr>\n",
       "    <tr>\n",
       "      <th>4</th>\n",
       "      <td>74565</td>\n",
       "      <td>John Hou</td>\n",
       "      <td>Male</td>\n",
       "      <td>178.00</td>\n",
       "      <td>60.00</td>\n",
       "      <td>Papua New Guinea</td>\n",
       "      <td>PNG</td>\n",
       "      <td>Summer Olympics</td>\n",
       "      <td>Athletics</td>\n",
       "      <td>100 metres, Men</td>\n",
       "      <td>63261</td>\n",
       "      <td>participant</td>\n",
       "      <td>0</td>\n",
       "      <td>Seoul</td>\n",
       "      <td>KOR</td>\n",
       "      <td>1988-01-01</td>\n",
       "      <td>0</td>\n",
       "      <td>0</td>\n",
       "      <td>20.00</td>\n",
       "      <td>18.94</td>\n",
       "    </tr>\n",
       "    <tr>\n",
       "      <th>...</th>\n",
       "      <td>...</td>\n",
       "      <td>...</td>\n",
       "      <td>...</td>\n",
       "      <td>...</td>\n",
       "      <td>...</td>\n",
       "      <td>...</td>\n",
       "      <td>...</td>\n",
       "      <td>...</td>\n",
       "      <td>...</td>\n",
       "      <td>...</td>\n",
       "      <td>...</td>\n",
       "      <td>...</td>\n",
       "      <td>...</td>\n",
       "      <td>...</td>\n",
       "      <td>...</td>\n",
       "      <td>...</td>\n",
       "      <td>...</td>\n",
       "      <td>...</td>\n",
       "      <td>...</td>\n",
       "      <td>...</td>\n",
       "    </tr>\n",
       "    <tr>\n",
       "      <th>314720</th>\n",
       "      <td>30727</td>\n",
       "      <td>Armando Valles</td>\n",
       "      <td>Male</td>\n",
       "      <td>170.00</td>\n",
       "      <td>68.00</td>\n",
       "      <td>Mexico</td>\n",
       "      <td>MEX</td>\n",
       "      <td>Summer Olympics</td>\n",
       "      <td>Artistic Gymnastics</td>\n",
       "      <td>Horse Vault, Men</td>\n",
       "      <td>70306</td>\n",
       "      <td>participant</td>\n",
       "      <td>0</td>\n",
       "      <td>Ciudad de México</td>\n",
       "      <td>MEX</td>\n",
       "      <td>1968-01-01</td>\n",
       "      <td>0</td>\n",
       "      <td>1</td>\n",
       "      <td>26.00</td>\n",
       "      <td>23.53</td>\n",
       "    </tr>\n",
       "    <tr>\n",
       "      <th>314721</th>\n",
       "      <td>30727</td>\n",
       "      <td>Armando Valles</td>\n",
       "      <td>Male</td>\n",
       "      <td>170.00</td>\n",
       "      <td>68.00</td>\n",
       "      <td>Mexico</td>\n",
       "      <td>MEX</td>\n",
       "      <td>Summer Olympics</td>\n",
       "      <td>Artistic Gymnastics</td>\n",
       "      <td>Parallel Bars, Men</td>\n",
       "      <td>70309</td>\n",
       "      <td>participant</td>\n",
       "      <td>0</td>\n",
       "      <td>Ciudad de México</td>\n",
       "      <td>MEX</td>\n",
       "      <td>1968-01-01</td>\n",
       "      <td>0</td>\n",
       "      <td>1</td>\n",
       "      <td>26.00</td>\n",
       "      <td>23.53</td>\n",
       "    </tr>\n",
       "    <tr>\n",
       "      <th>314722</th>\n",
       "      <td>30727</td>\n",
       "      <td>Armando Valles</td>\n",
       "      <td>Male</td>\n",
       "      <td>170.00</td>\n",
       "      <td>68.00</td>\n",
       "      <td>Mexico</td>\n",
       "      <td>MEX</td>\n",
       "      <td>Summer Olympics</td>\n",
       "      <td>Artistic Gymnastics</td>\n",
       "      <td>Horizontal Bar, Men</td>\n",
       "      <td>70312</td>\n",
       "      <td>participant</td>\n",
       "      <td>0</td>\n",
       "      <td>Ciudad de México</td>\n",
       "      <td>MEX</td>\n",
       "      <td>1968-01-01</td>\n",
       "      <td>0</td>\n",
       "      <td>1</td>\n",
       "      <td>26.00</td>\n",
       "      <td>23.53</td>\n",
       "    </tr>\n",
       "    <tr>\n",
       "      <th>314723</th>\n",
       "      <td>30727</td>\n",
       "      <td>Armando Valles</td>\n",
       "      <td>Male</td>\n",
       "      <td>170.00</td>\n",
       "      <td>68.00</td>\n",
       "      <td>Mexico</td>\n",
       "      <td>MEX</td>\n",
       "      <td>Summer Olympics</td>\n",
       "      <td>Artistic Gymnastics</td>\n",
       "      <td>Rings, Men</td>\n",
       "      <td>70315</td>\n",
       "      <td>participant</td>\n",
       "      <td>0</td>\n",
       "      <td>Ciudad de México</td>\n",
       "      <td>MEX</td>\n",
       "      <td>1968-01-01</td>\n",
       "      <td>0</td>\n",
       "      <td>1</td>\n",
       "      <td>26.00</td>\n",
       "      <td>23.53</td>\n",
       "    </tr>\n",
       "    <tr>\n",
       "      <th>314724</th>\n",
       "      <td>30727</td>\n",
       "      <td>Armando Valles</td>\n",
       "      <td>Male</td>\n",
       "      <td>170.00</td>\n",
       "      <td>68.00</td>\n",
       "      <td>Mexico</td>\n",
       "      <td>MEX</td>\n",
       "      <td>Summer Olympics</td>\n",
       "      <td>Artistic Gymnastics</td>\n",
       "      <td>Pommelled Horse, Men</td>\n",
       "      <td>70318</td>\n",
       "      <td>participant</td>\n",
       "      <td>0</td>\n",
       "      <td>Ciudad de México</td>\n",
       "      <td>MEX</td>\n",
       "      <td>1968-01-01</td>\n",
       "      <td>0</td>\n",
       "      <td>1</td>\n",
       "      <td>26.00</td>\n",
       "      <td>23.53</td>\n",
       "    </tr>\n",
       "  </tbody>\n",
       "</table>\n",
       "<p>314402 rows × 20 columns</p>\n",
       "</div>"
      ],
      "text/plain": [
       "        athlete_id                  name   sex               height  \\\n",
       "0            14503          scar Giraldo  Male               175.37   \n",
       "1            58758  Hossein Mollaghasemi  Male               173.00   \n",
       "2            58758  Hossein Mollaghasemi  Male               173.00   \n",
       "3            90217     Enrico Lazzarotto  Male               178.00   \n",
       "4            74565              John Hou  Male               178.00   \n",
       "...            ...                   ...   ...                  ...   \n",
       "314720       30727        Armando Valles  Male               170.00   \n",
       "314721       30727        Armando Valles  Male               170.00   \n",
       "314722       30727        Armando Valles  Male               170.00   \n",
       "314723       30727        Armando Valles  Male               170.00   \n",
       "314724       30727        Armando Valles  Male               170.00   \n",
       "\n",
       "                     weight                    country country_noc_x  \\\n",
       "0                     70.62                   Colombia           COL   \n",
       "1                     63.00   Islamic Republic of Iran           IRI   \n",
       "2                     63.00   Islamic Republic of Iran           IRI   \n",
       "3                     72.00                      Italy           ITA   \n",
       "4                     60.00           Papua New Guinea           PNG   \n",
       "...                     ...                        ...           ...   \n",
       "314720                68.00                     Mexico           MEX   \n",
       "314721                68.00                     Mexico           MEX   \n",
       "314722                68.00                     Mexico           MEX   \n",
       "314723                68.00                     Mexico           MEX   \n",
       "314724                68.00                     Mexico           MEX   \n",
       "\n",
       "                 edition                sport  \\\n",
       "0        Summer Olympics         Cycling Road   \n",
       "1        Summer Olympics            Wrestling   \n",
       "2        Summer Olympics            Wrestling   \n",
       "3        Summer Olympics         Canoe Slalom   \n",
       "4        Summer Olympics            Athletics   \n",
       "...                  ...                  ...   \n",
       "314720   Summer Olympics  Artistic Gymnastics   \n",
       "314721   Summer Olympics  Artistic Gymnastics   \n",
       "314722   Summer Olympics  Artistic Gymnastics   \n",
       "314723   Summer Olympics  Artistic Gymnastics   \n",
       "314724   Summer Olympics  Artistic Gymnastics   \n",
       "\n",
       "                                  event  result_id        medal  isTeamSport  \\\n",
       "0            Road Race, Individual, Men     154878  participant            0   \n",
       "1       Featherweight, Greco-Roman, Men     124658  participant            0   \n",
       "2         Lightweight, Greco-Roman, Men     125396  participant            0   \n",
       "3            Kayak Singles, Slalom, Men     256271  participant            0   \n",
       "4                       100 metres, Men      63261  participant            0   \n",
       "...                                 ...        ...          ...          ...   \n",
       "314720                 Horse Vault, Men      70306  participant            0   \n",
       "314721               Parallel Bars, Men      70309  participant            0   \n",
       "314722              Horizontal Bar, Men      70312  participant            0   \n",
       "314723                       Rings, Men      70315  participant            0   \n",
       "314724             Pommelled Horse, Men      70318  participant            0   \n",
       "\n",
       "                    city country_noc_y event_year  medalist  home  \\\n",
       "0                Atlanta           USA 1996-01-01         0     0   \n",
       "1                   Roma           ITA 1960-01-01         0     0   \n",
       "2                  Tokyo           JPN 1964-01-01         0     0   \n",
       "3                 Sydney           AUS 2000-01-01         0     0   \n",
       "4                  Seoul           KOR 1988-01-01         0     0   \n",
       "...                  ...           ...        ...       ...   ...   \n",
       "314720  Ciudad de México           MEX 1968-01-01         0     1   \n",
       "314721  Ciudad de México           MEX 1968-01-01         0     1   \n",
       "314722  Ciudad de México           MEX 1968-01-01         0     1   \n",
       "314723  Ciudad de México           MEX 1968-01-01         0     1   \n",
       "314724  Ciudad de México           MEX 1968-01-01         0     1   \n",
       "\n",
       "                        age                  bmi  \n",
       "0                     22.00                22.96  \n",
       "1                     26.00                21.05  \n",
       "2                     30.00                21.05  \n",
       "3                     26.00                22.72  \n",
       "4                     20.00                18.94  \n",
       "...                     ...                  ...  \n",
       "314720                26.00                23.53  \n",
       "314721                26.00                23.53  \n",
       "314722                26.00                23.53  \n",
       "314723                26.00                23.53  \n",
       "314724                26.00                23.53  \n",
       "\n",
       "[314402 rows x 20 columns]"
      ]
     },
     "execution_count": 9,
     "metadata": {},
     "output_type": "execute_result"
    }
   ],
   "source": [
    "olympics = olympics.drop(['born','year_born'], axis=1)\n",
    "olympics"
   ]
  },
  {
   "cell_type": "code",
   "execution_count": 10,
   "id": "b00dab01",
   "metadata": {
    "ExecuteTime": {
     "end_time": "2022-08-17T01:21:53.387524Z",
     "start_time": "2022-08-17T01:21:53.382527Z"
    }
   },
   "outputs": [
    {
     "data": {
      "text/plain": [
       "0    269867\n",
       "1     44535\n",
       "Name: medalist, dtype: int64"
      ]
     },
     "execution_count": 10,
     "metadata": {},
     "output_type": "execute_result"
    }
   ],
   "source": [
    "olympics.medalist.value_counts()"
   ]
  },
  {
   "cell_type": "code",
   "execution_count": 11,
   "id": "4228d6b1",
   "metadata": {
    "ExecuteTime": {
     "end_time": "2022-08-17T01:21:53.620326Z",
     "start_time": "2022-08-17T01:21:53.388312Z"
    }
   },
   "outputs": [
    {
     "data": {
      "text/plain": [
       "athlete_id       0\n",
       "name             0\n",
       "sex              0\n",
       "height           0\n",
       "weight           0\n",
       "country          0\n",
       "country_noc_x    0\n",
       "edition          0\n",
       "sport            0\n",
       "event            0\n",
       "result_id        0\n",
       "medal            0\n",
       "isTeamSport      0\n",
       "city             0\n",
       "country_noc_y    0\n",
       "event_year       0\n",
       "medalist         0\n",
       "home             0\n",
       "age              0\n",
       "bmi              0\n",
       "dtype: int64"
      ]
     },
     "execution_count": 11,
     "metadata": {},
     "output_type": "execute_result"
    }
   ],
   "source": [
    "# Null values Gone!\n",
    "olympics.isnull().sum()"
   ]
  },
  {
   "cell_type": "markdown",
   "id": "1a9b6277",
   "metadata": {},
   "source": [
    "### Outlier Detection\n",
    "- Not likely to use since outliers may be key information on medaling."
   ]
  },
  {
   "cell_type": "code",
   "execution_count": 12,
   "id": "1b8b42c7",
   "metadata": {
    "ExecuteTime": {
     "end_time": "2022-08-17T01:21:54.300220Z",
     "start_time": "2022-08-17T01:21:53.621214Z"
    }
   },
   "outputs": [
    {
     "data": {
      "image/png": "[encoded data removed]",
      "text/plain": [
       "<Figure size 432x288 with 1 Axes>"
      ]
     },
     "metadata": {
      "needs_background": "light"
     },
     "output_type": "display_data"
    },
    {
     "data": {
      "image/png": "[encoded data removed]",
      "text/plain": [
       "<Figure size 432x288 with 1 Axes>"
      ]
     },
     "metadata": {
      "needs_background": "light"
     },
     "output_type": "display_data"
    },
    {
     "data": {
      "image/png": "[encoded data removed]",
      "text/plain": [
       "<Figure size 432x288 with 1 Axes>"
      ]
     },
     "metadata": {
      "needs_background": "light"
     },
     "output_type": "display_data"
    },
    {
     "data": {
      "image/png": "[encoded data removed]",
      "text/plain": [
       "<Figure size 432x288 with 1 Axes>"
      ]
     },
     "metadata": {
      "needs_background": "light"
     },
     "output_type": "display_data"
    },
    {
     "data": {
      "image/png": "[encoded data removed]",
      "text/plain": [
       "<Figure size 432x288 with 1 Axes>"
      ]
     },
     "metadata": {
      "needs_background": "light"
     },
     "output_type": "display_data"
    },
    {
     "data": {
      "image/png": "[encoded data removed]",
      "text/plain": [
       "<Figure size 432x288 with 1 Axes>"
      ]
     },
     "metadata": {
      "needs_background": "light"
     },
     "output_type": "display_data"
    },
    {
     "data": {
      "image/png": "[encoded data removed]",
      "text/plain": [
       "<Figure size 432x288 with 1 Axes>"
      ]
     },
     "metadata": {
      "needs_background": "light"
     },
     "output_type": "display_data"
    },
    {
     "data": {
      "image/png": "[encoded data removed]",
      "text/plain": [
       "<Figure size 432x288 with 1 Axes>"
      ]
     },
     "metadata": {
      "needs_background": "light"
     },
     "output_type": "display_data"
    },
    {
     "data": {
      "image/png": "[encoded data removed]",
      "text/plain": [
       "<Figure size 432x288 with 1 Axes>"
      ]
     },
     "metadata": {
      "needs_background": "light"
     },
     "output_type": "display_data"
    }
   ],
   "source": [
    "for col in olympics.select_dtypes('number'):\n",
    "    sns.boxplot(olympics[col])\n",
    "    plt.title(col)\n",
    "    plt.show()"
   ]
  },
  {
   "cell_type": "markdown",
   "id": "9ed82f40",
   "metadata": {},
   "source": [
    "### Outlier takeaway\n",
    "- There are some outliers, however because each sport may have different requirements, we don't want to lose any potential outliers."
   ]
  },
  {
   "cell_type": "markdown",
   "id": "e6ff184e",
   "metadata": {},
   "source": [
    "# EDA\n",
    "### Key Questions\n",
    " 1. What is the likelihood of medaling? (Establish Baseline)\n",
    " 2. Is being home (host nation) increase chances of medaling?\n",
    " 3. Does being on a team sport increase chances of medaling?\n",
    " 4. Does overall age impact medaling?\n",
    " 5. Does bmi impact medaling?"
   ]
  },
  {
   "cell_type": "code",
   "execution_count": 13,
   "id": "59951f3f",
   "metadata": {
    "ExecuteTime": {
     "end_time": "2022-08-17T01:21:54.307799Z",
     "start_time": "2022-08-17T01:21:54.301741Z"
    }
   },
   "outputs": [
    {
     "data": {
      "text/plain": [
       "1992-01-01    17198\n",
       "1988-01-01    15946\n",
       "2020-01-01    14786\n",
       "2000-01-01    14032\n",
       "1996-01-01    13994\n",
       "2008-01-01    13975\n",
       "2016-01-01    13941\n",
       "2004-01-01    13756\n",
       "2012-01-01    13196\n",
       "1972-01-01    12586\n",
       "1984-01-01    12288\n",
       "1968-01-01    11174\n",
       "1976-01-01    10869\n",
       "1952-01-01    10214\n",
       "1964-01-01    10105\n",
       "1960-01-01     9680\n",
       "1980-01-01     9267\n",
       "1936-01-01     8529\n",
       "1948-01-01     8258\n",
       "1924-01-01     7065\n",
       "1956-01-01     6650\n",
       "1928-01-01     6394\n",
       "1912-01-01     5424\n",
       "2022-01-01     5388\n",
       "2018-01-01     5196\n",
       "2014-01-01     4984\n",
       "1920-01-01     4639\n",
       "2010-01-01     4467\n",
       "2006-01-01     4403\n",
       "2002-01-01     4127\n",
       "1932-01-01     4084\n",
       "1908-01-01     4023\n",
       "1998-01-01     3698\n",
       "1994-01-01     3225\n",
       "1900-01-01     3147\n",
       "1904-01-01     3075\n",
       "1896-01-01      619\n",
       "Name: event_year, dtype: int64"
      ]
     },
     "execution_count": 13,
     "metadata": {},
     "output_type": "execute_result"
    }
   ],
   "source": [
    "olympics.event_year.value_counts()"
   ]
  },
  {
   "cell_type": "code",
   "execution_count": 14,
   "id": "6c4e5e2b",
   "metadata": {
    "ExecuteTime": {
     "end_time": "2022-08-17T01:21:54.443083Z",
     "start_time": "2022-08-17T01:21:54.310640Z"
    }
   },
   "outputs": [
    {
     "name": "stdout",
     "output_type": "stream",
     "text": [
      "Data split as follows: Train 56.00%, Validate 24.00%, Test 20.00%\n"
     ]
    }
   ],
   "source": [
    "# Split Data\n",
    "train, validate, test = utilities.split_data(olympics)"
   ]
  },
  {
   "cell_type": "code",
   "execution_count": 15,
   "id": "152f21ab",
   "metadata": {
    "ExecuteTime": {
     "end_time": "2022-08-17T01:21:54.447874Z",
     "start_time": "2022-08-17T01:21:54.444986Z"
    }
   },
   "outputs": [
    {
     "data": {
      "text/plain": [
       "((176064, 20), (75457, 20), (62881, 20))"
      ]
     },
     "execution_count": 15,
     "metadata": {},
     "output_type": "execute_result"
    }
   ],
   "source": [
    "train.shape, validate.shape, test.shape"
   ]
  },
  {
   "cell_type": "code",
   "execution_count": 16,
   "id": "e980eb7b",
   "metadata": {
    "ExecuteTime": {
     "end_time": "2022-08-17T01:21:54.452961Z",
     "start_time": "2022-08-17T01:21:54.449136Z"
    }
   },
   "outputs": [
    {
     "data": {
      "text/plain": [
       "Index(['athlete_id', 'name', 'sex', 'height', 'weight', 'country',\n",
       "       'country_noc_x', 'edition', 'sport', 'event', 'result_id', 'medal',\n",
       "       'isTeamSport', 'city', 'country_noc_y', 'event_year', 'medalist',\n",
       "       'home', 'age', 'bmi'],\n",
       "      dtype='object')"
      ]
     },
     "execution_count": 16,
     "metadata": {},
     "output_type": "execute_result"
    }
   ],
   "source": [
    "train.columns"
   ]
  },
  {
   "cell_type": "code",
   "execution_count": 17,
   "id": "f5b6c02d",
   "metadata": {
    "ExecuteTime": {
     "end_time": "2022-08-17T01:21:54.458288Z",
     "start_time": "2022-08-17T01:21:54.455309Z"
    }
   },
   "outputs": [],
   "source": [
    "# category\n",
    "target = ['medalist']\n",
    "categorical = ['sex','edition','sport','isTeamSport','home','event_year', 'medal']\n",
    "event = ['event']\n",
    "country_data = ['country','country_noc_x','country_noc_y']\n",
    "continuous = ['height','weight','age','bmi']"
   ]
  },
  {
   "cell_type": "markdown",
   "id": "f456d291",
   "metadata": {},
   "source": [
    "### Understanding Baseline\n",
    "1. What is the likelihood of medaling in the Olympics? "
   ]
  },
  {
   "cell_type": "code",
   "execution_count": 18,
   "id": "5dcff553",
   "metadata": {
    "ExecuteTime": {
     "end_time": "2022-08-17T01:21:54.471076Z",
     "start_time": "2022-08-17T01:21:54.460831Z"
    }
   },
   "outputs": [
    {
     "data": {
      "text/plain": [
       "participant    151036\n",
       "Gold             8427\n",
       "Bronze           8404\n",
       "Silver           8197\n",
       "Name: medal, dtype: int64"
      ]
     },
     "execution_count": 18,
     "metadata": {},
     "output_type": "execute_result"
    }
   ],
   "source": [
    "train.medal.value_counts()"
   ]
  },
  {
   "cell_type": "code",
   "execution_count": 19,
   "id": "a074c568",
   "metadata": {
    "ExecuteTime": {
     "end_time": "2022-08-17T01:21:54.477111Z",
     "start_time": "2022-08-17T01:21:54.472836Z"
    }
   },
   "outputs": [
    {
     "data": {
      "text/plain": [
       "176064"
      ]
     },
     "execution_count": 19,
     "metadata": {},
     "output_type": "execute_result"
    }
   ],
   "source": [
    "n = train.shape[0]\n",
    "n"
   ]
  },
  {
   "cell_type": "code",
   "execution_count": 20,
   "id": "20391355",
   "metadata": {
    "ExecuteTime": {
     "end_time": "2022-08-17T01:21:54.486712Z",
     "start_time": "2022-08-17T01:21:54.479950Z"
    }
   },
   "outputs": [
    {
     "data": {
      "text/plain": [
       "0    151036\n",
       "1     25028\n",
       "Name: medalist, dtype: int64"
      ]
     },
     "execution_count": 20,
     "metadata": {},
     "output_type": "execute_result"
    }
   ],
   "source": [
    "train.medalist.value_counts()"
   ]
  },
  {
   "cell_type": "code",
   "execution_count": 21,
   "id": "0a9be005",
   "metadata": {
    "ExecuteTime": {
     "end_time": "2022-08-17T01:21:54.498271Z",
     "start_time": "2022-08-17T01:21:54.488998Z"
    }
   },
   "outputs": [
    {
     "data": {
      "text/plain": [
       "participant                   0.86\n",
       "Gold                          0.05\n",
       "Bronze                        0.05\n",
       "Silver                        0.05\n",
       "Name: medal, dtype: float64"
      ]
     },
     "execution_count": 21,
     "metadata": {},
     "output_type": "execute_result"
    }
   ],
   "source": [
    "train.medal.value_counts()/n"
   ]
  },
  {
   "cell_type": "code",
   "execution_count": 22,
   "id": "cf8e4147",
   "metadata": {
    "ExecuteTime": {
     "end_time": "2022-08-17T01:21:54.507612Z",
     "start_time": "2022-08-17T01:21:54.500292Z"
    }
   },
   "outputs": [
    {
     "data": {
      "text/plain": [
       "0                   0.86\n",
       "1                   0.14\n",
       "Name: medalist, dtype: float64"
      ]
     },
     "execution_count": 22,
     "metadata": {},
     "output_type": "execute_result"
    }
   ],
   "source": [
    "train.medalist.value_counts()/n"
   ]
  },
  {
   "cell_type": "code",
   "execution_count": 23,
   "id": "1dc15aed",
   "metadata": {
    "ExecuteTime": {
     "end_time": "2022-08-17T01:21:54.518433Z",
     "start_time": "2022-08-17T01:21:54.512475Z"
    }
   },
   "outputs": [],
   "source": [
    "medalist = pd.DataFrame({'Yes':train.medalist.sum(),'No':(train.medalist == 0).sum()}, index = ['medalist']).T "
   ]
  },
  {
   "cell_type": "code",
   "execution_count": 24,
   "id": "87d98a0c",
   "metadata": {
    "ExecuteTime": {
     "end_time": "2022-08-17T01:21:54.594595Z",
     "start_time": "2022-08-17T01:21:54.520548Z"
    }
   },
   "outputs": [
    {
     "data": {
      "image/png": "[encoded data removed]",
      "text/plain": [
       "<Figure size 432x288 with 1 Axes>"
      ]
     },
     "metadata": {},
     "output_type": "display_data"
    }
   ],
   "source": [
    "plot = medalist.plot.pie(y='medalist')"
   ]
  },
  {
   "cell_type": "markdown",
   "id": "7fe2c8b3",
   "metadata": {},
   "source": [
    "### Takeaway:\n",
    "1. 86 % of athletes do not medal\n",
    "2. 14 % of athletes medal\n",
    "\n",
    "Baseline Established!"
   ]
  },
  {
   "cell_type": "markdown",
   "id": "a38c69f5",
   "metadata": {},
   "source": [
    "### Univariate"
   ]
  },
  {
   "cell_type": "code",
   "execution_count": 25,
   "id": "1275dd85",
   "metadata": {
    "ExecuteTime": {
     "end_time": "2022-08-17T01:21:55.006207Z",
     "start_time": "2022-08-17T01:21:54.596374Z"
    }
   },
   "outputs": [
    {
     "data": {
      "image/png": "[encoded data removed]",
      "text/plain": [
       "<Figure size 1800x720 with 4 Axes>"
      ]
     },
     "metadata": {
      "needs_background": "light"
     },
     "output_type": "display_data"
    }
   ],
   "source": [
    "utilities.plot_histograms(train, continuous)"
   ]
  },
  {
   "cell_type": "code",
   "execution_count": 26,
   "id": "b1218c95",
   "metadata": {
    "ExecuteTime": {
     "end_time": "2022-08-17T01:21:56.632197Z",
     "start_time": "2022-08-17T01:21:55.007128Z"
    }
   },
   "outputs": [
    {
     "data": {
      "image/png": "[encoded data removed]",
      "text/plain": [
       "<Figure size 1800x720 with 7 Axes>"
      ]
     },
     "metadata": {
      "needs_background": "light"
     },
     "output_type": "display_data"
    }
   ],
   "source": [
    "utilities.plot_histograms(train, categorical)"
   ]
  },
  {
   "cell_type": "markdown",
   "id": "13a82905",
   "metadata": {},
   "source": [
    "### Bivariate"
   ]
  },
  {
   "cell_type": "code",
   "execution_count": 27,
   "id": "a6ed05ec",
   "metadata": {
    "ExecuteTime": {
     "end_time": "2022-08-17T01:22:02.486872Z",
     "start_time": "2022-08-17T01:21:56.633966Z"
    }
   },
   "outputs": [
    {
     "data": {
      "image/png": "[encoded data removed]",
      "text/plain": [
       "<Figure size 720x360 with 2 Axes>"
      ]
     },
     "metadata": {
      "needs_background": "light"
     },
     "output_type": "display_data"
    },
    {
     "data": {
      "image/png": "[encoded data removed]",
      "text/plain": [
       "<Figure size 720x360 with 2 Axes>"
      ]
     },
     "metadata": {
      "needs_background": "light"
     },
     "output_type": "display_data"
    },
    {
     "data": {
      "image/png": "[encoded data removed]",
      "text/plain": [
       "<Figure size 720x360 with 2 Axes>"
      ]
     },
     "metadata": {
      "needs_background": "light"
     },
     "output_type": "display_data"
    },
    {
     "data": {
      "image/png": "[encoded data removed]",
      "text/plain": [
       "<Figure size 720x360 with 2 Axes>"
      ]
     },
     "metadata": {
      "needs_background": "light"
     },
     "output_type": "display_data"
    },
    {
     "data": {
      "image/png": "[encoded data removed]",
      "text/plain": [
       "<Figure size 720x360 with 2 Axes>"
      ]
     },
     "metadata": {
      "needs_background": "light"
     },
     "output_type": "display_data"
    }
   ],
   "source": [
    "sns.displot(data = train, x = 'height', col = 'medalist', kde = True, color = 'blue', alpha = 0.4)\n",
    "plt.show()\n",
    "sns.displot(data = train, x = 'weight', col = 'medalist', kde = True, color = 'blue', alpha = 0.4)\n",
    "plt.show()\n",
    "sns.displot(data = train, x = 'age', col = 'medalist', kde = True, color = 'blue', alpha = 0.4)\n",
    "plt.show()\n",
    "sns.displot(data = train, x = 'bmi', col = 'medalist', kde = True, color = 'blue', alpha = 0.4)\n",
    "plt.show()\n",
    "sns.displot(data = train, x = 'edition', col = 'medalist', kde = True, color = 'blue', alpha = 0.4)\n",
    "plt.show()"
   ]
  },
  {
   "cell_type": "markdown",
   "id": "40ae7233",
   "metadata": {},
   "source": [
    "### Multivariate - general correlation \n",
    " - Questioning why I even include this."
   ]
  },
  {
   "cell_type": "code",
   "execution_count": 28,
   "id": "b8f61f1a",
   "metadata": {
    "ExecuteTime": {
     "end_time": "2022-08-17T01:22:02.727315Z",
     "start_time": "2022-08-17T01:22:02.491375Z"
    }
   },
   "outputs": [
    {
     "data": {
      "image/png": "[encoded data removed]",
      "text/plain": [
       "<Figure size 1080x864 with 2 Axes>"
      ]
     },
     "metadata": {
      "needs_background": "light"
     },
     "output_type": "display_data"
    }
   ],
   "source": [
    "# Heatmap to display correlation of the features and logerror.\n",
    "plt.figure(figsize = (15, 12))\n",
    "sns.heatmap(train.corr(), cmap=\"RdYlBu\", annot=True, fmt=\".1f\")\n",
    "plt.show()"
   ]
  },
  {
   "cell_type": "markdown",
   "id": "21e97085",
   "metadata": {},
   "source": [
    "### Questions of Data (Categorical)\n",
    "\n",
    "1. Is being the host nation a factor for medaling?\n",
    "2. Is Team Sport a variable for medaling?"
   ]
  },
  {
   "cell_type": "code",
   "execution_count": 29,
   "id": "1c15976c",
   "metadata": {
    "ExecuteTime": {
     "end_time": "2022-08-17T01:22:02.751578Z",
     "start_time": "2022-08-17T01:22:02.730021Z"
    }
   },
   "outputs": [
    {
     "data": {
      "text/html": [
       "<div>\n",
       "<style scoped>\n",
       "    .dataframe tbody tr th:only-of-type {\n",
       "        vertical-align: middle;\n",
       "    }\n",
       "\n",
       "    .dataframe tbody tr th {\n",
       "        vertical-align: top;\n",
       "    }\n",
       "\n",
       "    .dataframe thead th {\n",
       "        text-align: right;\n",
       "    }\n",
       "</style>\n",
       "<table border=\"1\" class=\"dataframe\">\n",
       "  <thead>\n",
       "    <tr style=\"text-align: right;\">\n",
       "      <th></th>\n",
       "      <th></th>\n",
       "      <th>athlete_id</th>\n",
       "      <th>height</th>\n",
       "      <th>weight</th>\n",
       "      <th>result_id</th>\n",
       "      <th>isTeamSport</th>\n",
       "      <th>age</th>\n",
       "      <th>bmi</th>\n",
       "    </tr>\n",
       "    <tr>\n",
       "      <th>medalist</th>\n",
       "      <th>home</th>\n",
       "      <th></th>\n",
       "      <th></th>\n",
       "      <th></th>\n",
       "      <th></th>\n",
       "      <th></th>\n",
       "      <th></th>\n",
       "      <th></th>\n",
       "    </tr>\n",
       "  </thead>\n",
       "  <tbody>\n",
       "    <tr>\n",
       "      <th rowspan=\"2\" valign=\"top\">0</th>\n",
       "      <th>0</th>\n",
       "      <td>117315</td>\n",
       "      <td>175</td>\n",
       "      <td>70</td>\n",
       "      <td>1519259</td>\n",
       "      <td>0</td>\n",
       "      <td>25</td>\n",
       "      <td>22</td>\n",
       "    </tr>\n",
       "    <tr>\n",
       "      <th>1</th>\n",
       "      <td>241318</td>\n",
       "      <td>174</td>\n",
       "      <td>70</td>\n",
       "      <td>1259368</td>\n",
       "      <td>0</td>\n",
       "      <td>26</td>\n",
       "      <td>22</td>\n",
       "    </tr>\n",
       "    <tr>\n",
       "      <th rowspan=\"2\" valign=\"top\">1</th>\n",
       "      <th>0</th>\n",
       "      <td>98066</td>\n",
       "      <td>177</td>\n",
       "      <td>72</td>\n",
       "      <td>1694730</td>\n",
       "      <td>0</td>\n",
       "      <td>25</td>\n",
       "      <td>23</td>\n",
       "    </tr>\n",
       "    <tr>\n",
       "      <th>1</th>\n",
       "      <td>92042</td>\n",
       "      <td>176</td>\n",
       "      <td>71</td>\n",
       "      <td>743028</td>\n",
       "      <td>0</td>\n",
       "      <td>25</td>\n",
       "      <td>22</td>\n",
       "    </tr>\n",
       "  </tbody>\n",
       "</table>\n",
       "</div>"
      ],
      "text/plain": [
       "               athlete_id  height  weight  result_id  isTeamSport  age  bmi\n",
       "medalist home                                                              \n",
       "0        0         117315     175      70    1519259            0   25   22\n",
       "         1         241318     174      70    1259368            0   26   22\n",
       "1        0          98066     177      72    1694730            0   25   23\n",
       "         1          92042     176      71     743028            0   25   22"
      ]
     },
     "execution_count": 29,
     "metadata": {},
     "output_type": "execute_result"
    }
   ],
   "source": [
    "train.groupby(['medalist', 'home']).mean().astype(np.int)"
   ]
  },
  {
   "cell_type": "code",
   "execution_count": 30,
   "id": "d9a04339",
   "metadata": {
    "ExecuteTime": {
     "end_time": "2022-08-17T01:22:03.886852Z",
     "start_time": "2022-08-17T01:22:02.754017Z"
    }
   },
   "outputs": [
    {
     "data": {
      "text/plain": [
       "<AxesSubplot:xlabel='medalist', ylabel='home'>"
      ]
     },
     "execution_count": 30,
     "metadata": {},
     "output_type": "execute_result"
    },
    {
     "data": {
      "image/png": "[encoded data removed]",
      "text/plain": [
       "<Figure size 432x288 with 1 Axes>"
      ]
     },
     "metadata": {
      "needs_background": "light"
     },
     "output_type": "display_data"
    }
   ],
   "source": [
    "sns.barplot(data = train, x='medalist', y='home')"
   ]
  },
  {
   "cell_type": "code",
   "execution_count": 31,
   "id": "5a6da3ce",
   "metadata": {
    "ExecuteTime": {
     "end_time": "2022-08-17T01:22:03.986958Z",
     "start_time": "2022-08-17T01:22:03.888694Z"
    }
   },
   "outputs": [
    {
     "name": "stdout",
     "output_type": "stream",
     "text": [
      "isTeamSport\n",
      "chi^2 = 9496.4912\n",
      "p     = 0.0000\n",
      "\n",
      "We reject the null hypothesis\n",
      "home\n",
      "chi^2 = 368.8961\n",
      "p     = 0.0000\n",
      "\n",
      "We reject the null hypothesis\n",
      "edition\n",
      "chi^2 = 201.2741\n",
      "p     = 0.0000\n",
      "\n",
      "We reject the null hypothesis\n"
     ]
    }
   ],
   "source": [
    "# Chi^2 test on categories\n",
    "alpha=0.05\n",
    "groups = ['isTeamSport','home','edition']\n",
    "reject_null = []\n",
    "medal_rate=[]\n",
    "for group in groups:\n",
    "    observed = pd.crosstab(train.medalist, train[group])\n",
    "    chi2, p, dof, expected = stats.chi2_contingency(observed)\n",
    "    print(group)\n",
    "#     print('Observed\\n')\n",
    "#     print(observed.values)\n",
    "#     print('---\\nExpected\\n')\n",
    "#     print(expected.astype(int))\n",
    "#     print('---\\n')\n",
    "    print(f'chi^2 = {chi2:.4f}')\n",
    "    print(f'p     = {p:.4f}\\n')\n",
    "    if p < alpha:\n",
    "        print(\"We reject the null hypothesis\")\n",
    "    else:\n",
    "        print(\"We fail to reject the null hypothesis\")\n",
    "    medal_rate.append((train.medalist[train[group] == 1]).mean())\n",
    "    reject_null.append(p<alpha)\n",
    "    \n",
    "results = pd.DataFrame(data = {'medal_rate':medal_rate,'reject_null':reject_null},index = groups)\n",
    "results = results.sort_values(by= 'medal_rate')"
   ]
  },
  {
   "cell_type": "code",
   "execution_count": 32,
   "id": "4e39b8cf",
   "metadata": {
    "ExecuteTime": {
     "end_time": "2022-08-17T01:22:03.994136Z",
     "start_time": "2022-08-17T01:22:03.989124Z"
    }
   },
   "outputs": [
    {
     "data": {
      "text/html": [
       "<div>\n",
       "<style scoped>\n",
       "    .dataframe tbody tr th:only-of-type {\n",
       "        vertical-align: middle;\n",
       "    }\n",
       "\n",
       "    .dataframe tbody tr th {\n",
       "        vertical-align: top;\n",
       "    }\n",
       "\n",
       "    .dataframe thead th {\n",
       "        text-align: right;\n",
       "    }\n",
       "</style>\n",
       "<table border=\"1\" class=\"dataframe\">\n",
       "  <thead>\n",
       "    <tr style=\"text-align: right;\">\n",
       "      <th></th>\n",
       "      <th>medal_rate</th>\n",
       "      <th>reject_null</th>\n",
       "    </tr>\n",
       "  </thead>\n",
       "  <tbody>\n",
       "    <tr>\n",
       "      <th>home</th>\n",
       "      <td>0.20</td>\n",
       "      <td>True</td>\n",
       "    </tr>\n",
       "    <tr>\n",
       "      <th>isTeamSport</th>\n",
       "      <td>0.24</td>\n",
       "      <td>True</td>\n",
       "    </tr>\n",
       "    <tr>\n",
       "      <th>edition</th>\n",
       "      <td>NaN</td>\n",
       "      <td>True</td>\n",
       "    </tr>\n",
       "  </tbody>\n",
       "</table>\n",
       "</div>"
      ],
      "text/plain": [
       "                      medal_rate  reject_null\n",
       "home                        0.20         True\n",
       "isTeamSport                 0.24         True\n",
       "edition                      NaN         True"
      ]
     },
     "execution_count": 32,
     "metadata": {},
     "output_type": "execute_result"
    }
   ],
   "source": [
    "results"
   ]
  },
  {
   "cell_type": "code",
   "execution_count": 33,
   "id": "4d2be6c2",
   "metadata": {
    "ExecuteTime": {
     "end_time": "2022-08-17T01:22:04.002055Z",
     "start_time": "2022-08-17T01:22:03.996814Z"
    }
   },
   "outputs": [
    {
     "data": {
      "text/plain": [
       "0    151036\n",
       "1     25028\n",
       "Name: medalist, dtype: int64"
      ]
     },
     "execution_count": 33,
     "metadata": {},
     "output_type": "execute_result"
    }
   ],
   "source": [
    "train.medalist.value_counts()"
   ]
  },
  {
   "cell_type": "code",
   "execution_count": 34,
   "id": "2f4ed36b",
   "metadata": {
    "ExecuteTime": {
     "end_time": "2022-08-17T01:22:04.156468Z",
     "start_time": "2022-08-17T01:22:04.004071Z"
    }
   },
   "outputs": [
    {
     "data": {
      "text/plain": [
       "<matplotlib.lines.Line2D at 0x2802b8a60>"
      ]
     },
     "execution_count": 34,
     "metadata": {},
     "output_type": "execute_result"
    },
    {
     "data": {
      "image/png": "[encoded data removed]",
      "text/plain": [
       "<Figure size 1008x648 with 1 Axes>"
      ]
     },
     "metadata": {},
     "output_type": "display_data"
    }
   ],
   "source": [
    "baseline_medal =0.14\n",
    "sns.set(rc={'figure.figsize':(14,9)})\n",
    "sns.barplot(data = results, x = results.index ,y = 'medal_rate', hue = 'reject_null')\n",
    "plt.tight_layout()\n",
    "plt.title('Medal Rates by Group - Chi Squared results\\nGreen line shows overall medal rate')\n",
    "plt.axhline(y=baseline_medal, color = 'green')\n",
    "# plt.bar_label(splot.containers[0])"
   ]
  },
  {
   "cell_type": "markdown",
   "id": "3e1280af",
   "metadata": {},
   "source": [
    "### Continuous Variable Questions\n",
    " 4. Does overall age impact medaling?\n",
    " 5. Does bmi impact medaling?"
   ]
  },
  {
   "cell_type": "markdown",
   "id": "44dfd490",
   "metadata": {
    "ExecuteTime": {
     "end_time": "2022-08-16T21:12:51.898955Z",
     "start_time": "2022-08-16T21:12:51.892783Z"
    }
   },
   "source": [
    "#### Age"
   ]
  },
  {
   "cell_type": "code",
   "execution_count": 35,
   "id": "1184c2c9",
   "metadata": {
    "ExecuteTime": {
     "end_time": "2022-08-17T01:22:04.291301Z",
     "start_time": "2022-08-17T01:22:04.157988Z"
    }
   },
   "outputs": [
    {
     "data": {
      "text/plain": [
       "<function matplotlib.pyplot.show(close=None, block=None)>"
      ]
     },
     "execution_count": 35,
     "metadata": {},
     "output_type": "execute_result"
    },
    {
     "data": {
      "image/png": "[encoded data removed]",
      "text/plain": [
       "<Figure size 1008x504 with 1 Axes>"
      ]
     },
     "metadata": {},
     "output_type": "display_data"
    }
   ],
   "source": [
    "train.age.hist()\n",
    "plt.title('Age of medalists')\n",
    "plt.xlabel('age')\n",
    "plt.ylabel('# of Athletes')\n",
    "\n",
    "medal_sample = train[train.medalist == 1].age\n",
    "medal_sample.hist(figsize=(14,7))\n",
    "\n",
    "plt.title('Athletes VS. Medalists')\n",
    "plt.xlabel('Ages')\n",
    "plt.ylabel('# of Athletes')\n",
    "plt.legend(labels = ['Athletes', 'Medalists'])\n",
    "plt.show"
   ]
  },
  {
   "cell_type": "code",
   "execution_count": 36,
   "id": "1493e81d",
   "metadata": {
    "ExecuteTime": {
     "end_time": "2022-08-17T01:22:04.302993Z",
     "start_time": "2022-08-17T01:22:04.293269Z"
    }
   },
   "outputs": [
    {
     "name": "stdout",
     "output_type": "stream",
     "text": [
      "8.655641438168386 2.595637330253769e-18 0.01\n"
     ]
    }
   ],
   "source": [
    "alpha = 0.01\n",
    "medal_sample = train[train.medalist == 1].age\n",
    "overall_mean = train.age.mean()\n",
    "\n",
    "t, p = stats.ttest_1samp(medal_sample, overall_mean)\n",
    "\n",
    "print(t, p/2, alpha)"
   ]
  },
  {
   "cell_type": "code",
   "execution_count": 37,
   "id": "d5425c45",
   "metadata": {
    "ExecuteTime": {
     "end_time": "2022-08-17T01:22:04.309403Z",
     "start_time": "2022-08-17T01:22:04.305735Z"
    }
   },
   "outputs": [
    {
     "name": "stdout",
     "output_type": "stream",
     "text": [
      "We reject $H_{0}$\n"
     ]
    }
   ],
   "source": [
    "if p > alpha:\n",
    "    print(\"We fail to reject $H_{0}$\")\n",
    "elif t < 0:\n",
    "    print(\"We fail to reject $H_{0}$\")\n",
    "else:\n",
    "    print(\"We reject $H_{0}$\")"
   ]
  },
  {
   "cell_type": "markdown",
   "id": "3fcacb99",
   "metadata": {},
   "source": [
    "#### BMI"
   ]
  },
  {
   "cell_type": "code",
   "execution_count": 38,
   "id": "5900c204",
   "metadata": {
    "ExecuteTime": {
     "end_time": "2022-08-17T01:22:04.458588Z",
     "start_time": "2022-08-17T01:22:04.311551Z"
    }
   },
   "outputs": [
    {
     "data": {
      "text/plain": [
       "<function matplotlib.pyplot.show(close=None, block=None)>"
      ]
     },
     "execution_count": 38,
     "metadata": {},
     "output_type": "execute_result"
    },
    {
     "data": {
      "image/png": "[encoded data removed]",
      "text/plain": [
       "<Figure size 1008x504 with 1 Axes>"
      ]
     },
     "metadata": {},
     "output_type": "display_data"
    }
   ],
   "source": [
    "train.bmi.hist()\n",
    "plt.title('BMI of medalists')\n",
    "plt.xlabel('BMI')\n",
    "plt.ylabel('# of Athletes')\n",
    "\n",
    "medal_sample = train[train.medalist == 1].bmi\n",
    "medal_sample.hist(figsize=(14,7))\n",
    "\n",
    "plt.title('Athletes VS. Medalists')\n",
    "plt.xlabel('BMI')\n",
    "plt.ylabel('# of Athletes')\n",
    "plt.legend(labels = ['Athletes', 'Medalists'])\n",
    "plt.show"
   ]
  },
  {
   "cell_type": "code",
   "execution_count": 39,
   "id": "1d6b7f42",
   "metadata": {
    "ExecuteTime": {
     "end_time": "2022-08-17T01:22:04.471982Z",
     "start_time": "2022-08-17T01:22:04.461282Z"
    }
   },
   "outputs": [
    {
     "name": "stdout",
     "output_type": "stream",
     "text": [
      "15.320788671486348 4.820964864753437e-53 0.01\n"
     ]
    }
   ],
   "source": [
    "medal_sample = train[train.medalist == 1].bmi\n",
    "overall_mean = train.bmi.mean()\n",
    "\n",
    "t, p = stats.ttest_1samp(medal_sample, overall_mean)\n",
    "\n",
    "print(t, p/2, alpha)"
   ]
  },
  {
   "cell_type": "code",
   "execution_count": 40,
   "id": "b85f895c",
   "metadata": {
    "ExecuteTime": {
     "end_time": "2022-08-17T01:22:04.479087Z",
     "start_time": "2022-08-17T01:22:04.474404Z"
    }
   },
   "outputs": [
    {
     "name": "stdout",
     "output_type": "stream",
     "text": [
      "We reject $H_{0}$\n"
     ]
    }
   ],
   "source": [
    "if p > alpha:\n",
    "    print(\"We fail to reject $H_{0}$\")\n",
    "elif t < 0:\n",
    "    print(\"We fail to reject $H_{0}$\")\n",
    "else:\n",
    "    print(\"We reject $H_{0}$\")"
   ]
  },
  {
   "cell_type": "markdown",
   "id": "8207c86e",
   "metadata": {},
   "source": [
    "## EDA Takeaways:\n",
    "Key Factors for  Feature selection:\n",
    "1. Home (Athlete home country is host)\n",
    "2. Team Sports \n",
    "3. Age\n",
    "4. BMI\n"
   ]
  },
  {
   "cell_type": "markdown",
   "id": "a54caeff",
   "metadata": {},
   "source": [
    "# Modeling"
   ]
  },
  {
   "cell_type": "code",
   "execution_count": 41,
   "id": "b9ca184e",
   "metadata": {
    "ExecuteTime": {
     "end_time": "2022-08-17T01:22:04.484845Z",
     "start_time": "2022-08-17T01:22:04.481411Z"
    }
   },
   "outputs": [],
   "source": [
    "selected_features = ['home','isTeamSport','age','bmi']\n",
    "target = 'medalist'"
   ]
  },
  {
   "cell_type": "code",
   "execution_count": 44,
   "id": "6df8d5d4",
   "metadata": {
    "ExecuteTime": {
     "end_time": "2022-08-17T01:22:45.660186Z",
     "start_time": "2022-08-17T01:22:45.636879Z"
    }
   },
   "outputs": [],
   "source": [
    "X_train = train[selected_features]\n",
    "y_train = train[[target]]\n",
    "\n",
    "X_validate = validate[selected_features]\n",
    "y_validate = validate[[target]]\n",
    "\n",
    "X_test = test[selected_features]\n",
    "y_test = test[[target]]"
   ]
  },
  {
   "cell_type": "code",
   "execution_count": 45,
   "id": "8901552b",
   "metadata": {
    "ExecuteTime": {
     "end_time": "2022-08-17T01:22:48.397229Z",
     "start_time": "2022-08-17T01:22:48.385674Z"
    }
   },
   "outputs": [
    {
     "data": {
      "text/html": [
       "<div>\n",
       "<style scoped>\n",
       "    .dataframe tbody tr th:only-of-type {\n",
       "        vertical-align: middle;\n",
       "    }\n",
       "\n",
       "    .dataframe tbody tr th {\n",
       "        vertical-align: top;\n",
       "    }\n",
       "\n",
       "    .dataframe thead th {\n",
       "        text-align: right;\n",
       "    }\n",
       "</style>\n",
       "<table border=\"1\" class=\"dataframe\">\n",
       "  <thead>\n",
       "    <tr style=\"text-align: right;\">\n",
       "      <th></th>\n",
       "      <th>home</th>\n",
       "      <th>isTeamSport</th>\n",
       "      <th>age</th>\n",
       "      <th>bmi</th>\n",
       "    </tr>\n",
       "  </thead>\n",
       "  <tbody>\n",
       "    <tr>\n",
       "      <th>98265</th>\n",
       "      <td>0</td>\n",
       "      <td>1</td>\n",
       "      <td>32.00</td>\n",
       "      <td>27.34</td>\n",
       "    </tr>\n",
       "    <tr>\n",
       "      <th>177475</th>\n",
       "      <td>0</td>\n",
       "      <td>0</td>\n",
       "      <td>30.00</td>\n",
       "      <td>22.96</td>\n",
       "    </tr>\n",
       "    <tr>\n",
       "      <th>89882</th>\n",
       "      <td>0</td>\n",
       "      <td>1</td>\n",
       "      <td>22.00</td>\n",
       "      <td>23.72</td>\n",
       "    </tr>\n",
       "  </tbody>\n",
       "</table>\n",
       "</div>"
      ],
      "text/plain": [
       "        home  isTeamSport                  age                  bmi\n",
       "98265      0            1                32.00                27.34\n",
       "177475     0            0                30.00                22.96\n",
       "89882      0            1                22.00                23.72"
      ]
     },
     "execution_count": 45,
     "metadata": {},
     "output_type": "execute_result"
    }
   ],
   "source": [
    "# Check Split\n",
    "X_train[:3]"
   ]
  },
  {
   "cell_type": "code",
   "execution_count": 46,
   "id": "f95174c1",
   "metadata": {
    "ExecuteTime": {
     "end_time": "2022-08-17T01:22:50.341777Z",
     "start_time": "2022-08-17T01:22:50.333965Z"
    }
   },
   "outputs": [
    {
     "data": {
      "text/html": [
       "<div>\n",
       "<style scoped>\n",
       "    .dataframe tbody tr th:only-of-type {\n",
       "        vertical-align: middle;\n",
       "    }\n",
       "\n",
       "    .dataframe tbody tr th {\n",
       "        vertical-align: top;\n",
       "    }\n",
       "\n",
       "    .dataframe thead th {\n",
       "        text-align: right;\n",
       "    }\n",
       "</style>\n",
       "<table border=\"1\" class=\"dataframe\">\n",
       "  <thead>\n",
       "    <tr style=\"text-align: right;\">\n",
       "      <th></th>\n",
       "      <th>medalist</th>\n",
       "    </tr>\n",
       "  </thead>\n",
       "  <tbody>\n",
       "    <tr>\n",
       "      <th>98265</th>\n",
       "      <td>0</td>\n",
       "    </tr>\n",
       "    <tr>\n",
       "      <th>177475</th>\n",
       "      <td>0</td>\n",
       "    </tr>\n",
       "    <tr>\n",
       "      <th>89882</th>\n",
       "      <td>0</td>\n",
       "    </tr>\n",
       "  </tbody>\n",
       "</table>\n",
       "</div>"
      ],
      "text/plain": [
       "        medalist\n",
       "98265          0\n",
       "177475         0\n",
       "89882          0"
      ]
     },
     "execution_count": 46,
     "metadata": {},
     "output_type": "execute_result"
    }
   ],
   "source": [
    "y_train[:3]"
   ]
  },
  {
   "cell_type": "code",
   "execution_count": 47,
   "id": "580e56af",
   "metadata": {
    "ExecuteTime": {
     "end_time": "2022-08-17T01:23:31.397772Z",
     "start_time": "2022-08-17T01:23:08.579909Z"
    }
   },
   "outputs": [
    {
     "name": "stdout",
     "output_type": "stream",
     "text": [
      "Highest accuracy score on train:\n",
      " 0.8590171755725191 with max depth setting of 9 and min_sample_leaf of 1\n",
      "Highest accuracy score on validate:\n",
      "0.8605695959288071 with max depth setting of 6 and min_sample_leaf of 6\n",
      "This was a drop-off from train of:\n",
      "0.0025009390767533057\n",
      "Lowest drop-off in accuracy from train to validate:\n",
      " 0.002695944274742179 with max depth setting of 1 and min sample leaf of  1\n"
     ]
    }
   ],
   "source": [
    "depths =[]\n",
    "min_samples = []\n",
    "train_accuracies = []\n",
    "train_precisions = []\n",
    "train_recalls = []\n",
    "\n",
    "v_accuracies = []\n",
    "v_precisions = []\n",
    "v_recalls = []\n",
    "min_samples_range = range(1,10)\n",
    "d_range = range(1,10)\n",
    "for d in d_range:\n",
    "    for min_sample in min_samples_range:\n",
    "        clf, train_report = modeling.decision_tree_train(X_train, y_train,selected_features, target, d=d, m = min_sample , print_results=False)\n",
    "        validate_report = modeling.classifier_validate(X_validate,y_validate, clf, print_results=False)\n",
    "\n",
    "        depths.append(d)\n",
    "        min_samples.append(min_sample)\n",
    "        train_accuracies.append(train_report['accuracy'])\n",
    "        train_precisions.append(train_report['precision'])\n",
    "        train_recalls.append(train_report['recall'])\n",
    "\n",
    "        v_accuracies.append(validate_report['accuracy'])\n",
    "        v_precisions.append(validate_report['precision'])\n",
    "        v_recalls.append(validate_report['recall'])\n",
    "\n",
    "train_results_df= pd.DataFrame(data = {\"max_depth\":depths,\"min_samples_leaf\":min_samples,\"accuracy\":train_accuracies,\"precision\":train_precisions,\"recall\":train_recalls})\n",
    "validate_results_df= pd.DataFrame(data = {\"max_depth\":depths,\"min_samples_leaf\":min_samples,\"accuracy\":v_accuracies,\"precision\":v_precisions,\"recall\":v_recalls})\n",
    "\n",
    "combined_df = train_results_df.merge(validate_results_df,on=['max_depth','min_samples_leaf'], suffixes=['_train','_validate'])\n",
    "combined_df[\"accuracy_diff\"] = combined_df.accuracy_validate-combined_df.accuracy_train\n",
    "combined_df[\"precision_diff\"] = combined_df.precision_validate-combined_df.precision_train\n",
    "combined_df[\"recall_diff\"] = combined_df.recall_validate-combined_df.recall_train\n",
    "\n",
    "combined_df = combined_df.sort_values(by =['accuracy_validate','accuracy_diff'], ascending=False)\n",
    "print(f\"Highest accuracy score on train:\\n {combined_df.accuracy_train.max()} with max depth setting of {combined_df.max_depth[combined_df.accuracy_train.idxmax()]} and min_sample_leaf of {combined_df.min_samples_leaf[combined_df.accuracy_train.idxmax()]}\")\n",
    "print(f\"Highest accuracy score on validate:\\n{combined_df.accuracy_validate.max()} with max depth setting of {combined_df.max_depth[combined_df.accuracy_validate.idxmax()]} and min_sample_leaf of {combined_df.min_samples_leaf[combined_df.accuracy_validate.idxmax()]}\")\n",
    "print(f\"This was a drop-off from train of:\\n{combined_df.accuracy_diff[combined_df.accuracy_validate == combined_df.accuracy_validate.max()].array[0]}\")\n",
    "print(f\"Lowest drop-off in accuracy from train to validate:\\n {combined_df.accuracy_diff.max()} with max depth setting of {combined_df.max_depth[combined_df.accuracy_diff == combined_df.accuracy_diff.max()].array[0]} and min sample leaf of  {combined_df.min_samples_leaf[combined_df.accuracy_diff == combined_df.accuracy_diff.max()].array[0]}\")\n",
    "\n",
    "decision_tree_final_results = combined_df\n",
    "decision_tree_final_results[\"model\"] = 'decision_tree'"
   ]
  },
  {
   "cell_type": "code",
   "execution_count": 48,
   "id": "82749a65",
   "metadata": {
    "ExecuteTime": {
     "end_time": "2022-08-17T01:23:31.828114Z",
     "start_time": "2022-08-17T01:23:31.401051Z"
    }
   },
   "outputs": [
    {
     "data": {
      "image/png": "[encoded data removed]",
      "text/plain": [
       "<Figure size 1152x432 with 6 Axes>"
      ]
     },
     "metadata": {},
     "output_type": "display_data"
    }
   ],
   "source": [
    "_, ax = plt.subplots(1,3, figsize=(16,6))\n",
    "to_plot = [\"accuracy\",\"precision\",\"recall\"]\n",
    "for i, metric in enumerate(to_plot):\n",
    "    heatmap_df = train_results_df.pivot(\"max_depth\",\"min_samples_leaf\",metric)\n",
    "    # Set floor of accuracy at the baseline \n",
    "    if i == 0:\n",
    "        sns.heatmap(heatmap_df, ax=ax[i], vmin = baseline_medal)\n",
    "        ax[i].set_title(metric)\n",
    "    else:\n",
    "        sns.heatmap(heatmap_df, ax=ax[i])\n",
    "        ax[i].set_title(metric)\n",
    "    plt.suptitle('Train performance')"
   ]
  },
  {
   "cell_type": "code",
   "execution_count": 49,
   "id": "4e866f87",
   "metadata": {
    "ExecuteTime": {
     "end_time": "2022-08-17T01:23:32.239053Z",
     "start_time": "2022-08-17T01:23:31.828928Z"
    }
   },
   "outputs": [
    {
     "data": {
      "image/png": "[encoded data removed]",
      "text/plain": [
       "<Figure size 1152x432 with 6 Axes>"
      ]
     },
     "metadata": {},
     "output_type": "display_data"
    }
   ],
   "source": [
    "_, ax = plt.subplots(1,3, figsize=(16,6))\n",
    "to_plot = [\"accuracy\",\"precision\",\"recall\"]\n",
    "for i, metric in enumerate(to_plot):\n",
    "    heatmap_df = train_results_df.pivot(\"max_depth\",\"min_samples_leaf\",metric)\n",
    "    # Set floor of accuracy at the baseline \n",
    "    if i == 0:\n",
    "        sns.heatmap(heatmap_df, ax=ax[i], vmin = baseline_medal)\n",
    "        ax[i].set_title(metric)\n",
    "    else:\n",
    "        sns.heatmap(heatmap_df, ax=ax[i])\n",
    "        ax[i].set_title(metric)\n",
    "    plt.suptitle('Train performance')"
   ]
  },
  {
   "cell_type": "code",
   "execution_count": 50,
   "id": "11799edf",
   "metadata": {
    "ExecuteTime": {
     "end_time": "2022-08-17T01:23:32.624912Z",
     "start_time": "2022-08-17T01:23:32.242768Z"
    }
   },
   "outputs": [
    {
     "data": {
      "image/png": "[encoded data removed]",
      "text/plain": [
       "<Figure size 1152x432 with 6 Axes>"
      ]
     },
     "metadata": {},
     "output_type": "display_data"
    }
   ],
   "source": [
    "_, ax = plt.subplots(1,3, figsize=(16,6))\n",
    "to_plot = [\"accuracy_diff\",\"precision_diff\",\"recall_diff\"]\n",
    "for i, metric in enumerate(to_plot):\n",
    "    heatmap_df = combined_df.pivot(\"max_depth\",\"min_samples_leaf\",metric)\n",
    "    sns.heatmap(heatmap_df, ax=ax[i])\n",
    "    plt.suptitle('Difference between validate and train performance')\n",
    "    ax[i].set_title(metric)"
   ]
  },
  {
   "cell_type": "code",
   "execution_count": 53,
   "id": "fdcd1002",
   "metadata": {
    "ExecuteTime": {
     "end_time": "2022-08-17T01:24:07.189517Z",
     "start_time": "2022-08-17T01:24:07.186102Z"
    }
   },
   "outputs": [],
   "source": [
    "import graphviz\n",
    "from sklearn import tree"
   ]
  },
  {
   "cell_type": "code",
   "execution_count": 56,
   "id": "809f3a00",
   "metadata": {
    "ExecuteTime": {
     "end_time": "2022-08-17T14:03:49.261378Z",
     "start_time": "2022-08-17T14:03:49.119751Z"
    }
   },
   "outputs": [],
   "source": [
    "from dtreeviz.trees import dtreeviz"
   ]
  },
  {
   "cell_type": "code",
   "execution_count": 57,
   "id": "14b8a566",
   "metadata": {
    "ExecuteTime": {
     "end_time": "2022-08-17T14:03:58.862049Z",
     "start_time": "2022-08-17T14:03:58.807509Z"
    }
   },
   "outputs": [
    {
     "ename": "ValueError",
     "evalue": "Length of feature_names, 176064 does not match number of features, 4",
     "output_type": "error",
     "traceback": [
      "\u001b[0;31m---------------------------------------------------------------------------\u001b[0m",
      "\u001b[0;31mValueError\u001b[0m                                Traceback (most recent call last)",
      "Input \u001b[0;32mIn [57]\u001b[0m, in \u001b[0;36m<cell line: 1>\u001b[0;34m()\u001b[0m\n\u001b[0;32m----> 1\u001b[0m dot_data\u001b[38;5;241m=\u001b[39m\u001b[43mtree\u001b[49m\u001b[38;5;241;43m.\u001b[39;49m\u001b[43mexport_graphviz\u001b[49m\u001b[43m(\u001b[49m\u001b[43mclf\u001b[49m\u001b[43m,\u001b[49m\u001b[43m \u001b[49m\u001b[43mout_file\u001b[49m\u001b[38;5;241;43m=\u001b[39;49m\u001b[38;5;28;43;01mNone\u001b[39;49;00m\u001b[43m,\u001b[49m\n\u001b[1;32m      2\u001b[0m \u001b[43m                              \u001b[49m\u001b[43mfeature_names\u001b[49m\u001b[38;5;241;43m=\u001b[39;49m\u001b[43mX_train\u001b[49m\u001b[43m,\u001b[49m\n\u001b[1;32m      3\u001b[0m \u001b[43m                              \u001b[49m\u001b[43mclass_names\u001b[49m\u001b[38;5;241;43m=\u001b[39;49m\u001b[43my_train\u001b[49m\u001b[43m,\u001b[49m\n\u001b[1;32m      4\u001b[0m \u001b[43m                              \u001b[49m\u001b[43mfilled\u001b[49m\u001b[38;5;241;43m=\u001b[39;49m\u001b[38;5;28;43;01mTrue\u001b[39;49;00m\u001b[43m)\u001b[49m\n",
      "File \u001b[0;32m/opt/homebrew/anaconda3/lib/python3.9/site-packages/sklearn/tree/_export.py:889\u001b[0m, in \u001b[0;36mexport_graphviz\u001b[0;34m(decision_tree, out_file, max_depth, feature_names, class_names, label, filled, leaves_parallel, impurity, node_ids, proportion, rotate, rounded, special_characters, precision, fontname)\u001b[0m\n\u001b[1;32m    870\u001b[0m     out_file \u001b[38;5;241m=\u001b[39m StringIO()\n\u001b[1;32m    872\u001b[0m exporter \u001b[38;5;241m=\u001b[39m _DOTTreeExporter(\n\u001b[1;32m    873\u001b[0m     out_file\u001b[38;5;241m=\u001b[39mout_file,\n\u001b[1;32m    874\u001b[0m     max_depth\u001b[38;5;241m=\u001b[39mmax_depth,\n\u001b[0;32m   (...)\u001b[0m\n\u001b[1;32m    887\u001b[0m     fontname\u001b[38;5;241m=\u001b[39mfontname,\n\u001b[1;32m    888\u001b[0m )\n\u001b[0;32m--> 889\u001b[0m \u001b[43mexporter\u001b[49m\u001b[38;5;241;43m.\u001b[39;49m\u001b[43mexport\u001b[49m\u001b[43m(\u001b[49m\u001b[43mdecision_tree\u001b[49m\u001b[43m)\u001b[49m\n\u001b[1;32m    891\u001b[0m \u001b[38;5;28;01mif\u001b[39;00m return_string:\n\u001b[1;32m    892\u001b[0m     \u001b[38;5;28;01mreturn\u001b[39;00m exporter\u001b[38;5;241m.\u001b[39mout_file\u001b[38;5;241m.\u001b[39mgetvalue()\n",
      "File \u001b[0;32m/opt/homebrew/anaconda3/lib/python3.9/site-packages/sklearn/tree/_export.py:452\u001b[0m, in \u001b[0;36m_DOTTreeExporter.export\u001b[0;34m(self, decision_tree)\u001b[0m\n\u001b[1;32m    450\u001b[0m \u001b[38;5;28;01mif\u001b[39;00m \u001b[38;5;28mself\u001b[39m\u001b[38;5;241m.\u001b[39mfeature_names \u001b[38;5;129;01mis\u001b[39;00m \u001b[38;5;129;01mnot\u001b[39;00m \u001b[38;5;28;01mNone\u001b[39;00m:\n\u001b[1;32m    451\u001b[0m     \u001b[38;5;28;01mif\u001b[39;00m \u001b[38;5;28mlen\u001b[39m(\u001b[38;5;28mself\u001b[39m\u001b[38;5;241m.\u001b[39mfeature_names) \u001b[38;5;241m!=\u001b[39m decision_tree\u001b[38;5;241m.\u001b[39mn_features_in_:\n\u001b[0;32m--> 452\u001b[0m         \u001b[38;5;28;01mraise\u001b[39;00m \u001b[38;5;167;01mValueError\u001b[39;00m(\n\u001b[1;32m    453\u001b[0m             \u001b[38;5;124m\"\u001b[39m\u001b[38;5;124mLength of feature_names, \u001b[39m\u001b[38;5;132;01m%d\u001b[39;00m\u001b[38;5;124m does not match number of features, \u001b[39m\u001b[38;5;132;01m%d\u001b[39;00m\u001b[38;5;124m\"\u001b[39m\n\u001b[1;32m    454\u001b[0m             \u001b[38;5;241m%\u001b[39m (\u001b[38;5;28mlen\u001b[39m(\u001b[38;5;28mself\u001b[39m\u001b[38;5;241m.\u001b[39mfeature_names), decision_tree\u001b[38;5;241m.\u001b[39mn_features_in_)\n\u001b[1;32m    455\u001b[0m         )\n\u001b[1;32m    456\u001b[0m \u001b[38;5;66;03m# each part writes to out_file\u001b[39;00m\n\u001b[1;32m    457\u001b[0m \u001b[38;5;28mself\u001b[39m\u001b[38;5;241m.\u001b[39mhead()\n",
      "\u001b[0;31mValueError\u001b[0m: Length of feature_names, 176064 does not match number of features, 4"
     ]
    }
   ],
   "source": [
    "# dot_data=tree.export_graphviz(clf, out_file=None,\n",
    "#                               feature_names=X_train,\n",
    "#                               class_names=y_train,\n",
    "#                               filled=True)"
   ]
  },
  {
   "cell_type": "code",
   "execution_count": 59,
   "id": "7542dd95",
   "metadata": {
    "ExecuteTime": {
     "end_time": "2022-08-17T14:04:20.215618Z",
     "start_time": "2022-08-17T14:04:19.403972Z"
    }
   },
   "outputs": [
    {
     "ename": "KeyError",
     "evalue": "1",
     "output_type": "error",
     "traceback": [
      "\u001b[0;31m---------------------------------------------------------------------------\u001b[0m",
      "\u001b[0;31mKeyError\u001b[0m                                  Traceback (most recent call last)",
      "Input \u001b[0;32mIn [59]\u001b[0m, in \u001b[0;36m<cell line: 1>\u001b[0;34m()\u001b[0m\n\u001b[0;32m----> 1\u001b[0m viz \u001b[38;5;241m=\u001b[39m \u001b[43mdtreeviz\u001b[49m\u001b[43m(\u001b[49m\u001b[43mclf\u001b[49m\u001b[43m,\u001b[49m\u001b[43m \u001b[49m\u001b[43mX_train\u001b[49m\u001b[43m,\u001b[49m\u001b[43m \u001b[49m\u001b[43my_train\u001b[49m\u001b[43m,\u001b[49m\n\u001b[1;32m      2\u001b[0m \u001b[43m                \u001b[49m\u001b[43mtarget_name\u001b[49m\u001b[38;5;241;43m=\u001b[39;49m\u001b[38;5;124;43m\"\u001b[39;49m\u001b[38;5;124;43mtarget\u001b[39;49m\u001b[38;5;124;43m\"\u001b[39;49m\u001b[43m,\u001b[49m\n\u001b[1;32m      3\u001b[0m \u001b[43m                \u001b[49m\u001b[43mfeature_names\u001b[49m\u001b[38;5;241;43m=\u001b[39;49m\u001b[43mX_train\u001b[49m\u001b[43m,\u001b[49m\n\u001b[1;32m      4\u001b[0m \u001b[43m                \u001b[49m\u001b[43mclass_names\u001b[49m\u001b[38;5;241;43m=\u001b[39;49m\u001b[38;5;28;43mlist\u001b[39;49m\u001b[43m(\u001b[49m\u001b[43my_train\u001b[49m\u001b[43m)\u001b[49m\u001b[43m)\u001b[49m\n",
      "File \u001b[0;32m/opt/homebrew/anaconda3/lib/python3.9/site-packages/dtreeviz/trees.py:797\u001b[0m, in \u001b[0;36mdtreeviz\u001b[0;34m(tree_model, x_data, y_data, feature_names, target_name, class_names, tree_index, precision, orientation, instance_orientation, show_root_edge_labels, show_node_labels, show_just_path, fancy, histtype, highlight_path, X, max_X_features_LR, max_X_features_TD, depth_range_to_display, label_fontsize, ticks_fontsize, fontname, title, title_fontsize, colors, cmap, scale)\u001b[0m\n\u001b[1;32m    795\u001b[0m     class_values \u001b[38;5;241m=\u001b[39m shadow_tree\u001b[38;5;241m.\u001b[39mclasses()\n\u001b[1;32m    796\u001b[0m     color_map \u001b[38;5;241m=\u001b[39m {v: color_values[i] \u001b[38;5;28;01mfor\u001b[39;00m i, v \u001b[38;5;129;01min\u001b[39;00m \u001b[38;5;28menumerate\u001b[39m(class_values)}\n\u001b[0;32m--> 797\u001b[0m     \u001b[43mdraw_legend\u001b[49m\u001b[43m(\u001b[49m\u001b[43mshadow_tree\u001b[49m\u001b[43m,\u001b[49m\u001b[43m \u001b[49m\u001b[43mshadow_tree\u001b[49m\u001b[38;5;241;43m.\u001b[39;49m\u001b[43mtarget_name\u001b[49m\u001b[43m,\u001b[49m\u001b[43m \u001b[49m\u001b[38;5;124;43mf\u001b[39;49m\u001b[38;5;124;43m\"\u001b[39;49m\u001b[38;5;132;43;01m{\u001b[39;49;00m\u001b[43mtmp\u001b[49m\u001b[38;5;132;43;01m}\u001b[39;49;00m\u001b[38;5;124;43m/legend_\u001b[39;49m\u001b[38;5;132;43;01m{\u001b[39;49;00m\u001b[43mos\u001b[49m\u001b[38;5;241;43m.\u001b[39;49m\u001b[43mgetpid\u001b[49m\u001b[43m(\u001b[49m\u001b[43m)\u001b[49m\u001b[38;5;132;43;01m}\u001b[39;49;00m\u001b[38;5;124;43m.svg\u001b[39;49m\u001b[38;5;124;43m\"\u001b[39;49m\u001b[43m,\u001b[49m\u001b[43m \u001b[49m\u001b[43mcolors\u001b[49m\u001b[38;5;241;43m=\u001b[39;49m\u001b[43mcolors\u001b[49m\u001b[43m,\u001b[49m\u001b[43m \u001b[49m\u001b[43mfontname\u001b[49m\u001b[38;5;241;43m=\u001b[39;49m\u001b[43mfontname\u001b[49m\u001b[43m)\u001b[49m\n\u001b[1;32m    799\u001b[0m X_data \u001b[38;5;241m=\u001b[39m shadow_tree\u001b[38;5;241m.\u001b[39mx_data\n\u001b[1;32m    800\u001b[0m y_data \u001b[38;5;241m=\u001b[39m shadow_tree\u001b[38;5;241m.\u001b[39my_data\n",
      "File \u001b[0;32m/opt/homebrew/anaconda3/lib/python3.9/site-packages/dtreeviz/trees.py:1292\u001b[0m, in \u001b[0;36mdraw_legend\u001b[0;34m(shadow_tree, target_name, filename, colors, fontname)\u001b[0m\n\u001b[1;32m   1289\u001b[0m boxes \u001b[38;5;241m=\u001b[39m []\n\u001b[1;32m   1290\u001b[0m \u001b[38;5;28;01mfor\u001b[39;00m i, c \u001b[38;5;129;01min\u001b[39;00m \u001b[38;5;28menumerate\u001b[39m(class_values):\n\u001b[1;32m   1291\u001b[0m     box \u001b[38;5;241m=\u001b[39m patches\u001b[38;5;241m.\u001b[39mRectangle((\u001b[38;5;241m0\u001b[39m, \u001b[38;5;241m0\u001b[39m), \u001b[38;5;241m20\u001b[39m, \u001b[38;5;241m10\u001b[39m, linewidth\u001b[38;5;241m=\u001b[39m\u001b[38;5;241m.4\u001b[39m, edgecolor\u001b[38;5;241m=\u001b[39mcolors[\u001b[38;5;124m'\u001b[39m\u001b[38;5;124mrect_edge\u001b[39m\u001b[38;5;124m'\u001b[39m],\n\u001b[0;32m-> 1292\u001b[0m                             facecolor\u001b[38;5;241m=\u001b[39mcolor_map[c], label\u001b[38;5;241m=\u001b[39m\u001b[43mclass_names\u001b[49m\u001b[43m[\u001b[49m\u001b[43mi\u001b[49m\u001b[43m]\u001b[49m)\n\u001b[1;32m   1293\u001b[0m     boxes\u001b[38;5;241m.\u001b[39mappend(box)\n\u001b[1;32m   1295\u001b[0m fig, ax \u001b[38;5;241m=\u001b[39m plt\u001b[38;5;241m.\u001b[39msubplots(\u001b[38;5;241m1\u001b[39m, \u001b[38;5;241m1\u001b[39m, figsize\u001b[38;5;241m=\u001b[39m(\u001b[38;5;241m1\u001b[39m, \u001b[38;5;241m1\u001b[39m))\n",
      "\u001b[0;31mKeyError\u001b[0m: 1"
     ]
    }
   ],
   "source": [
    "viz = dtreeviz(clf, X_train, y_train,\n",
    "                target_name=\"target\",\n",
    "                feature_names=X_train,\n",
    "                class_names=list(y_train))"
   ]
  },
  {
   "cell_type": "markdown",
   "id": "43264317",
   "metadata": {},
   "source": [
    "#### Random Forest"
   ]
  },
  {
   "cell_type": "code",
   "execution_count": null,
   "id": "a26556c7",
   "metadata": {
    "ExecuteTime": {
     "end_time": "2022-08-17T01:23:32.651044Z",
     "start_time": "2022-08-17T01:23:32.651037Z"
    }
   },
   "outputs": [],
   "source": [
    "depths =[]\n",
    "min_samples = []\n",
    "train_accuracies = []\n",
    "train_precisions = []\n",
    "train_recalls = []\n",
    "\n",
    "v_accuracies = []\n",
    "v_precisions = []\n",
    "v_recalls = []\n",
    "min_samples_range = range(1,10)\n",
    "d_range = range(1,10)\n",
    "for d in d_range:\n",
    "    for min_sample in min_samples_range:\n",
    "        clf, train_report = modeling.random_forest_train(X_train, y_train,selected_features, target, d=d, m = min_sample , print_results=False)\n",
    "        validate_report = modeling.classifier_validate(X_validate,y_validate, clf, print_results=False)\n",
    "\n",
    "        depths.append(d)\n",
    "        min_samples.append(min_sample)\n",
    "        train_accuracies.append(train_report['accuracy'])\n",
    "        train_precisions.append(train_report['precision'])\n",
    "        train_recalls.append(train_report['recall'])\n",
    "\n",
    "        v_accuracies.append(validate_report['accuracy'])\n",
    "        v_precisions.append(validate_report['precision'])\n",
    "        v_recalls.append(validate_report['recall'])\n",
    "\n",
    "train_results_df= pd.DataFrame(data = {\"max_depth\":depths,\"min_samples_leaf\":min_samples,\"accuracy\":train_accuracies,\"precision\":train_precisions,\"recall\":train_recalls})\n",
    "validate_results_df= pd.DataFrame(data = {\"max_depth\":depths,\"min_samples_leaf\":min_samples,\"accuracy\":v_accuracies,\"precision\":v_precisions,\"recall\":v_recalls})\n",
    "\n",
    "combined_df = train_results_df.merge(validate_results_df,on=['max_depth','min_samples_leaf'], suffixes=['_train','_validate'])\n",
    "combined_df[\"accuracy_diff\"] = combined_df.accuracy_validate-combined_df.accuracy_train\n",
    "combined_df[\"precision_diff\"] = combined_df.precision_validate-combined_df.precision_train\n",
    "combined_df[\"recall_diff\"] = combined_df.recall_validate-combined_df.recall_train\n",
    "\n",
    "combined_df = combined_df.sort_values(by =['accuracy_validate','accuracy_diff'], ascending=False)\n",
    "print(f\"Highest accuracy score on train:\\n {combined_df.accuracy_train.max()} with max depth setting of {combined_df.max_depth[combined_df.accuracy_train.idxmax()]} and min_sample_leaf of {combined_df.min_samples_leaf[combined_df.accuracy_train.idxmax()]}\")\n",
    "print(f\"Highest accuracy score on validate:\\n{combined_df.accuracy_validate.max()} with max depth setting of {combined_df.max_depth[combined_df.accuracy_validate.idxmax()]} and min_sample_leaf of {combined_df.min_samples_leaf[combined_df.accuracy_validate.idxmax()]}\")\n",
    "print(f\"This was a drop-off from train of:\\n{combined_df.accuracy_diff[combined_df.accuracy_validate == combined_df.accuracy_validate.max()].array[0]}\")\n",
    "print(f\"Lowest drop-off in accuracy from train to validate:\\n {combined_df.accuracy_diff.max()} with max depth setting of {combined_df.max_depth[combined_df.accuracy_diff == combined_df.accuracy_diff.max()].array[0]} and min sample leaf of  {combined_df.min_samples_leaf[combined_df.accuracy_diff == combined_df.accuracy_diff.max()].array[0]}\")\n",
    "\n",
    "random_forest_final_results = combined_df\n",
    "random_forest_final_results[\"model\"] = 'random_forest'"
   ]
  },
  {
   "cell_type": "code",
   "execution_count": null,
   "id": "3a11c19c",
   "metadata": {
    "ExecuteTime": {
     "end_time": "2022-08-17T01:23:32.651962Z",
     "start_time": "2022-08-17T01:23:32.651956Z"
    }
   },
   "outputs": [],
   "source": [
    "_, ax = plt.subplots(1,3, figsize=(16,6))\n",
    "to_plot = [\"accuracy\",\"precision\",\"recall\"]\n",
    "    \n",
    "for i, metric in enumerate(to_plot):\n",
    "    heatmap_df = train_results_df.pivot(\"max_depth\",\"min_samples_leaf\",metric)\n",
    "    # Set floor of accuracy at the baseline \n",
    "    if i == 0:\n",
    "        sns.heatmap(heatmap_df, ax=ax[i], vmin = baseline_medal)\n",
    "        ax[i].set_title(metric)\n",
    "    else:\n",
    "        sns.heatmap(heatmap_df, ax=ax[i])\n",
    "        ax[i].set_title(metric)\n",
    "    plt.suptitle('Train performance')"
   ]
  },
  {
   "cell_type": "code",
   "execution_count": null,
   "id": "f09823d0",
   "metadata": {
    "ExecuteTime": {
     "end_time": "2022-08-17T01:23:32.652584Z",
     "start_time": "2022-08-17T01:23:32.652579Z"
    }
   },
   "outputs": [],
   "source": [
    "_, ax = plt.subplots(1,3, figsize=(16,6))\n",
    "to_plot = [\"accuracy\",\"precision\",\"recall\"]\n",
    "for i, metric in enumerate(to_plot):\n",
    "    heatmap_df = validate_results_df.pivot(\"max_depth\",\"min_samples_leaf\",metric)\n",
    "    # Set floor of accuracy at the baseline \n",
    "    if i == 0:\n",
    "        sns.heatmap(heatmap_df, ax=ax[i], vmin = baseline_medal)\n",
    "        ax[i].set_title(metric)\n",
    "    else:\n",
    "        sns.heatmap(heatmap_df, ax=ax[i])\n",
    "        ax[i].set_title(metric)\n",
    "    plt.suptitle('Validate performance')"
   ]
  },
  {
   "cell_type": "code",
   "execution_count": null,
   "id": "07f6a3b5",
   "metadata": {
    "ExecuteTime": {
     "end_time": "2022-08-17T01:23:32.653442Z",
     "start_time": "2022-08-17T01:23:32.653436Z"
    }
   },
   "outputs": [],
   "source": [
    "_, ax = plt.subplots(1,3, figsize=(16,6))\n",
    "to_plot = [\"accuracy_diff\",\"precision_diff\",\"recall_diff\"]\n",
    "for i, metric in enumerate(to_plot):\n",
    "    heatmap_df = combined_df.pivot(\"max_depth\",\"min_samples_leaf\",metric)\n",
    "    sns.heatmap(heatmap_df, ax=ax[i])\n",
    "    plt.suptitle('Difference between validate and train performance')\n",
    "    ax[i].set_title(metric)"
   ]
  },
  {
   "cell_type": "markdown",
   "id": "a0b015e6",
   "metadata": {},
   "source": [
    "### KNN"
   ]
  },
  {
   "cell_type": "code",
   "execution_count": null,
   "id": "02beb595",
   "metadata": {
    "ExecuteTime": {
     "end_time": "2022-08-17T01:23:32.654085Z",
     "start_time": "2022-08-17T01:23:32.654077Z"
    }
   },
   "outputs": [],
   "source": [
    "ks =[]\n",
    "train_accuracies = []\n",
    "train_precisions = []\n",
    "train_recalls = []\n",
    "\n",
    "v_accuracies = []\n",
    "v_precisions = []\n",
    "v_recalls = []\n",
    "\n",
    "k_range = range(1,100)\n",
    "for k in k_range:\n",
    "\n",
    "    clf, train_report = modeling.knn_train(X_train, y_train, selected_features, target, k=k, print_results=False)\n",
    "    validate_report = modeling.knn_validate(X_validate,y_validate, clf, print_results=False)\n",
    "\n",
    "    ks.append(k)\n",
    "    min_samples.append(min_sample)\n",
    "    train_accuracies.append(train_report['accuracy'])\n",
    "    train_precisions.append(train_report['precision'])\n",
    "    train_recalls.append(train_report['recall'])\n",
    "\n",
    "    v_accuracies.append(validate_report['accuracy'])\n",
    "    v_precisions.append(validate_report['precision'])\n",
    "    v_recalls.append(validate_report['recall'])"
   ]
  },
  {
   "cell_type": "code",
   "execution_count": null,
   "id": "3eb84a04",
   "metadata": {
    "ExecuteTime": {
     "end_time": "2022-08-17T01:23:32.654526Z",
     "start_time": "2022-08-17T01:23:32.654521Z"
    }
   },
   "outputs": [],
   "source": [
    "train_results_df= pd.DataFrame(data = {\"k\":ks,\"accuracy\":train_accuracies,\"precision\":train_precisions,\"recall\":train_recalls})\n",
    "validate_results_df= pd.DataFrame(data = {\"k\":ks,\"accuracy\":v_accuracies,\"precision\":v_precisions,\"recall\":v_recalls})\n",
    "\n",
    "combined_df = train_results_df.merge(validate_results_df,on=['k'], suffixes=['_train','_validate'])\n",
    "combined_df[\"accuracy_diff\"] = combined_df.accuracy_validate-combined_df.accuracy_train\n",
    "combined_df[\"precision_diff\"] = combined_df.precision_validate-combined_df.precision_train\n",
    "combined_df[\"recall_diff\"] = combined_df.recall_validate-combined_df.recall_train\n",
    "\n",
    "combined_df = combined_df.sort_values(by =['accuracy_validate','accuracy_diff'], ascending=False)\n",
    "print(f\"Highest accuracy score on train:\\n {combined_df.accuracy_train.max()} with k setting of {combined_df.k[combined_df.accuracy_train.idxmax()]}\")\n",
    "print(f\"Highest accuracy score on validate:\\n {combined_df.accuracy_validate.max()} with k setting of {combined_df.k[combined_df.accuracy_validate.idxmax()]}\")\n",
    "print(f\"Lowest drop-off in accuracy from train to validate:\\n {combined_df.accuracy_diff.min()} with k setting of {combined_df.k[combined_df.accuracy_diff == combined_df.accuracy_diff.min()].array[0]}\")\n",
    "\n",
    "knn_final_results = combined_df\n",
    "knn_final_results[\"model\"] = 'k_nearest_neighbors'"
   ]
  },
  {
   "cell_type": "code",
   "execution_count": null,
   "id": "0c30ca32",
   "metadata": {
    "ExecuteTime": {
     "end_time": "2022-08-17T01:23:32.655302Z",
     "start_time": "2022-08-17T01:23:32.655296Z"
    }
   },
   "outputs": [],
   "source": [
    "# Melt metrics into same column to enable clean plotting with seaborn\n",
    "data = pd.melt(combined_df.drop(columns = ['accuracy_diff','precision_diff','recall_diff']), id_vars =['k'], var_name='metric')\n",
    "\n",
    "_, ax = plt.subplots(1,3, figsize=(16,6))\n",
    "to_plot = [\"accuracy\",\"precision\",\"recall\"]\n",
    "for i, metric in enumerate(to_plot):\n",
    "    sns.lineplot(x = data[data.metric.str.contains(metric)].k, \n",
    "                 y = data[data.metric.str.contains(metric)].value, \n",
    "                 hue = data[data.metric.str.contains(metric)].metric,  \n",
    "                 ax=ax[i])\n",
    "    \n",
    "    plt.suptitle(f'KNN Train and validate performance \\nPrecision and recall based on class 1')\n",
    "    plt.tight_layout()\n",
    "    #plt.xticks([analysis_range])\n",
    "    ax[i].legend(title = 'data set')\n",
    "    ax[i].set_title(metric)\n",
    "    if metric == \"accuracy\":\n",
    "        ax[i].set_title('Accuracy (Baseline accuracy shown in green)')\n",
    "        ax[i].axhline(baseline_medal, color = 'green')"
   ]
  },
  {
   "cell_type": "markdown",
   "id": "ca52f9c8",
   "metadata": {},
   "source": [
    "### Logistical Regression"
   ]
  },
  {
   "cell_type": "code",
   "execution_count": null,
   "id": "c2301f71",
   "metadata": {
    "ExecuteTime": {
     "end_time": "2022-08-17T01:23:32.657706Z",
     "start_time": "2022-08-17T01:23:32.657698Z"
    }
   },
   "outputs": [],
   "source": [
    "cs =[]\n",
    "train_accuracies = []\n",
    "train_precisions = []\n",
    "train_recalls = []\n",
    "\n",
    "v_accuracies = []\n",
    "v_precisions = []\n",
    "v_recalls = []\n",
    "\n",
    "c_range = np.linspace(0.01, 10000, num = 50)#[0.01, 0.1, 1.0, 10, 100, 1000, 10000]\n",
    "for c in c_range:\n",
    "\n",
    "    clf, train_report = modeling.logistic_regression_train(X_train, y_train, selected_features, target, c=c, print_results=False)\n",
    "    validate_report = modeling.logisitic_regression_validate(X_validate,y_validate, clf, print_results=False)\n",
    "\n",
    "    cs.append(clf.C)\n",
    "    min_samples.append(min_sample)\n",
    "    train_accuracies.append(train_report['accuracy'])\n",
    "    train_precisions.append(train_report['precision'])\n",
    "    train_recalls.append(train_report['recall'])\n",
    "\n",
    "    v_accuracies.append(validate_report['accuracy'])\n",
    "    v_precisions.append(validate_report['precision'])\n",
    "    v_recalls.append(validate_report['recall'])"
   ]
  },
  {
   "cell_type": "code",
   "execution_count": null,
   "id": "1f14ae7e",
   "metadata": {
    "ExecuteTime": {
     "end_time": "2022-08-17T01:23:32.659844Z",
     "start_time": "2022-08-17T01:23:32.659816Z"
    }
   },
   "outputs": [],
   "source": [
    "train_results_df= pd.DataFrame(data = {\"c\":cs,\"accuracy\":train_accuracies,\"precision\":train_precisions,\"recall\":train_recalls})\n",
    "validate_results_df= pd.DataFrame(data = {\"c\":cs,\"accuracy\":v_accuracies,\"precision\":v_precisions,\"recall\":v_recalls})\n",
    "\n",
    "combined_df = train_results_df.merge(validate_results_df,on=['c'], suffixes=['_train','_validate'])\n",
    "combined_df[\"accuracy_diff\"] = combined_df.accuracy_validate-combined_df.accuracy_train\n",
    "combined_df[\"precision_diff\"] = combined_df.precision_validate-combined_df.precision_train\n",
    "combined_df[\"recall_diff\"] = combined_df.recall_validate-combined_df.recall_train\n",
    "\n",
    "combined_df = combined_df.sort_values(by =['accuracy_validate','accuracy_diff'], ascending=False)\n",
    "print(f\"Highest accuracy score on train:\\n {combined_df.accuracy_train.max()} with c setting of {combined_df.c[combined_df.accuracy_train.idxmax()]}\")\n",
    "print(f\"Highest accuracy score on validate:\\n {combined_df.accuracy_validate.max()} with c setting of {combined_df.c[combined_df.accuracy_validate.idxmax()]}\")\n",
    "print(f\"Lowest drop-off in accuracy from train to validate:\\n {combined_df.accuracy_diff.min()} with c setting of {combined_df.c[combined_df.accuracy_diff == combined_df.accuracy_diff.min()].array[0]}\")\n",
    "\n",
    "logistic_regression_final_results = combined_df\n",
    "logistic_regression_final_results[\"model\"] = 'logistic_regression'"
   ]
  },
  {
   "cell_type": "code",
   "execution_count": null,
   "id": "8e630ec7",
   "metadata": {
    "ExecuteTime": {
     "end_time": "2022-08-17T01:23:32.661011Z",
     "start_time": "2022-08-17T01:23:32.661005Z"
    }
   },
   "outputs": [],
   "source": [
    "# Melt metrics into same column to enable clean plotting with seaborn\n",
    "data = pd.melt(combined_df.drop(columns = ['accuracy_diff','precision_diff','recall_diff']), id_vars =['c'], var_name='metric')\n",
    "\n",
    "_, ax = plt.subplots(1,3, figsize=(16,6))\n",
    "to_plot = [\"accuracy\",\"precision\",\"recall\"]\n",
    "for i, metric in enumerate(to_plot):\n",
    "    sns.lineplot(x = data[data.metric.str.contains(metric)].c, \n",
    "                 y = data[data.metric.str.contains(metric)].value, \n",
    "                 hue = data[data.metric.str.contains(metric)].metric,  \n",
    "                 ax=ax[i])\n",
    "    \n",
    "    plt.suptitle(f'Logistic Regression Train and Validate performance \\nPrecision and recall based on class 1')\n",
    "    plt.tight_layout()\n",
    "    #plt.xticks([analysis_range])\n",
    "    ax[i].legend(title = 'data set')\n",
    "    ax[i].set_title(metric)\n",
    "    if metric == \"accuracy\":\n",
    "        ax[i].set_title('Accuracy (Baseline accuracy shown in green)')\n",
    "        ax[i].axhline(baseline_medal, color = 'green')"
   ]
  },
  {
   "cell_type": "code",
   "execution_count": null,
   "id": "0f52a00c",
   "metadata": {
    "ExecuteTime": {
     "end_time": "2022-08-17T01:23:32.661737Z",
     "start_time": "2022-08-17T01:23:32.661731Z"
    }
   },
   "outputs": [],
   "source": [
    "final_results = pd.concat([decision_tree_final_results,random_forest_final_results,knn_final_results,logistic_regression_final_results])"
   ]
  },
  {
   "cell_type": "code",
   "execution_count": null,
   "id": "f16e8e7c",
   "metadata": {
    "ExecuteTime": {
     "end_time": "2022-08-17T01:23:32.662370Z",
     "start_time": "2022-08-17T01:23:32.662365Z"
    }
   },
   "outputs": [],
   "source": [
    "final_results.sort_values(by='accuracy_validate', ascending=False)"
   ]
  },
  {
   "cell_type": "code",
   "execution_count": null,
   "id": "807cc573",
   "metadata": {},
   "outputs": [],
   "source": []
  },
  {
   "cell_type": "code",
   "execution_count": null,
   "id": "fb0ed3c7",
   "metadata": {},
   "outputs": [],
   "source": []
  },
  {
   "cell_type": "code",
   "execution_count": null,
   "id": "f3b27043",
   "metadata": {},
   "outputs": [],
   "source": []
  }
 ],
 "metadata": {
  "kernelspec": {
   "display_name": "Python 3 (ipykernel)",
   "language": "python",
   "name": "python3"
  },
  "language_info": {
   "codemirror_mode": {
    "name": "ipython",
    "version": 3
   },
   "file_extension": ".py",
   "mimetype": "text/x-python",
   "name": "python",
   "nbconvert_exporter": "python",
   "pygments_lexer": "ipython3",
   "version": "3.9.13"
  }
 },
 "nbformat": 4,
 "nbformat_minor": 5
}
