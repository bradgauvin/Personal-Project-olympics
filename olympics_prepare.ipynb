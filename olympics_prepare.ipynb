{
 "cells": [
  {
   "cell_type": "markdown",
   "id": "9c7b371e",
   "metadata": {},
   "source": [
    "#### Info\n",
    "- need to download '!pip install opendatasets'\n",
    "- Acquire data from .py file\n",
    "- Need Kaggle api token\n",
    "- For information on kaggle api visit this [link](https://www.analyticsvidhya.com/blog/2021/04/how-to-download-kaggle-datasets-using-jupyter-notebook/ \"how to download kaggle dataset using jupyter notebook\")"
   ]
  },
  {
   "cell_type": "code",
   "execution_count": 1,
   "id": "3517b149",
   "metadata": {
    "ExecuteTime": {
     "end_time": "2022-08-14T23:51:01.664931Z",
     "start_time": "2022-08-14T23:51:01.660985Z"
    }
   },
   "outputs": [],
   "source": [
    "# May Need to install for data\n",
    "# !pip install opendatasets"
   ]
  },
  {
   "cell_type": "code",
   "execution_count": 2,
   "id": "418bfd53",
   "metadata": {
    "ExecuteTime": {
     "end_time": "2022-08-14T23:51:02.050550Z",
     "start_time": "2022-08-14T23:51:01.666814Z"
    }
   },
   "outputs": [],
   "source": [
    "import pandas as pd\n",
    "import numpy as np\n",
    "import opendatasets as od\n",
    "import os\n",
    "import wrangle_o"
   ]
  },
  {
   "cell_type": "code",
   "execution_count": 3,
   "id": "f99d5699",
   "metadata": {
    "ExecuteTime": {
     "end_time": "2022-08-14T23:51:02.892425Z",
     "start_time": "2022-08-14T23:51:02.051597Z"
    }
   },
   "outputs": [
    {
     "name": "stdout",
     "output_type": "stream",
     "text": [
      "Olympic data pulled\n"
     ]
    }
   ],
   "source": [
    "wrangle_o.pull_data()"
   ]
  },
  {
   "cell_type": "code",
   "execution_count": 4,
   "id": "6c61a530",
   "metadata": {
    "ExecuteTime": {
     "end_time": "2022-08-14T23:51:03.688144Z",
     "start_time": "2022-08-14T23:51:02.893154Z"
    }
   },
   "outputs": [],
   "source": [
    "bio = pd.read_csv('Olympic_Athlete_Bio.csv',keep_default_na=False)\n",
    "er = pd.read_csv('Olympic_Athlete_Event_Results.csv')\n",
    "res = pd.read_csv('Olympic_Results.csv')\n",
    "country = pd.read_csv('Olympics_country.csv')\n",
    "games = pd.read_csv('Olympics_Games.csv')\n",
    "mt = pd.read_csv('Olympic_Games_Medal_Tally.csv')"
   ]
  },
  {
   "cell_type": "code",
   "execution_count": 5,
   "id": "9e5db5cd",
   "metadata": {
    "ExecuteTime": {
     "end_time": "2022-08-14T23:51:03.964359Z",
     "start_time": "2022-08-14T23:51:03.689515Z"
    }
   },
   "outputs": [
    {
     "name": "stdout",
     "output_type": "stream",
     "text": [
      "Use df: 'olympics'\n"
     ]
    }
   ],
   "source": [
    "olympics = wrangle_o.merge_data(bio, er, res, country, games)"
   ]
  },
  {
   "cell_type": "code",
   "execution_count": 6,
   "id": "d2f9f134",
   "metadata": {
    "ExecuteTime": {
     "end_time": "2022-08-14T23:51:04.059594Z",
     "start_time": "2022-08-14T23:51:03.965086Z"
    }
   },
   "outputs": [
    {
     "data": {
      "text/plain": [
       "athlete_id       0\n",
       "name             0\n",
       "sex              0\n",
       "born             0\n",
       "height           0\n",
       "weight           0\n",
       "country          0\n",
       "country_noc      0\n",
       "description      0\n",
       "special_notes    0\n",
       "dtype: int64"
      ]
     },
     "execution_count": 6,
     "metadata": {},
     "output_type": "execute_result"
    }
   ],
   "source": [
    "bio.isna().sum()"
   ]
  },
  {
   "cell_type": "code",
   "execution_count": 7,
   "id": "192f4f8a",
   "metadata": {
    "ExecuteTime": {
     "end_time": "2022-08-14T23:51:04.069094Z",
     "start_time": "2022-08-14T23:51:04.060437Z"
    }
   },
   "outputs": [
    {
     "data": {
      "text/html": [
       "<div>\n",
       "<style scoped>\n",
       "    .dataframe tbody tr th:only-of-type {\n",
       "        vertical-align: middle;\n",
       "    }\n",
       "\n",
       "    .dataframe tbody tr th {\n",
       "        vertical-align: top;\n",
       "    }\n",
       "\n",
       "    .dataframe thead th {\n",
       "        text-align: right;\n",
       "    }\n",
       "</style>\n",
       "<table border=\"1\" class=\"dataframe\">\n",
       "  <thead>\n",
       "    <tr style=\"text-align: right;\">\n",
       "      <th></th>\n",
       "      <th>athlete_id</th>\n",
       "      <th>name</th>\n",
       "      <th>sex</th>\n",
       "      <th>born</th>\n",
       "      <th>height</th>\n",
       "      <th>weight</th>\n",
       "      <th>country</th>\n",
       "      <th>country_noc_x</th>\n",
       "      <th>description</th>\n",
       "      <th>special_notes</th>\n",
       "      <th>edition</th>\n",
       "      <th>sport</th>\n",
       "      <th>event</th>\n",
       "      <th>result_id</th>\n",
       "      <th>medal</th>\n",
       "      <th>isTeamSport</th>\n",
       "      <th>result_participants</th>\n",
       "      <th>year</th>\n",
       "      <th>city</th>\n",
       "      <th>country_noc_y</th>\n",
       "    </tr>\n",
       "  </thead>\n",
       "  <tbody>\n",
       "    <tr>\n",
       "      <th>0</th>\n",
       "      <td>14503</td>\n",
       "      <td>scar Giraldo</td>\n",
       "      <td>Male</td>\n",
       "      <td>1973-04-13</td>\n",
       "      <td>na</td>\n",
       "      <td>na</td>\n",
       "      <td>Colombia</td>\n",
       "      <td>COL</td>\n",
       "      <td>na</td>\n",
       "      <td>na</td>\n",
       "      <td>1996 Summer Olympics</td>\n",
       "      <td>Cycling Road</td>\n",
       "      <td>Road Race, Individual, Men</td>\n",
       "      <td>154878</td>\n",
       "      <td>na</td>\n",
       "      <td>False</td>\n",
       "      <td>183 from 57 countries</td>\n",
       "      <td>1996.0</td>\n",
       "      <td>Atlanta</td>\n",
       "      <td>USA</td>\n",
       "    </tr>\n",
       "    <tr>\n",
       "      <th>1</th>\n",
       "      <td>58758</td>\n",
       "      <td>Hossein Mollaghasemi</td>\n",
       "      <td>Male</td>\n",
       "      <td>1933-03-15</td>\n",
       "      <td>173.0</td>\n",
       "      <td>63</td>\n",
       "      <td>Islamic Republic of Iran</td>\n",
       "      <td>IRI</td>\n",
       "      <td>Hossein Ebrahimian had the following finishes ...</td>\n",
       "      <td>Nephew of Mahmoud Mollaghasemi</td>\n",
       "      <td>1960 Summer Olympics</td>\n",
       "      <td>Wrestling</td>\n",
       "      <td>Featherweight, Greco-Roman, Men</td>\n",
       "      <td>124658</td>\n",
       "      <td>na</td>\n",
       "      <td>False</td>\n",
       "      <td>25 from 25 countries</td>\n",
       "      <td>1960.0</td>\n",
       "      <td>Roma</td>\n",
       "      <td>ITA</td>\n",
       "    </tr>\n",
       "    <tr>\n",
       "      <th>2</th>\n",
       "      <td>58758</td>\n",
       "      <td>Hossein Mollaghasemi</td>\n",
       "      <td>Male</td>\n",
       "      <td>1933-03-15</td>\n",
       "      <td>173.0</td>\n",
       "      <td>63</td>\n",
       "      <td>Islamic Republic of Iran</td>\n",
       "      <td>IRI</td>\n",
       "      <td>Hossein Ebrahimian had the following finishes ...</td>\n",
       "      <td>Nephew of Mahmoud Mollaghasemi</td>\n",
       "      <td>1964 Summer Olympics</td>\n",
       "      <td>Wrestling</td>\n",
       "      <td>Lightweight, Greco-Roman, Men</td>\n",
       "      <td>125396</td>\n",
       "      <td>na</td>\n",
       "      <td>False</td>\n",
       "      <td>19 from 19 countries</td>\n",
       "      <td>1964.0</td>\n",
       "      <td>Tokyo</td>\n",
       "      <td>JPN</td>\n",
       "    </tr>\n",
       "    <tr>\n",
       "      <th>3</th>\n",
       "      <td>90217</td>\n",
       "      <td>Enrico Lazzarotto</td>\n",
       "      <td>Male</td>\n",
       "      <td>1973-01-14</td>\n",
       "      <td>178.0</td>\n",
       "      <td>72</td>\n",
       "      <td>Italy</td>\n",
       "      <td>ITA</td>\n",
       "      <td>na</td>\n",
       "      <td>Listed in Olympians Who Won a Medal at the Eur...</td>\n",
       "      <td>2000 Summer Olympics</td>\n",
       "      <td>Canoe Slalom</td>\n",
       "      <td>Kayak Singles, Slalom, Men</td>\n",
       "      <td>256271</td>\n",
       "      <td>na</td>\n",
       "      <td>False</td>\n",
       "      <td>23 from 18 countries</td>\n",
       "      <td>2000.0</td>\n",
       "      <td>Sydney</td>\n",
       "      <td>AUS</td>\n",
       "    </tr>\n",
       "    <tr>\n",
       "      <th>4</th>\n",
       "      <td>74565</td>\n",
       "      <td>John Hou</td>\n",
       "      <td>Male</td>\n",
       "      <td>1968-09-25</td>\n",
       "      <td>178.0</td>\n",
       "      <td>60</td>\n",
       "      <td>Papua New Guinea</td>\n",
       "      <td>PNG</td>\n",
       "      <td>Personal Best: 100 – 10.95 (1990).</td>\n",
       "      <td>na</td>\n",
       "      <td>1988 Summer Olympics</td>\n",
       "      <td>Athletics</td>\n",
       "      <td>100 metres, Men</td>\n",
       "      <td>63261</td>\n",
       "      <td>na</td>\n",
       "      <td>False</td>\n",
       "      <td>102 from 69 countries</td>\n",
       "      <td>1988.0</td>\n",
       "      <td>Seoul</td>\n",
       "      <td>KOR</td>\n",
       "    </tr>\n",
       "  </tbody>\n",
       "</table>\n",
       "</div>"
      ],
      "text/plain": [
       "   athlete_id                  name   sex        born height weight  \\\n",
       "0       14503          scar Giraldo  Male  1973-04-13     na     na   \n",
       "1       58758  Hossein Mollaghasemi  Male  1933-03-15  173.0     63   \n",
       "2       58758  Hossein Mollaghasemi  Male  1933-03-15  173.0     63   \n",
       "3       90217     Enrico Lazzarotto  Male  1973-01-14  178.0     72   \n",
       "4       74565              John Hou  Male  1968-09-25  178.0     60   \n",
       "\n",
       "                     country country_noc_x  \\\n",
       "0                   Colombia           COL   \n",
       "1   Islamic Republic of Iran           IRI   \n",
       "2   Islamic Republic of Iran           IRI   \n",
       "3                      Italy           ITA   \n",
       "4           Papua New Guinea           PNG   \n",
       "\n",
       "                                         description  \\\n",
       "0                                                 na   \n",
       "1  Hossein Ebrahimian had the following finishes ...   \n",
       "2  Hossein Ebrahimian had the following finishes ...   \n",
       "3                                                 na   \n",
       "4                 Personal Best: 100 – 10.95 (1990).   \n",
       "\n",
       "                                       special_notes               edition  \\\n",
       "0                                                 na  1996 Summer Olympics   \n",
       "1                     Nephew of Mahmoud Mollaghasemi  1960 Summer Olympics   \n",
       "2                     Nephew of Mahmoud Mollaghasemi  1964 Summer Olympics   \n",
       "3  Listed in Olympians Who Won a Medal at the Eur...  2000 Summer Olympics   \n",
       "4                                                 na  1988 Summer Olympics   \n",
       "\n",
       "          sport                            event  result_id medal  \\\n",
       "0  Cycling Road       Road Race, Individual, Men     154878    na   \n",
       "1     Wrestling  Featherweight, Greco-Roman, Men     124658    na   \n",
       "2     Wrestling    Lightweight, Greco-Roman, Men     125396    na   \n",
       "3  Canoe Slalom       Kayak Singles, Slalom, Men     256271    na   \n",
       "4     Athletics                  100 metres, Men      63261    na   \n",
       "\n",
       "   isTeamSport    result_participants    year     city country_noc_y  \n",
       "0        False  183 from 57 countries  1996.0  Atlanta           USA  \n",
       "1        False   25 from 25 countries  1960.0     Roma           ITA  \n",
       "2        False   19 from 19 countries  1964.0    Tokyo           JPN  \n",
       "3        False   23 from 18 countries  2000.0   Sydney           AUS  \n",
       "4        False  102 from 69 countries  1988.0    Seoul           KOR  "
      ]
     },
     "execution_count": 7,
     "metadata": {},
     "output_type": "execute_result"
    }
   ],
   "source": [
    "olympics.head()"
   ]
  },
  {
   "cell_type": "code",
   "execution_count": 8,
   "id": "a7a278ff",
   "metadata": {
    "ExecuteTime": {
     "end_time": "2022-08-14T23:51:04.075508Z",
     "start_time": "2022-08-14T23:51:04.070204Z"
    }
   },
   "outputs": [
    {
     "data": {
      "text/plain": [
       "1992.0    17198\n",
       "1988.0    15946\n",
       "2020.0    14786\n",
       "2000.0    14032\n",
       "1996.0    13994\n",
       "2008.0    13975\n",
       "2016.0    13941\n",
       "2004.0    13756\n",
       "2012.0    13196\n",
       "1972.0    12586\n",
       "1984.0    12288\n",
       "1968.0    11174\n",
       "1976.0    10869\n",
       "1952.0    10214\n",
       "1964.0    10105\n",
       "1960.0     9680\n",
       "1980.0     9267\n",
       "1936.0     8529\n",
       "1948.0     8258\n",
       "1924.0     7065\n",
       "1956.0     6650\n",
       "1928.0     6394\n",
       "1912.0     5424\n",
       "2022.0     5388\n",
       "2018.0     5196\n",
       "2014.0     4984\n",
       "1920.0     4639\n",
       "2010.0     4467\n",
       "2006.0     4403\n",
       "2002.0     4127\n",
       "1932.0     4084\n",
       "1908.0     4023\n",
       "1998.0     3698\n",
       "1994.0     3225\n",
       "1900.0     3147\n",
       "1904.0     3075\n",
       "1896.0      619\n",
       "Name: year, dtype: int64"
      ]
     },
     "execution_count": 8,
     "metadata": {},
     "output_type": "execute_result"
    }
   ],
   "source": [
    "olympics.year.value_counts()"
   ]
  },
  {
   "cell_type": "markdown",
   "id": "871717d0",
   "metadata": {},
   "source": [
    "### Cleaning Data"
   ]
  },
  {
   "cell_type": "code",
   "execution_count": 9,
   "id": "dd5a4e87",
   "metadata": {
    "ExecuteTime": {
     "end_time": "2022-08-14T23:51:04.158489Z",
     "start_time": "2022-08-14T23:51:04.076229Z"
    }
   },
   "outputs": [],
   "source": [
    "# Delete unecessary Columns\n",
    "olympics = olympics.drop(['description','special_notes'], axis=1)"
   ]
  },
  {
   "cell_type": "code",
   "execution_count": 10,
   "id": "b173cb70",
   "metadata": {
    "ExecuteTime": {
     "end_time": "2022-08-14T23:51:04.166094Z",
     "start_time": "2022-08-14T23:51:04.159354Z"
    }
   },
   "outputs": [
    {
     "data": {
      "text/html": [
       "<div>\n",
       "<style scoped>\n",
       "    .dataframe tbody tr th:only-of-type {\n",
       "        vertical-align: middle;\n",
       "    }\n",
       "\n",
       "    .dataframe tbody tr th {\n",
       "        vertical-align: top;\n",
       "    }\n",
       "\n",
       "    .dataframe thead th {\n",
       "        text-align: right;\n",
       "    }\n",
       "</style>\n",
       "<table border=\"1\" class=\"dataframe\">\n",
       "  <thead>\n",
       "    <tr style=\"text-align: right;\">\n",
       "      <th></th>\n",
       "      <th>athlete_id</th>\n",
       "      <th>name</th>\n",
       "      <th>sex</th>\n",
       "      <th>born</th>\n",
       "      <th>height</th>\n",
       "      <th>weight</th>\n",
       "      <th>country</th>\n",
       "      <th>country_noc_x</th>\n",
       "      <th>edition</th>\n",
       "      <th>sport</th>\n",
       "      <th>event</th>\n",
       "      <th>result_id</th>\n",
       "      <th>medal</th>\n",
       "      <th>isTeamSport</th>\n",
       "      <th>result_participants</th>\n",
       "      <th>year</th>\n",
       "      <th>city</th>\n",
       "      <th>country_noc_y</th>\n",
       "    </tr>\n",
       "  </thead>\n",
       "  <tbody>\n",
       "    <tr>\n",
       "      <th>0</th>\n",
       "      <td>14503</td>\n",
       "      <td>scar Giraldo</td>\n",
       "      <td>Male</td>\n",
       "      <td>1973-04-13</td>\n",
       "      <td>na</td>\n",
       "      <td>na</td>\n",
       "      <td>Colombia</td>\n",
       "      <td>COL</td>\n",
       "      <td>1996 Summer Olympics</td>\n",
       "      <td>Cycling Road</td>\n",
       "      <td>Road Race, Individual, Men</td>\n",
       "      <td>154878</td>\n",
       "      <td>na</td>\n",
       "      <td>False</td>\n",
       "      <td>183 from 57 countries</td>\n",
       "      <td>1996.0</td>\n",
       "      <td>Atlanta</td>\n",
       "      <td>USA</td>\n",
       "    </tr>\n",
       "    <tr>\n",
       "      <th>1</th>\n",
       "      <td>58758</td>\n",
       "      <td>Hossein Mollaghasemi</td>\n",
       "      <td>Male</td>\n",
       "      <td>1933-03-15</td>\n",
       "      <td>173.0</td>\n",
       "      <td>63</td>\n",
       "      <td>Islamic Republic of Iran</td>\n",
       "      <td>IRI</td>\n",
       "      <td>1960 Summer Olympics</td>\n",
       "      <td>Wrestling</td>\n",
       "      <td>Featherweight, Greco-Roman, Men</td>\n",
       "      <td>124658</td>\n",
       "      <td>na</td>\n",
       "      <td>False</td>\n",
       "      <td>25 from 25 countries</td>\n",
       "      <td>1960.0</td>\n",
       "      <td>Roma</td>\n",
       "      <td>ITA</td>\n",
       "    </tr>\n",
       "    <tr>\n",
       "      <th>2</th>\n",
       "      <td>58758</td>\n",
       "      <td>Hossein Mollaghasemi</td>\n",
       "      <td>Male</td>\n",
       "      <td>1933-03-15</td>\n",
       "      <td>173.0</td>\n",
       "      <td>63</td>\n",
       "      <td>Islamic Republic of Iran</td>\n",
       "      <td>IRI</td>\n",
       "      <td>1964 Summer Olympics</td>\n",
       "      <td>Wrestling</td>\n",
       "      <td>Lightweight, Greco-Roman, Men</td>\n",
       "      <td>125396</td>\n",
       "      <td>na</td>\n",
       "      <td>False</td>\n",
       "      <td>19 from 19 countries</td>\n",
       "      <td>1964.0</td>\n",
       "      <td>Tokyo</td>\n",
       "      <td>JPN</td>\n",
       "    </tr>\n",
       "    <tr>\n",
       "      <th>3</th>\n",
       "      <td>90217</td>\n",
       "      <td>Enrico Lazzarotto</td>\n",
       "      <td>Male</td>\n",
       "      <td>1973-01-14</td>\n",
       "      <td>178.0</td>\n",
       "      <td>72</td>\n",
       "      <td>Italy</td>\n",
       "      <td>ITA</td>\n",
       "      <td>2000 Summer Olympics</td>\n",
       "      <td>Canoe Slalom</td>\n",
       "      <td>Kayak Singles, Slalom, Men</td>\n",
       "      <td>256271</td>\n",
       "      <td>na</td>\n",
       "      <td>False</td>\n",
       "      <td>23 from 18 countries</td>\n",
       "      <td>2000.0</td>\n",
       "      <td>Sydney</td>\n",
       "      <td>AUS</td>\n",
       "    </tr>\n",
       "    <tr>\n",
       "      <th>4</th>\n",
       "      <td>74565</td>\n",
       "      <td>John Hou</td>\n",
       "      <td>Male</td>\n",
       "      <td>1968-09-25</td>\n",
       "      <td>178.0</td>\n",
       "      <td>60</td>\n",
       "      <td>Papua New Guinea</td>\n",
       "      <td>PNG</td>\n",
       "      <td>1988 Summer Olympics</td>\n",
       "      <td>Athletics</td>\n",
       "      <td>100 metres, Men</td>\n",
       "      <td>63261</td>\n",
       "      <td>na</td>\n",
       "      <td>False</td>\n",
       "      <td>102 from 69 countries</td>\n",
       "      <td>1988.0</td>\n",
       "      <td>Seoul</td>\n",
       "      <td>KOR</td>\n",
       "    </tr>\n",
       "  </tbody>\n",
       "</table>\n",
       "</div>"
      ],
      "text/plain": [
       "   athlete_id                  name   sex        born height weight  \\\n",
       "0       14503          scar Giraldo  Male  1973-04-13     na     na   \n",
       "1       58758  Hossein Mollaghasemi  Male  1933-03-15  173.0     63   \n",
       "2       58758  Hossein Mollaghasemi  Male  1933-03-15  173.0     63   \n",
       "3       90217     Enrico Lazzarotto  Male  1973-01-14  178.0     72   \n",
       "4       74565              John Hou  Male  1968-09-25  178.0     60   \n",
       "\n",
       "                     country country_noc_x               edition  \\\n",
       "0                   Colombia           COL  1996 Summer Olympics   \n",
       "1   Islamic Republic of Iran           IRI  1960 Summer Olympics   \n",
       "2   Islamic Republic of Iran           IRI  1964 Summer Olympics   \n",
       "3                      Italy           ITA  2000 Summer Olympics   \n",
       "4           Papua New Guinea           PNG  1988 Summer Olympics   \n",
       "\n",
       "          sport                            event  result_id medal  \\\n",
       "0  Cycling Road       Road Race, Individual, Men     154878    na   \n",
       "1     Wrestling  Featherweight, Greco-Roman, Men     124658    na   \n",
       "2     Wrestling    Lightweight, Greco-Roman, Men     125396    na   \n",
       "3  Canoe Slalom       Kayak Singles, Slalom, Men     256271    na   \n",
       "4     Athletics                  100 metres, Men      63261    na   \n",
       "\n",
       "   isTeamSport    result_participants    year     city country_noc_y  \n",
       "0        False  183 from 57 countries  1996.0  Atlanta           USA  \n",
       "1        False   25 from 25 countries  1960.0     Roma           ITA  \n",
       "2        False   19 from 19 countries  1964.0    Tokyo           JPN  \n",
       "3        False   23 from 18 countries  2000.0   Sydney           AUS  \n",
       "4        False  102 from 69 countries  1988.0    Seoul           KOR  "
      ]
     },
     "execution_count": 10,
     "metadata": {},
     "output_type": "execute_result"
    }
   ],
   "source": [
    "olympics.head()"
   ]
  },
  {
   "cell_type": "code",
   "execution_count": 11,
   "id": "87fe0a3b",
   "metadata": {
    "ExecuteTime": {
     "end_time": "2022-08-14T23:51:04.177898Z",
     "start_time": "2022-08-14T23:51:04.168223Z"
    }
   },
   "outputs": [],
   "source": [
    "#Need to Add to py file\n",
    "olympics.medal.replace('na','participant',inplace=True)"
   ]
  },
  {
   "cell_type": "code",
   "execution_count": 12,
   "id": "eef6d170",
   "metadata": {
    "ExecuteTime": {
     "end_time": "2022-08-14T23:51:04.463001Z",
     "start_time": "2022-08-14T23:51:04.178677Z"
    }
   },
   "outputs": [
    {
     "name": "stdout",
     "output_type": "stream",
     "text": [
      "<class 'pandas.core.frame.DataFrame'>\n",
      "Int64Index: 314725 entries, 0 to 314724\n",
      "Data columns (total 18 columns):\n",
      " #   Column               Non-Null Count   Dtype  \n",
      "---  ------               --------------   -----  \n",
      " 0   athlete_id           314725 non-null  int64  \n",
      " 1   name                 314725 non-null  object \n",
      " 2   sex                  314725 non-null  object \n",
      " 3   born                 314725 non-null  object \n",
      " 4   height               314725 non-null  object \n",
      " 5   weight               314725 non-null  object \n",
      " 6   country              314725 non-null  object \n",
      " 7   country_noc_x        314725 non-null  object \n",
      " 8   edition              314725 non-null  object \n",
      " 9   sport                314725 non-null  object \n",
      " 10  event                314725 non-null  object \n",
      " 11  result_id            314725 non-null  int64  \n",
      " 12  medal                314725 non-null  object \n",
      " 13  isTeamSport          314725 non-null  bool   \n",
      " 14  result_participants  314621 non-null  object \n",
      " 15  year                 314402 non-null  float64\n",
      " 16  city                 314402 non-null  object \n",
      " 17  country_noc_y        314402 non-null  object \n",
      "dtypes: bool(1), float64(1), int64(2), object(14)\n",
      "memory usage: 43.5+ MB\n"
     ]
    }
   ],
   "source": [
    "olympics.info()"
   ]
  },
  {
   "cell_type": "code",
   "execution_count": 13,
   "id": "47f3c89a",
   "metadata": {
    "ExecuteTime": {
     "end_time": "2022-08-14T23:51:04.475141Z",
     "start_time": "2022-08-14T23:51:04.463703Z"
    }
   },
   "outputs": [
    {
     "data": {
      "text/plain": [
       "na       86687\n",
       "180.0    13568\n",
       "170.0    12776\n",
       "178.0    11531\n",
       "175.0    11161\n",
       "         ...  \n",
       "226.0        3\n",
       "219.0        2\n",
       "130.0        2\n",
       "131.0        2\n",
       "128.0        1\n",
       "Name: height, Length: 96, dtype: int64"
      ]
     },
     "execution_count": 13,
     "metadata": {},
     "output_type": "execute_result"
    }
   ],
   "source": [
    "olympics.height.value_counts()"
   ]
  },
  {
   "cell_type": "code",
   "execution_count": 23,
   "id": "12fe4c67",
   "metadata": {
    "ExecuteTime": {
     "end_time": "2022-08-14T23:52:00.851382Z",
     "start_time": "2022-08-14T23:52:00.588742Z"
    }
   },
   "outputs": [
    {
     "ename": "ValueError",
     "evalue": "could not convert string to float: '166-187'",
     "output_type": "error",
     "traceback": [
      "\u001b[0;31m---------------------------------------------------------------------------\u001b[0m",
      "\u001b[0;31mValueError\u001b[0m                                Traceback (most recent call last)",
      "Input \u001b[0;32mIn [23]\u001b[0m, in \u001b[0;36m<cell line: 3>\u001b[0;34m()\u001b[0m\n\u001b[1;32m      1\u001b[0m \u001b[38;5;66;03m#df['Horsepower'] = df['Horsepower'].replace('?', np.mean(pd.to_numeric(df['Horsepower'], errors='coerce')))\u001b[39;00m\n\u001b[1;32m      2\u001b[0m olympics[\u001b[38;5;124m'\u001b[39m\u001b[38;5;124mheight\u001b[39m\u001b[38;5;124m'\u001b[39m]\u001b[38;5;241m=\u001b[39molympics[\u001b[38;5;124m'\u001b[39m\u001b[38;5;124mheight\u001b[39m\u001b[38;5;124m'\u001b[39m]\u001b[38;5;241m.\u001b[39mreplace(\u001b[38;5;124m'\u001b[39m\u001b[38;5;124mna\u001b[39m\u001b[38;5;124m'\u001b[39m,np\u001b[38;5;241m.\u001b[39mmean(pd\u001b[38;5;241m.\u001b[39mto_numeric(olympics[\u001b[38;5;124m'\u001b[39m\u001b[38;5;124mheight\u001b[39m\u001b[38;5;124m'\u001b[39m], errors\u001b[38;5;241m=\u001b[39m\u001b[38;5;124m'\u001b[39m\u001b[38;5;124mcoerce\u001b[39m\u001b[38;5;124m'\u001b[39m)))\u001b[38;5;241m.\u001b[39mastype(\u001b[38;5;124m'\u001b[39m\u001b[38;5;124mfloat\u001b[39m\u001b[38;5;124m'\u001b[39m)\n\u001b[0;32m----> 3\u001b[0m olympics[\u001b[38;5;124m'\u001b[39m\u001b[38;5;124mweight\u001b[39m\u001b[38;5;124m'\u001b[39m]\u001b[38;5;241m=\u001b[39m\u001b[43molympics\u001b[49m\u001b[43m[\u001b[49m\u001b[38;5;124;43m'\u001b[39;49m\u001b[38;5;124;43mweight\u001b[39;49m\u001b[38;5;124;43m'\u001b[39;49m\u001b[43m]\u001b[49m\u001b[38;5;241;43m.\u001b[39;49m\u001b[43mreplace\u001b[49m\u001b[43m(\u001b[49m\u001b[38;5;124;43m'\u001b[39;49m\u001b[38;5;124;43mna\u001b[39;49m\u001b[38;5;124;43m'\u001b[39;49m\u001b[43m,\u001b[49m\u001b[43mnp\u001b[49m\u001b[38;5;241;43m.\u001b[39;49m\u001b[43mmean\u001b[49m\u001b[43m(\u001b[49m\u001b[43mpd\u001b[49m\u001b[38;5;241;43m.\u001b[39;49m\u001b[43mto_numeric\u001b[49m\u001b[43m(\u001b[49m\u001b[43molympics\u001b[49m\u001b[43m[\u001b[49m\u001b[38;5;124;43m'\u001b[39;49m\u001b[38;5;124;43mweight\u001b[39;49m\u001b[38;5;124;43m'\u001b[39;49m\u001b[43m]\u001b[49m\u001b[43m,\u001b[49m\u001b[43m \u001b[49m\u001b[43merrors\u001b[49m\u001b[38;5;241;43m=\u001b[39;49m\u001b[38;5;124;43m'\u001b[39;49m\u001b[38;5;124;43mcoerce\u001b[39;49m\u001b[38;5;124;43m'\u001b[39;49m\u001b[43m)\u001b[49m\u001b[43m)\u001b[49m\u001b[43m)\u001b[49m\u001b[38;5;241;43m.\u001b[39;49m\u001b[43mastype\u001b[49m\u001b[43m(\u001b[49m\u001b[38;5;124;43m'\u001b[39;49m\u001b[38;5;124;43mfloat\u001b[39;49m\u001b[38;5;124;43m'\u001b[39;49m\u001b[43m)\u001b[49m\n\u001b[1;32m      4\u001b[0m \u001b[38;5;66;03m#olympics['born']=olympics['born'].replace('na','NAN')\u001b[39;00m\n\u001b[1;32m      5\u001b[0m olympics\u001b[38;5;241m.\u001b[39mhead()\n",
      "File \u001b[0;32m/opt/homebrew/anaconda3/lib/python3.9/site-packages/pandas/core/generic.py:5912\u001b[0m, in \u001b[0;36mNDFrame.astype\u001b[0;34m(self, dtype, copy, errors)\u001b[0m\n\u001b[1;32m   5905\u001b[0m     results \u001b[38;5;241m=\u001b[39m [\n\u001b[1;32m   5906\u001b[0m         \u001b[38;5;28mself\u001b[39m\u001b[38;5;241m.\u001b[39miloc[:, i]\u001b[38;5;241m.\u001b[39mastype(dtype, copy\u001b[38;5;241m=\u001b[39mcopy)\n\u001b[1;32m   5907\u001b[0m         \u001b[38;5;28;01mfor\u001b[39;00m i \u001b[38;5;129;01min\u001b[39;00m \u001b[38;5;28mrange\u001b[39m(\u001b[38;5;28mlen\u001b[39m(\u001b[38;5;28mself\u001b[39m\u001b[38;5;241m.\u001b[39mcolumns))\n\u001b[1;32m   5908\u001b[0m     ]\n\u001b[1;32m   5910\u001b[0m \u001b[38;5;28;01melse\u001b[39;00m:\n\u001b[1;32m   5911\u001b[0m     \u001b[38;5;66;03m# else, only a single dtype is given\u001b[39;00m\n\u001b[0;32m-> 5912\u001b[0m     new_data \u001b[38;5;241m=\u001b[39m \u001b[38;5;28;43mself\u001b[39;49m\u001b[38;5;241;43m.\u001b[39;49m\u001b[43m_mgr\u001b[49m\u001b[38;5;241;43m.\u001b[39;49m\u001b[43mastype\u001b[49m\u001b[43m(\u001b[49m\u001b[43mdtype\u001b[49m\u001b[38;5;241;43m=\u001b[39;49m\u001b[43mdtype\u001b[49m\u001b[43m,\u001b[49m\u001b[43m \u001b[49m\u001b[43mcopy\u001b[49m\u001b[38;5;241;43m=\u001b[39;49m\u001b[43mcopy\u001b[49m\u001b[43m,\u001b[49m\u001b[43m \u001b[49m\u001b[43merrors\u001b[49m\u001b[38;5;241;43m=\u001b[39;49m\u001b[43merrors\u001b[49m\u001b[43m)\u001b[49m\n\u001b[1;32m   5913\u001b[0m     \u001b[38;5;28;01mreturn\u001b[39;00m \u001b[38;5;28mself\u001b[39m\u001b[38;5;241m.\u001b[39m_constructor(new_data)\u001b[38;5;241m.\u001b[39m__finalize__(\u001b[38;5;28mself\u001b[39m, method\u001b[38;5;241m=\u001b[39m\u001b[38;5;124m\"\u001b[39m\u001b[38;5;124mastype\u001b[39m\u001b[38;5;124m\"\u001b[39m)\n\u001b[1;32m   5915\u001b[0m \u001b[38;5;66;03m# GH 33113: handle empty frame or series\u001b[39;00m\n",
      "File \u001b[0;32m/opt/homebrew/anaconda3/lib/python3.9/site-packages/pandas/core/internals/managers.py:419\u001b[0m, in \u001b[0;36mBaseBlockManager.astype\u001b[0;34m(self, dtype, copy, errors)\u001b[0m\n\u001b[1;32m    418\u001b[0m \u001b[38;5;28;01mdef\u001b[39;00m \u001b[38;5;21mastype\u001b[39m(\u001b[38;5;28mself\u001b[39m: T, dtype, copy: \u001b[38;5;28mbool\u001b[39m \u001b[38;5;241m=\u001b[39m \u001b[38;5;28;01mFalse\u001b[39;00m, errors: \u001b[38;5;28mstr\u001b[39m \u001b[38;5;241m=\u001b[39m \u001b[38;5;124m\"\u001b[39m\u001b[38;5;124mraise\u001b[39m\u001b[38;5;124m\"\u001b[39m) \u001b[38;5;241m-\u001b[39m\u001b[38;5;241m>\u001b[39m T:\n\u001b[0;32m--> 419\u001b[0m     \u001b[38;5;28;01mreturn\u001b[39;00m \u001b[38;5;28;43mself\u001b[39;49m\u001b[38;5;241;43m.\u001b[39;49m\u001b[43mapply\u001b[49m\u001b[43m(\u001b[49m\u001b[38;5;124;43m\"\u001b[39;49m\u001b[38;5;124;43mastype\u001b[39;49m\u001b[38;5;124;43m\"\u001b[39;49m\u001b[43m,\u001b[49m\u001b[43m \u001b[49m\u001b[43mdtype\u001b[49m\u001b[38;5;241;43m=\u001b[39;49m\u001b[43mdtype\u001b[49m\u001b[43m,\u001b[49m\u001b[43m \u001b[49m\u001b[43mcopy\u001b[49m\u001b[38;5;241;43m=\u001b[39;49m\u001b[43mcopy\u001b[49m\u001b[43m,\u001b[49m\u001b[43m \u001b[49m\u001b[43merrors\u001b[49m\u001b[38;5;241;43m=\u001b[39;49m\u001b[43merrors\u001b[49m\u001b[43m)\u001b[49m\n",
      "File \u001b[0;32m/opt/homebrew/anaconda3/lib/python3.9/site-packages/pandas/core/internals/managers.py:304\u001b[0m, in \u001b[0;36mBaseBlockManager.apply\u001b[0;34m(self, f, align_keys, ignore_failures, **kwargs)\u001b[0m\n\u001b[1;32m    302\u001b[0m         applied \u001b[38;5;241m=\u001b[39m b\u001b[38;5;241m.\u001b[39mapply(f, \u001b[38;5;241m*\u001b[39m\u001b[38;5;241m*\u001b[39mkwargs)\n\u001b[1;32m    303\u001b[0m     \u001b[38;5;28;01melse\u001b[39;00m:\n\u001b[0;32m--> 304\u001b[0m         applied \u001b[38;5;241m=\u001b[39m \u001b[38;5;28;43mgetattr\u001b[39;49m\u001b[43m(\u001b[49m\u001b[43mb\u001b[49m\u001b[43m,\u001b[49m\u001b[43m \u001b[49m\u001b[43mf\u001b[49m\u001b[43m)\u001b[49m\u001b[43m(\u001b[49m\u001b[38;5;241;43m*\u001b[39;49m\u001b[38;5;241;43m*\u001b[39;49m\u001b[43mkwargs\u001b[49m\u001b[43m)\u001b[49m\n\u001b[1;32m    305\u001b[0m \u001b[38;5;28;01mexcept\u001b[39;00m (\u001b[38;5;167;01mTypeError\u001b[39;00m, \u001b[38;5;167;01mNotImplementedError\u001b[39;00m):\n\u001b[1;32m    306\u001b[0m     \u001b[38;5;28;01mif\u001b[39;00m \u001b[38;5;129;01mnot\u001b[39;00m ignore_failures:\n",
      "File \u001b[0;32m/opt/homebrew/anaconda3/lib/python3.9/site-packages/pandas/core/internals/blocks.py:580\u001b[0m, in \u001b[0;36mBlock.astype\u001b[0;34m(self, dtype, copy, errors)\u001b[0m\n\u001b[1;32m    562\u001b[0m \u001b[38;5;124;03m\"\"\"\u001b[39;00m\n\u001b[1;32m    563\u001b[0m \u001b[38;5;124;03mCoerce to the new dtype.\u001b[39;00m\n\u001b[1;32m    564\u001b[0m \n\u001b[0;32m   (...)\u001b[0m\n\u001b[1;32m    576\u001b[0m \u001b[38;5;124;03mBlock\u001b[39;00m\n\u001b[1;32m    577\u001b[0m \u001b[38;5;124;03m\"\"\"\u001b[39;00m\n\u001b[1;32m    578\u001b[0m values \u001b[38;5;241m=\u001b[39m \u001b[38;5;28mself\u001b[39m\u001b[38;5;241m.\u001b[39mvalues\n\u001b[0;32m--> 580\u001b[0m new_values \u001b[38;5;241m=\u001b[39m \u001b[43mastype_array_safe\u001b[49m\u001b[43m(\u001b[49m\u001b[43mvalues\u001b[49m\u001b[43m,\u001b[49m\u001b[43m \u001b[49m\u001b[43mdtype\u001b[49m\u001b[43m,\u001b[49m\u001b[43m \u001b[49m\u001b[43mcopy\u001b[49m\u001b[38;5;241;43m=\u001b[39;49m\u001b[43mcopy\u001b[49m\u001b[43m,\u001b[49m\u001b[43m \u001b[49m\u001b[43merrors\u001b[49m\u001b[38;5;241;43m=\u001b[39;49m\u001b[43merrors\u001b[49m\u001b[43m)\u001b[49m\n\u001b[1;32m    582\u001b[0m new_values \u001b[38;5;241m=\u001b[39m maybe_coerce_values(new_values)\n\u001b[1;32m    583\u001b[0m newb \u001b[38;5;241m=\u001b[39m \u001b[38;5;28mself\u001b[39m\u001b[38;5;241m.\u001b[39mmake_block(new_values)\n",
      "File \u001b[0;32m/opt/homebrew/anaconda3/lib/python3.9/site-packages/pandas/core/dtypes/cast.py:1292\u001b[0m, in \u001b[0;36mastype_array_safe\u001b[0;34m(values, dtype, copy, errors)\u001b[0m\n\u001b[1;32m   1289\u001b[0m     dtype \u001b[38;5;241m=\u001b[39m dtype\u001b[38;5;241m.\u001b[39mnumpy_dtype\n\u001b[1;32m   1291\u001b[0m \u001b[38;5;28;01mtry\u001b[39;00m:\n\u001b[0;32m-> 1292\u001b[0m     new_values \u001b[38;5;241m=\u001b[39m \u001b[43mastype_array\u001b[49m\u001b[43m(\u001b[49m\u001b[43mvalues\u001b[49m\u001b[43m,\u001b[49m\u001b[43m \u001b[49m\u001b[43mdtype\u001b[49m\u001b[43m,\u001b[49m\u001b[43m \u001b[49m\u001b[43mcopy\u001b[49m\u001b[38;5;241;43m=\u001b[39;49m\u001b[43mcopy\u001b[49m\u001b[43m)\u001b[49m\n\u001b[1;32m   1293\u001b[0m \u001b[38;5;28;01mexcept\u001b[39;00m (\u001b[38;5;167;01mValueError\u001b[39;00m, \u001b[38;5;167;01mTypeError\u001b[39;00m):\n\u001b[1;32m   1294\u001b[0m     \u001b[38;5;66;03m# e.g. astype_nansafe can fail on object-dtype of strings\u001b[39;00m\n\u001b[1;32m   1295\u001b[0m     \u001b[38;5;66;03m#  trying to convert to float\u001b[39;00m\n\u001b[1;32m   1296\u001b[0m     \u001b[38;5;28;01mif\u001b[39;00m errors \u001b[38;5;241m==\u001b[39m \u001b[38;5;124m\"\u001b[39m\u001b[38;5;124mignore\u001b[39m\u001b[38;5;124m\"\u001b[39m:\n",
      "File \u001b[0;32m/opt/homebrew/anaconda3/lib/python3.9/site-packages/pandas/core/dtypes/cast.py:1237\u001b[0m, in \u001b[0;36mastype_array\u001b[0;34m(values, dtype, copy)\u001b[0m\n\u001b[1;32m   1234\u001b[0m     values \u001b[38;5;241m=\u001b[39m values\u001b[38;5;241m.\u001b[39mastype(dtype, copy\u001b[38;5;241m=\u001b[39mcopy)\n\u001b[1;32m   1236\u001b[0m \u001b[38;5;28;01melse\u001b[39;00m:\n\u001b[0;32m-> 1237\u001b[0m     values \u001b[38;5;241m=\u001b[39m \u001b[43mastype_nansafe\u001b[49m\u001b[43m(\u001b[49m\u001b[43mvalues\u001b[49m\u001b[43m,\u001b[49m\u001b[43m \u001b[49m\u001b[43mdtype\u001b[49m\u001b[43m,\u001b[49m\u001b[43m \u001b[49m\u001b[43mcopy\u001b[49m\u001b[38;5;241;43m=\u001b[39;49m\u001b[43mcopy\u001b[49m\u001b[43m)\u001b[49m\n\u001b[1;32m   1239\u001b[0m \u001b[38;5;66;03m# in pandas we don't store numpy str dtypes, so convert to object\u001b[39;00m\n\u001b[1;32m   1240\u001b[0m \u001b[38;5;28;01mif\u001b[39;00m \u001b[38;5;28misinstance\u001b[39m(dtype, np\u001b[38;5;241m.\u001b[39mdtype) \u001b[38;5;129;01mand\u001b[39;00m \u001b[38;5;28missubclass\u001b[39m(values\u001b[38;5;241m.\u001b[39mdtype\u001b[38;5;241m.\u001b[39mtype, \u001b[38;5;28mstr\u001b[39m):\n",
      "File \u001b[0;32m/opt/homebrew/anaconda3/lib/python3.9/site-packages/pandas/core/dtypes/cast.py:1181\u001b[0m, in \u001b[0;36mastype_nansafe\u001b[0;34m(arr, dtype, copy, skipna)\u001b[0m\n\u001b[1;32m   1177\u001b[0m     \u001b[38;5;28;01mraise\u001b[39;00m \u001b[38;5;167;01mValueError\u001b[39;00m(msg)\n\u001b[1;32m   1179\u001b[0m \u001b[38;5;28;01mif\u001b[39;00m copy \u001b[38;5;129;01mor\u001b[39;00m is_object_dtype(arr\u001b[38;5;241m.\u001b[39mdtype) \u001b[38;5;129;01mor\u001b[39;00m is_object_dtype(dtype):\n\u001b[1;32m   1180\u001b[0m     \u001b[38;5;66;03m# Explicit copy, or required since NumPy can't view from / to object.\u001b[39;00m\n\u001b[0;32m-> 1181\u001b[0m     \u001b[38;5;28;01mreturn\u001b[39;00m \u001b[43marr\u001b[49m\u001b[38;5;241;43m.\u001b[39;49m\u001b[43mastype\u001b[49m\u001b[43m(\u001b[49m\u001b[43mdtype\u001b[49m\u001b[43m,\u001b[49m\u001b[43m \u001b[49m\u001b[43mcopy\u001b[49m\u001b[38;5;241;43m=\u001b[39;49m\u001b[38;5;28;43;01mTrue\u001b[39;49;00m\u001b[43m)\u001b[49m\n\u001b[1;32m   1183\u001b[0m \u001b[38;5;28;01mreturn\u001b[39;00m arr\u001b[38;5;241m.\u001b[39mastype(dtype, copy\u001b[38;5;241m=\u001b[39mcopy)\n",
      "\u001b[0;31mValueError\u001b[0m: could not convert string to float: '166-187'"
     ]
    }
   ],
   "source": [
    "#df['Horsepower'] = df['Horsepower'].replace('?', np.mean(pd.to_numeric(df['Horsepower'], errors='coerce')))\n",
    "olympics['height']=olympics['height'].replace('na',np.mean(pd.to_numeric(olympics['height'], errors='coerce'))).astype('float')\n",
    "olympics['weight']=olympics['weight'].replace('na',np.mean(pd.to_numeric(olympics['weight'], errors='coerce'))).astype('float')\n",
    "#olympics['born']=olympics['born'].replace('na','NAN')\n",
    "olympics.head()"
   ]
  },
  {
   "cell_type": "code",
   "execution_count": 15,
   "id": "56e06908",
   "metadata": {
    "ExecuteTime": {
     "end_time": "2022-08-14T23:51:04.959297Z",
     "start_time": "2022-08-14T23:51:04.671361Z"
    }
   },
   "outputs": [
    {
     "name": "stdout",
     "output_type": "stream",
     "text": [
      "<class 'pandas.core.frame.DataFrame'>\n",
      "Int64Index: 314725 entries, 0 to 314724\n",
      "Data columns (total 18 columns):\n",
      " #   Column               Non-Null Count   Dtype  \n",
      "---  ------               --------------   -----  \n",
      " 0   athlete_id           314725 non-null  int64  \n",
      " 1   name                 314725 non-null  object \n",
      " 2   sex                  314725 non-null  object \n",
      " 3   born                 314725 non-null  object \n",
      " 4   height               314725 non-null  object \n",
      " 5   weight               314725 non-null  object \n",
      " 6   country              314725 non-null  object \n",
      " 7   country_noc_x        314725 non-null  object \n",
      " 8   edition              314725 non-null  object \n",
      " 9   sport                314725 non-null  object \n",
      " 10  event                314725 non-null  object \n",
      " 11  result_id            314725 non-null  int64  \n",
      " 12  medal                314725 non-null  object \n",
      " 13  isTeamSport          314725 non-null  bool   \n",
      " 14  result_participants  314621 non-null  object \n",
      " 15  year                 314402 non-null  float64\n",
      " 16  city                 314402 non-null  object \n",
      " 17  country_noc_y        314402 non-null  object \n",
      "dtypes: bool(1), float64(1), int64(2), object(14)\n",
      "memory usage: 43.5+ MB\n"
     ]
    }
   ],
   "source": [
    "olympics.info()"
   ]
  },
  {
   "cell_type": "code",
   "execution_count": 16,
   "id": "f00533e7",
   "metadata": {
    "ExecuteTime": {
     "end_time": "2022-08-14T23:51:05.001423Z",
     "start_time": "2022-08-14T23:51:04.959987Z"
    }
   },
   "outputs": [
    {
     "data": {
      "text/plain": [
       "0         1973-04-13\n",
       "1         1933-03-15\n",
       "2         1933-03-15\n",
       "3         1973-01-14\n",
       "4         1968-09-25\n",
       "             ...    \n",
       "314720    1941-05-06\n",
       "314721    1941-05-06\n",
       "314722    1941-05-06\n",
       "314723    1941-05-06\n",
       "314724    1941-05-06\n",
       "Name: born, Length: 314725, dtype: object"
      ]
     },
     "execution_count": 16,
     "metadata": {},
     "output_type": "execute_result"
    }
   ],
   "source": [
    "# Add to py file\n",
    "olympics['born'].str.strip()"
   ]
  },
  {
   "cell_type": "code",
   "execution_count": 17,
   "id": "4e6b0188",
   "metadata": {
    "ExecuteTime": {
     "end_time": "2022-08-14T23:51:05.054199Z",
     "start_time": "2022-08-14T23:51:05.002187Z"
    }
   },
   "outputs": [],
   "source": [
    "# To. py file\n",
    "olympics['born'] = pd.to_datetime(olympics['born'], errors='ignore', format=\"%Y-%m-%d\")"
   ]
  },
  {
   "cell_type": "code",
   "execution_count": 18,
   "id": "a1e05358",
   "metadata": {
    "ExecuteTime": {
     "end_time": "2022-08-14T23:51:05.236130Z",
     "start_time": "2022-08-14T23:51:05.055099Z"
    }
   },
   "outputs": [
    {
     "data": {
      "text/html": [
       "<div>\n",
       "<style scoped>\n",
       "    .dataframe tbody tr th:only-of-type {\n",
       "        vertical-align: middle;\n",
       "    }\n",
       "\n",
       "    .dataframe tbody tr th {\n",
       "        vertical-align: top;\n",
       "    }\n",
       "\n",
       "    .dataframe thead th {\n",
       "        text-align: right;\n",
       "    }\n",
       "</style>\n",
       "<table border=\"1\" class=\"dataframe\">\n",
       "  <thead>\n",
       "    <tr style=\"text-align: right;\">\n",
       "      <th></th>\n",
       "      <th>athlete_id</th>\n",
       "      <th>name</th>\n",
       "      <th>sex</th>\n",
       "      <th>born</th>\n",
       "      <th>height</th>\n",
       "      <th>weight</th>\n",
       "      <th>country</th>\n",
       "      <th>country_noc_x</th>\n",
       "      <th>edition</th>\n",
       "      <th>sport</th>\n",
       "      <th>event</th>\n",
       "      <th>result_id</th>\n",
       "      <th>medal</th>\n",
       "      <th>isTeamSport</th>\n",
       "      <th>result_participants</th>\n",
       "      <th>city</th>\n",
       "      <th>country_noc_y</th>\n",
       "      <th>event_year</th>\n",
       "    </tr>\n",
       "  </thead>\n",
       "  <tbody>\n",
       "    <tr>\n",
       "      <th>0</th>\n",
       "      <td>14503</td>\n",
       "      <td>scar Giraldo</td>\n",
       "      <td>Male</td>\n",
       "      <td>1973-04-13</td>\n",
       "      <td>175.369167</td>\n",
       "      <td>70.577756</td>\n",
       "      <td>Colombia</td>\n",
       "      <td>COL</td>\n",
       "      <td>Summer Olympics</td>\n",
       "      <td>Cycling Road</td>\n",
       "      <td>Road Race, Individual, Men</td>\n",
       "      <td>154878</td>\n",
       "      <td>participant</td>\n",
       "      <td>False</td>\n",
       "      <td>183 from 57 countries</td>\n",
       "      <td>Atlanta</td>\n",
       "      <td>USA</td>\n",
       "      <td>1996</td>\n",
       "    </tr>\n",
       "    <tr>\n",
       "      <th>1</th>\n",
       "      <td>58758</td>\n",
       "      <td>Hossein Mollaghasemi</td>\n",
       "      <td>Male</td>\n",
       "      <td>1933-03-15</td>\n",
       "      <td>173.0</td>\n",
       "      <td>63</td>\n",
       "      <td>Islamic Republic of Iran</td>\n",
       "      <td>IRI</td>\n",
       "      <td>Summer Olympics</td>\n",
       "      <td>Wrestling</td>\n",
       "      <td>Featherweight, Greco-Roman, Men</td>\n",
       "      <td>124658</td>\n",
       "      <td>participant</td>\n",
       "      <td>False</td>\n",
       "      <td>25 from 25 countries</td>\n",
       "      <td>Roma</td>\n",
       "      <td>ITA</td>\n",
       "      <td>1960</td>\n",
       "    </tr>\n",
       "    <tr>\n",
       "      <th>2</th>\n",
       "      <td>58758</td>\n",
       "      <td>Hossein Mollaghasemi</td>\n",
       "      <td>Male</td>\n",
       "      <td>1933-03-15</td>\n",
       "      <td>173.0</td>\n",
       "      <td>63</td>\n",
       "      <td>Islamic Republic of Iran</td>\n",
       "      <td>IRI</td>\n",
       "      <td>Summer Olympics</td>\n",
       "      <td>Wrestling</td>\n",
       "      <td>Lightweight, Greco-Roman, Men</td>\n",
       "      <td>125396</td>\n",
       "      <td>participant</td>\n",
       "      <td>False</td>\n",
       "      <td>19 from 19 countries</td>\n",
       "      <td>Tokyo</td>\n",
       "      <td>JPN</td>\n",
       "      <td>1964</td>\n",
       "    </tr>\n",
       "    <tr>\n",
       "      <th>3</th>\n",
       "      <td>90217</td>\n",
       "      <td>Enrico Lazzarotto</td>\n",
       "      <td>Male</td>\n",
       "      <td>1973-01-14</td>\n",
       "      <td>178.0</td>\n",
       "      <td>72</td>\n",
       "      <td>Italy</td>\n",
       "      <td>ITA</td>\n",
       "      <td>Summer Olympics</td>\n",
       "      <td>Canoe Slalom</td>\n",
       "      <td>Kayak Singles, Slalom, Men</td>\n",
       "      <td>256271</td>\n",
       "      <td>participant</td>\n",
       "      <td>False</td>\n",
       "      <td>23 from 18 countries</td>\n",
       "      <td>Sydney</td>\n",
       "      <td>AUS</td>\n",
       "      <td>2000</td>\n",
       "    </tr>\n",
       "    <tr>\n",
       "      <th>4</th>\n",
       "      <td>74565</td>\n",
       "      <td>John Hou</td>\n",
       "      <td>Male</td>\n",
       "      <td>1968-09-25</td>\n",
       "      <td>178.0</td>\n",
       "      <td>60</td>\n",
       "      <td>Papua New Guinea</td>\n",
       "      <td>PNG</td>\n",
       "      <td>Summer Olympics</td>\n",
       "      <td>Athletics</td>\n",
       "      <td>100 metres, Men</td>\n",
       "      <td>63261</td>\n",
       "      <td>participant</td>\n",
       "      <td>False</td>\n",
       "      <td>102 from 69 countries</td>\n",
       "      <td>Seoul</td>\n",
       "      <td>KOR</td>\n",
       "      <td>1988</td>\n",
       "    </tr>\n",
       "    <tr>\n",
       "      <th>...</th>\n",
       "      <td>...</td>\n",
       "      <td>...</td>\n",
       "      <td>...</td>\n",
       "      <td>...</td>\n",
       "      <td>...</td>\n",
       "      <td>...</td>\n",
       "      <td>...</td>\n",
       "      <td>...</td>\n",
       "      <td>...</td>\n",
       "      <td>...</td>\n",
       "      <td>...</td>\n",
       "      <td>...</td>\n",
       "      <td>...</td>\n",
       "      <td>...</td>\n",
       "      <td>...</td>\n",
       "      <td>...</td>\n",
       "      <td>...</td>\n",
       "      <td>...</td>\n",
       "    </tr>\n",
       "    <tr>\n",
       "      <th>314720</th>\n",
       "      <td>30727</td>\n",
       "      <td>Armando Valles</td>\n",
       "      <td>Male</td>\n",
       "      <td>1941-05-06</td>\n",
       "      <td>170.0</td>\n",
       "      <td>68</td>\n",
       "      <td>Mexico</td>\n",
       "      <td>MEX</td>\n",
       "      <td>Summer Olympics</td>\n",
       "      <td>Artistic Gymnastics</td>\n",
       "      <td>Horse Vault, Men</td>\n",
       "      <td>70306</td>\n",
       "      <td>participant</td>\n",
       "      <td>False</td>\n",
       "      <td>116 from 28 countries</td>\n",
       "      <td>Ciudad de México</td>\n",
       "      <td>MEX</td>\n",
       "      <td>1968</td>\n",
       "    </tr>\n",
       "    <tr>\n",
       "      <th>314721</th>\n",
       "      <td>30727</td>\n",
       "      <td>Armando Valles</td>\n",
       "      <td>Male</td>\n",
       "      <td>1941-05-06</td>\n",
       "      <td>170.0</td>\n",
       "      <td>68</td>\n",
       "      <td>Mexico</td>\n",
       "      <td>MEX</td>\n",
       "      <td>Summer Olympics</td>\n",
       "      <td>Artistic Gymnastics</td>\n",
       "      <td>Parallel Bars, Men</td>\n",
       "      <td>70309</td>\n",
       "      <td>participant</td>\n",
       "      <td>False</td>\n",
       "      <td>117 from 28 countries</td>\n",
       "      <td>Ciudad de México</td>\n",
       "      <td>MEX</td>\n",
       "      <td>1968</td>\n",
       "    </tr>\n",
       "    <tr>\n",
       "      <th>314722</th>\n",
       "      <td>30727</td>\n",
       "      <td>Armando Valles</td>\n",
       "      <td>Male</td>\n",
       "      <td>1941-05-06</td>\n",
       "      <td>170.0</td>\n",
       "      <td>68</td>\n",
       "      <td>Mexico</td>\n",
       "      <td>MEX</td>\n",
       "      <td>Summer Olympics</td>\n",
       "      <td>Artistic Gymnastics</td>\n",
       "      <td>Horizontal Bar, Men</td>\n",
       "      <td>70312</td>\n",
       "      <td>participant</td>\n",
       "      <td>False</td>\n",
       "      <td>115 from 27 countries</td>\n",
       "      <td>Ciudad de México</td>\n",
       "      <td>MEX</td>\n",
       "      <td>1968</td>\n",
       "    </tr>\n",
       "    <tr>\n",
       "      <th>314723</th>\n",
       "      <td>30727</td>\n",
       "      <td>Armando Valles</td>\n",
       "      <td>Male</td>\n",
       "      <td>1941-05-06</td>\n",
       "      <td>170.0</td>\n",
       "      <td>68</td>\n",
       "      <td>Mexico</td>\n",
       "      <td>MEX</td>\n",
       "      <td>Summer Olympics</td>\n",
       "      <td>Artistic Gymnastics</td>\n",
       "      <td>Rings, Men</td>\n",
       "      <td>70315</td>\n",
       "      <td>participant</td>\n",
       "      <td>False</td>\n",
       "      <td>117 from 28 countries</td>\n",
       "      <td>Ciudad de México</td>\n",
       "      <td>MEX</td>\n",
       "      <td>1968</td>\n",
       "    </tr>\n",
       "    <tr>\n",
       "      <th>314724</th>\n",
       "      <td>30727</td>\n",
       "      <td>Armando Valles</td>\n",
       "      <td>Male</td>\n",
       "      <td>1941-05-06</td>\n",
       "      <td>170.0</td>\n",
       "      <td>68</td>\n",
       "      <td>Mexico</td>\n",
       "      <td>MEX</td>\n",
       "      <td>Summer Olympics</td>\n",
       "      <td>Artistic Gymnastics</td>\n",
       "      <td>Pommelled Horse, Men</td>\n",
       "      <td>70318</td>\n",
       "      <td>participant</td>\n",
       "      <td>False</td>\n",
       "      <td>115 from 27 countries</td>\n",
       "      <td>Ciudad de México</td>\n",
       "      <td>MEX</td>\n",
       "      <td>1968</td>\n",
       "    </tr>\n",
       "  </tbody>\n",
       "</table>\n",
       "<p>314725 rows × 18 columns</p>\n",
       "</div>"
      ],
      "text/plain": [
       "        athlete_id                  name   sex        born      height  \\\n",
       "0            14503          scar Giraldo  Male  1973-04-13  175.369167   \n",
       "1            58758  Hossein Mollaghasemi  Male  1933-03-15       173.0   \n",
       "2            58758  Hossein Mollaghasemi  Male  1933-03-15       173.0   \n",
       "3            90217     Enrico Lazzarotto  Male  1973-01-14       178.0   \n",
       "4            74565              John Hou  Male  1968-09-25       178.0   \n",
       "...            ...                   ...   ...         ...         ...   \n",
       "314720       30727        Armando Valles  Male  1941-05-06       170.0   \n",
       "314721       30727        Armando Valles  Male  1941-05-06       170.0   \n",
       "314722       30727        Armando Valles  Male  1941-05-06       170.0   \n",
       "314723       30727        Armando Valles  Male  1941-05-06       170.0   \n",
       "314724       30727        Armando Valles  Male  1941-05-06       170.0   \n",
       "\n",
       "           weight                    country country_noc_x           edition  \\\n",
       "0       70.577756                   Colombia           COL   Summer Olympics   \n",
       "1              63   Islamic Republic of Iran           IRI   Summer Olympics   \n",
       "2              63   Islamic Republic of Iran           IRI   Summer Olympics   \n",
       "3              72                      Italy           ITA   Summer Olympics   \n",
       "4              60           Papua New Guinea           PNG   Summer Olympics   \n",
       "...           ...                        ...           ...               ...   \n",
       "314720         68                     Mexico           MEX   Summer Olympics   \n",
       "314721         68                     Mexico           MEX   Summer Olympics   \n",
       "314722         68                     Mexico           MEX   Summer Olympics   \n",
       "314723         68                     Mexico           MEX   Summer Olympics   \n",
       "314724         68                     Mexico           MEX   Summer Olympics   \n",
       "\n",
       "                      sport                            event  result_id  \\\n",
       "0              Cycling Road       Road Race, Individual, Men     154878   \n",
       "1                 Wrestling  Featherweight, Greco-Roman, Men     124658   \n",
       "2                 Wrestling    Lightweight, Greco-Roman, Men     125396   \n",
       "3              Canoe Slalom       Kayak Singles, Slalom, Men     256271   \n",
       "4                 Athletics                  100 metres, Men      63261   \n",
       "...                     ...                              ...        ...   \n",
       "314720  Artistic Gymnastics                 Horse Vault, Men      70306   \n",
       "314721  Artistic Gymnastics               Parallel Bars, Men      70309   \n",
       "314722  Artistic Gymnastics              Horizontal Bar, Men      70312   \n",
       "314723  Artistic Gymnastics                       Rings, Men      70315   \n",
       "314724  Artistic Gymnastics             Pommelled Horse, Men      70318   \n",
       "\n",
       "              medal  isTeamSport    result_participants              city  \\\n",
       "0       participant        False  183 from 57 countries           Atlanta   \n",
       "1       participant        False   25 from 25 countries              Roma   \n",
       "2       participant        False   19 from 19 countries             Tokyo   \n",
       "3       participant        False   23 from 18 countries            Sydney   \n",
       "4       participant        False  102 from 69 countries             Seoul   \n",
       "...             ...          ...                    ...               ...   \n",
       "314720  participant        False  116 from 28 countries  Ciudad de México   \n",
       "314721  participant        False  117 from 28 countries  Ciudad de México   \n",
       "314722  participant        False  115 from 27 countries  Ciudad de México   \n",
       "314723  participant        False  117 from 28 countries  Ciudad de México   \n",
       "314724  participant        False  115 from 27 countries  Ciudad de México   \n",
       "\n",
       "       country_noc_y event_year  \n",
       "0                USA       1996  \n",
       "1                ITA       1960  \n",
       "2                JPN       1964  \n",
       "3                AUS       2000  \n",
       "4                KOR       1988  \n",
       "...              ...        ...  \n",
       "314720           MEX       1968  \n",
       "314721           MEX       1968  \n",
       "314722           MEX       1968  \n",
       "314723           MEX       1968  \n",
       "314724           MEX       1968  \n",
       "\n",
       "[314725 rows x 18 columns]"
      ]
     },
     "execution_count": 18,
     "metadata": {},
     "output_type": "execute_result"
    }
   ],
   "source": [
    "# To .py File\n",
    "#olympics['edition'] = olympics['edition'].str[4:]\n",
    "olympics['event_year'] = olympics['edition'].str[:4]\n",
    "olympics['edition']=olympics['edition'].str[4:]\n",
    "olympics.drop(columns='year')"
   ]
  },
  {
   "cell_type": "code",
   "execution_count": 19,
   "id": "81c08cf2",
   "metadata": {
    "ExecuteTime": {
     "end_time": "2022-08-14T23:51:05.540458Z",
     "start_time": "2022-08-14T23:51:05.236935Z"
    }
   },
   "outputs": [
    {
     "name": "stdout",
     "output_type": "stream",
     "text": [
      "<class 'pandas.core.frame.DataFrame'>\n",
      "Int64Index: 314725 entries, 0 to 314724\n",
      "Data columns (total 19 columns):\n",
      " #   Column               Non-Null Count   Dtype  \n",
      "---  ------               --------------   -----  \n",
      " 0   athlete_id           314725 non-null  int64  \n",
      " 1   name                 314725 non-null  object \n",
      " 2   sex                  314725 non-null  object \n",
      " 3   born                 314725 non-null  object \n",
      " 4   height               314725 non-null  object \n",
      " 5   weight               314725 non-null  object \n",
      " 6   country              314725 non-null  object \n",
      " 7   country_noc_x        314725 non-null  object \n",
      " 8   edition              314725 non-null  object \n",
      " 9   sport                314725 non-null  object \n",
      " 10  event                314725 non-null  object \n",
      " 11  result_id            314725 non-null  int64  \n",
      " 12  medal                314725 non-null  object \n",
      " 13  isTeamSport          314725 non-null  bool   \n",
      " 14  result_participants  314621 non-null  object \n",
      " 15  year                 314402 non-null  float64\n",
      " 16  city                 314402 non-null  object \n",
      " 17  country_noc_y        314402 non-null  object \n",
      " 18  event_year           314725 non-null  object \n",
      "dtypes: bool(1), float64(1), int64(2), object(15)\n",
      "memory usage: 45.9+ MB\n"
     ]
    }
   ],
   "source": [
    "olympics.info()"
   ]
  },
  {
   "cell_type": "code",
   "execution_count": 20,
   "id": "f228e239",
   "metadata": {
    "ExecuteTime": {
     "end_time": "2022-08-14T23:51:05.547040Z",
     "start_time": "2022-08-14T23:51:05.541176Z"
    }
   },
   "outputs": [
    {
     "data": {
      "text/html": [
       "<div>\n",
       "<style scoped>\n",
       "    .dataframe tbody tr th:only-of-type {\n",
       "        vertical-align: middle;\n",
       "    }\n",
       "\n",
       "    .dataframe tbody tr th {\n",
       "        vertical-align: top;\n",
       "    }\n",
       "\n",
       "    .dataframe thead th {\n",
       "        text-align: right;\n",
       "    }\n",
       "</style>\n",
       "<table border=\"1\" class=\"dataframe\">\n",
       "  <thead>\n",
       "    <tr style=\"text-align: right;\">\n",
       "      <th></th>\n",
       "      <th>athlete_id</th>\n",
       "      <th>name</th>\n",
       "      <th>sex</th>\n",
       "      <th>born</th>\n",
       "      <th>height</th>\n",
       "      <th>weight</th>\n",
       "      <th>country</th>\n",
       "      <th>country_noc_x</th>\n",
       "      <th>edition</th>\n",
       "      <th>sport</th>\n",
       "      <th>event</th>\n",
       "      <th>result_id</th>\n",
       "      <th>medal</th>\n",
       "      <th>isTeamSport</th>\n",
       "      <th>result_participants</th>\n",
       "      <th>year</th>\n",
       "      <th>city</th>\n",
       "      <th>country_noc_y</th>\n",
       "      <th>event_year</th>\n",
       "    </tr>\n",
       "  </thead>\n",
       "  <tbody>\n",
       "    <tr>\n",
       "      <th>0</th>\n",
       "      <td>14503</td>\n",
       "      <td>scar Giraldo</td>\n",
       "      <td>Male</td>\n",
       "      <td>1973-04-13</td>\n",
       "      <td>175.369167</td>\n",
       "      <td>70.577756</td>\n",
       "      <td>Colombia</td>\n",
       "      <td>COL</td>\n",
       "      <td>Summer Olympics</td>\n",
       "      <td>Cycling Road</td>\n",
       "      <td>Road Race, Individual, Men</td>\n",
       "      <td>154878</td>\n",
       "      <td>participant</td>\n",
       "      <td>False</td>\n",
       "      <td>183 from 57 countries</td>\n",
       "      <td>1996.0</td>\n",
       "      <td>Atlanta</td>\n",
       "      <td>USA</td>\n",
       "      <td>1996</td>\n",
       "    </tr>\n",
       "    <tr>\n",
       "      <th>1</th>\n",
       "      <td>58758</td>\n",
       "      <td>Hossein Mollaghasemi</td>\n",
       "      <td>Male</td>\n",
       "      <td>1933-03-15</td>\n",
       "      <td>173.0</td>\n",
       "      <td>63</td>\n",
       "      <td>Islamic Republic of Iran</td>\n",
       "      <td>IRI</td>\n",
       "      <td>Summer Olympics</td>\n",
       "      <td>Wrestling</td>\n",
       "      <td>Featherweight, Greco-Roman, Men</td>\n",
       "      <td>124658</td>\n",
       "      <td>participant</td>\n",
       "      <td>False</td>\n",
       "      <td>25 from 25 countries</td>\n",
       "      <td>1960.0</td>\n",
       "      <td>Roma</td>\n",
       "      <td>ITA</td>\n",
       "      <td>1960</td>\n",
       "    </tr>\n",
       "    <tr>\n",
       "      <th>2</th>\n",
       "      <td>58758</td>\n",
       "      <td>Hossein Mollaghasemi</td>\n",
       "      <td>Male</td>\n",
       "      <td>1933-03-15</td>\n",
       "      <td>173.0</td>\n",
       "      <td>63</td>\n",
       "      <td>Islamic Republic of Iran</td>\n",
       "      <td>IRI</td>\n",
       "      <td>Summer Olympics</td>\n",
       "      <td>Wrestling</td>\n",
       "      <td>Lightweight, Greco-Roman, Men</td>\n",
       "      <td>125396</td>\n",
       "      <td>participant</td>\n",
       "      <td>False</td>\n",
       "      <td>19 from 19 countries</td>\n",
       "      <td>1964.0</td>\n",
       "      <td>Tokyo</td>\n",
       "      <td>JPN</td>\n",
       "      <td>1964</td>\n",
       "    </tr>\n",
       "    <tr>\n",
       "      <th>3</th>\n",
       "      <td>90217</td>\n",
       "      <td>Enrico Lazzarotto</td>\n",
       "      <td>Male</td>\n",
       "      <td>1973-01-14</td>\n",
       "      <td>178.0</td>\n",
       "      <td>72</td>\n",
       "      <td>Italy</td>\n",
       "      <td>ITA</td>\n",
       "      <td>Summer Olympics</td>\n",
       "      <td>Canoe Slalom</td>\n",
       "      <td>Kayak Singles, Slalom, Men</td>\n",
       "      <td>256271</td>\n",
       "      <td>participant</td>\n",
       "      <td>False</td>\n",
       "      <td>23 from 18 countries</td>\n",
       "      <td>2000.0</td>\n",
       "      <td>Sydney</td>\n",
       "      <td>AUS</td>\n",
       "      <td>2000</td>\n",
       "    </tr>\n",
       "    <tr>\n",
       "      <th>4</th>\n",
       "      <td>74565</td>\n",
       "      <td>John Hou</td>\n",
       "      <td>Male</td>\n",
       "      <td>1968-09-25</td>\n",
       "      <td>178.0</td>\n",
       "      <td>60</td>\n",
       "      <td>Papua New Guinea</td>\n",
       "      <td>PNG</td>\n",
       "      <td>Summer Olympics</td>\n",
       "      <td>Athletics</td>\n",
       "      <td>100 metres, Men</td>\n",
       "      <td>63261</td>\n",
       "      <td>participant</td>\n",
       "      <td>False</td>\n",
       "      <td>102 from 69 countries</td>\n",
       "      <td>1988.0</td>\n",
       "      <td>Seoul</td>\n",
       "      <td>KOR</td>\n",
       "      <td>1988</td>\n",
       "    </tr>\n",
       "  </tbody>\n",
       "</table>\n",
       "</div>"
      ],
      "text/plain": [
       "   athlete_id                  name   sex        born      height     weight  \\\n",
       "0       14503          scar Giraldo  Male  1973-04-13  175.369167  70.577756   \n",
       "1       58758  Hossein Mollaghasemi  Male  1933-03-15       173.0         63   \n",
       "2       58758  Hossein Mollaghasemi  Male  1933-03-15       173.0         63   \n",
       "3       90217     Enrico Lazzarotto  Male  1973-01-14       178.0         72   \n",
       "4       74565              John Hou  Male  1968-09-25       178.0         60   \n",
       "\n",
       "                     country country_noc_x           edition         sport  \\\n",
       "0                   Colombia           COL   Summer Olympics  Cycling Road   \n",
       "1   Islamic Republic of Iran           IRI   Summer Olympics     Wrestling   \n",
       "2   Islamic Republic of Iran           IRI   Summer Olympics     Wrestling   \n",
       "3                      Italy           ITA   Summer Olympics  Canoe Slalom   \n",
       "4           Papua New Guinea           PNG   Summer Olympics     Athletics   \n",
       "\n",
       "                             event  result_id        medal  isTeamSport  \\\n",
       "0       Road Race, Individual, Men     154878  participant        False   \n",
       "1  Featherweight, Greco-Roman, Men     124658  participant        False   \n",
       "2    Lightweight, Greco-Roman, Men     125396  participant        False   \n",
       "3       Kayak Singles, Slalom, Men     256271  participant        False   \n",
       "4                  100 metres, Men      63261  participant        False   \n",
       "\n",
       "     result_participants    year     city country_noc_y event_year  \n",
       "0  183 from 57 countries  1996.0  Atlanta           USA       1996  \n",
       "1   25 from 25 countries  1960.0     Roma           ITA       1960  \n",
       "2   19 from 19 countries  1964.0    Tokyo           JPN       1964  \n",
       "3   23 from 18 countries  2000.0   Sydney           AUS       2000  \n",
       "4  102 from 69 countries  1988.0    Seoul           KOR       1988  "
      ]
     },
     "execution_count": 20,
     "metadata": {},
     "output_type": "execute_result"
    }
   ],
   "source": [
    "olympics.head()"
   ]
  },
  {
   "cell_type": "code",
   "execution_count": 21,
   "id": "2dbfc3d3",
   "metadata": {
    "ExecuteTime": {
     "end_time": "2022-08-14T23:51:06.682254Z",
     "start_time": "2022-08-14T23:51:05.547772Z"
    }
   },
   "outputs": [
    {
     "ename": "ValueError",
     "evalue": "invalid literal for int() with base 10: '173.0'",
     "output_type": "error",
     "traceback": [
      "\u001b[0;31m---------------------------------------------------------------------------\u001b[0m",
      "\u001b[0;31mValueError\u001b[0m                                Traceback (most recent call last)",
      "Input \u001b[0;32mIn [21]\u001b[0m, in \u001b[0;36m<cell line: 1>\u001b[0;34m()\u001b[0m\n\u001b[0;32m----> 1\u001b[0m \u001b[43molympics\u001b[49m\u001b[43m[\u001b[49m\u001b[38;5;124;43m'\u001b[39;49m\u001b[38;5;124;43mheight\u001b[39;49m\u001b[38;5;124;43m'\u001b[39;49m\u001b[43m]\u001b[49m\u001b[38;5;241;43m.\u001b[39;49m\u001b[43mastype\u001b[49m\u001b[43m(\u001b[49m\u001b[38;5;28;43mint\u001b[39;49m\u001b[43m)\u001b[49m\n",
      "File \u001b[0;32m/opt/homebrew/anaconda3/lib/python3.9/site-packages/pandas/core/generic.py:5912\u001b[0m, in \u001b[0;36mNDFrame.astype\u001b[0;34m(self, dtype, copy, errors)\u001b[0m\n\u001b[1;32m   5905\u001b[0m     results \u001b[38;5;241m=\u001b[39m [\n\u001b[1;32m   5906\u001b[0m         \u001b[38;5;28mself\u001b[39m\u001b[38;5;241m.\u001b[39miloc[:, i]\u001b[38;5;241m.\u001b[39mastype(dtype, copy\u001b[38;5;241m=\u001b[39mcopy)\n\u001b[1;32m   5907\u001b[0m         \u001b[38;5;28;01mfor\u001b[39;00m i \u001b[38;5;129;01min\u001b[39;00m \u001b[38;5;28mrange\u001b[39m(\u001b[38;5;28mlen\u001b[39m(\u001b[38;5;28mself\u001b[39m\u001b[38;5;241m.\u001b[39mcolumns))\n\u001b[1;32m   5908\u001b[0m     ]\n\u001b[1;32m   5910\u001b[0m \u001b[38;5;28;01melse\u001b[39;00m:\n\u001b[1;32m   5911\u001b[0m     \u001b[38;5;66;03m# else, only a single dtype is given\u001b[39;00m\n\u001b[0;32m-> 5912\u001b[0m     new_data \u001b[38;5;241m=\u001b[39m \u001b[38;5;28;43mself\u001b[39;49m\u001b[38;5;241;43m.\u001b[39;49m\u001b[43m_mgr\u001b[49m\u001b[38;5;241;43m.\u001b[39;49m\u001b[43mastype\u001b[49m\u001b[43m(\u001b[49m\u001b[43mdtype\u001b[49m\u001b[38;5;241;43m=\u001b[39;49m\u001b[43mdtype\u001b[49m\u001b[43m,\u001b[49m\u001b[43m \u001b[49m\u001b[43mcopy\u001b[49m\u001b[38;5;241;43m=\u001b[39;49m\u001b[43mcopy\u001b[49m\u001b[43m,\u001b[49m\u001b[43m \u001b[49m\u001b[43merrors\u001b[49m\u001b[38;5;241;43m=\u001b[39;49m\u001b[43merrors\u001b[49m\u001b[43m)\u001b[49m\n\u001b[1;32m   5913\u001b[0m     \u001b[38;5;28;01mreturn\u001b[39;00m \u001b[38;5;28mself\u001b[39m\u001b[38;5;241m.\u001b[39m_constructor(new_data)\u001b[38;5;241m.\u001b[39m__finalize__(\u001b[38;5;28mself\u001b[39m, method\u001b[38;5;241m=\u001b[39m\u001b[38;5;124m\"\u001b[39m\u001b[38;5;124mastype\u001b[39m\u001b[38;5;124m\"\u001b[39m)\n\u001b[1;32m   5915\u001b[0m \u001b[38;5;66;03m# GH 33113: handle empty frame or series\u001b[39;00m\n",
      "File \u001b[0;32m/opt/homebrew/anaconda3/lib/python3.9/site-packages/pandas/core/internals/managers.py:419\u001b[0m, in \u001b[0;36mBaseBlockManager.astype\u001b[0;34m(self, dtype, copy, errors)\u001b[0m\n\u001b[1;32m    418\u001b[0m \u001b[38;5;28;01mdef\u001b[39;00m \u001b[38;5;21mastype\u001b[39m(\u001b[38;5;28mself\u001b[39m: T, dtype, copy: \u001b[38;5;28mbool\u001b[39m \u001b[38;5;241m=\u001b[39m \u001b[38;5;28;01mFalse\u001b[39;00m, errors: \u001b[38;5;28mstr\u001b[39m \u001b[38;5;241m=\u001b[39m \u001b[38;5;124m\"\u001b[39m\u001b[38;5;124mraise\u001b[39m\u001b[38;5;124m\"\u001b[39m) \u001b[38;5;241m-\u001b[39m\u001b[38;5;241m>\u001b[39m T:\n\u001b[0;32m--> 419\u001b[0m     \u001b[38;5;28;01mreturn\u001b[39;00m \u001b[38;5;28;43mself\u001b[39;49m\u001b[38;5;241;43m.\u001b[39;49m\u001b[43mapply\u001b[49m\u001b[43m(\u001b[49m\u001b[38;5;124;43m\"\u001b[39;49m\u001b[38;5;124;43mastype\u001b[39;49m\u001b[38;5;124;43m\"\u001b[39;49m\u001b[43m,\u001b[49m\u001b[43m \u001b[49m\u001b[43mdtype\u001b[49m\u001b[38;5;241;43m=\u001b[39;49m\u001b[43mdtype\u001b[49m\u001b[43m,\u001b[49m\u001b[43m \u001b[49m\u001b[43mcopy\u001b[49m\u001b[38;5;241;43m=\u001b[39;49m\u001b[43mcopy\u001b[49m\u001b[43m,\u001b[49m\u001b[43m \u001b[49m\u001b[43merrors\u001b[49m\u001b[38;5;241;43m=\u001b[39;49m\u001b[43merrors\u001b[49m\u001b[43m)\u001b[49m\n",
      "File \u001b[0;32m/opt/homebrew/anaconda3/lib/python3.9/site-packages/pandas/core/internals/managers.py:304\u001b[0m, in \u001b[0;36mBaseBlockManager.apply\u001b[0;34m(self, f, align_keys, ignore_failures, **kwargs)\u001b[0m\n\u001b[1;32m    302\u001b[0m         applied \u001b[38;5;241m=\u001b[39m b\u001b[38;5;241m.\u001b[39mapply(f, \u001b[38;5;241m*\u001b[39m\u001b[38;5;241m*\u001b[39mkwargs)\n\u001b[1;32m    303\u001b[0m     \u001b[38;5;28;01melse\u001b[39;00m:\n\u001b[0;32m--> 304\u001b[0m         applied \u001b[38;5;241m=\u001b[39m \u001b[38;5;28;43mgetattr\u001b[39;49m\u001b[43m(\u001b[49m\u001b[43mb\u001b[49m\u001b[43m,\u001b[49m\u001b[43m \u001b[49m\u001b[43mf\u001b[49m\u001b[43m)\u001b[49m\u001b[43m(\u001b[49m\u001b[38;5;241;43m*\u001b[39;49m\u001b[38;5;241;43m*\u001b[39;49m\u001b[43mkwargs\u001b[49m\u001b[43m)\u001b[49m\n\u001b[1;32m    305\u001b[0m \u001b[38;5;28;01mexcept\u001b[39;00m (\u001b[38;5;167;01mTypeError\u001b[39;00m, \u001b[38;5;167;01mNotImplementedError\u001b[39;00m):\n\u001b[1;32m    306\u001b[0m     \u001b[38;5;28;01mif\u001b[39;00m \u001b[38;5;129;01mnot\u001b[39;00m ignore_failures:\n",
      "File \u001b[0;32m/opt/homebrew/anaconda3/lib/python3.9/site-packages/pandas/core/internals/blocks.py:580\u001b[0m, in \u001b[0;36mBlock.astype\u001b[0;34m(self, dtype, copy, errors)\u001b[0m\n\u001b[1;32m    562\u001b[0m \u001b[38;5;124;03m\"\"\"\u001b[39;00m\n\u001b[1;32m    563\u001b[0m \u001b[38;5;124;03mCoerce to the new dtype.\u001b[39;00m\n\u001b[1;32m    564\u001b[0m \n\u001b[0;32m   (...)\u001b[0m\n\u001b[1;32m    576\u001b[0m \u001b[38;5;124;03mBlock\u001b[39;00m\n\u001b[1;32m    577\u001b[0m \u001b[38;5;124;03m\"\"\"\u001b[39;00m\n\u001b[1;32m    578\u001b[0m values \u001b[38;5;241m=\u001b[39m \u001b[38;5;28mself\u001b[39m\u001b[38;5;241m.\u001b[39mvalues\n\u001b[0;32m--> 580\u001b[0m new_values \u001b[38;5;241m=\u001b[39m \u001b[43mastype_array_safe\u001b[49m\u001b[43m(\u001b[49m\u001b[43mvalues\u001b[49m\u001b[43m,\u001b[49m\u001b[43m \u001b[49m\u001b[43mdtype\u001b[49m\u001b[43m,\u001b[49m\u001b[43m \u001b[49m\u001b[43mcopy\u001b[49m\u001b[38;5;241;43m=\u001b[39;49m\u001b[43mcopy\u001b[49m\u001b[43m,\u001b[49m\u001b[43m \u001b[49m\u001b[43merrors\u001b[49m\u001b[38;5;241;43m=\u001b[39;49m\u001b[43merrors\u001b[49m\u001b[43m)\u001b[49m\n\u001b[1;32m    582\u001b[0m new_values \u001b[38;5;241m=\u001b[39m maybe_coerce_values(new_values)\n\u001b[1;32m    583\u001b[0m newb \u001b[38;5;241m=\u001b[39m \u001b[38;5;28mself\u001b[39m\u001b[38;5;241m.\u001b[39mmake_block(new_values)\n",
      "File \u001b[0;32m/opt/homebrew/anaconda3/lib/python3.9/site-packages/pandas/core/dtypes/cast.py:1292\u001b[0m, in \u001b[0;36mastype_array_safe\u001b[0;34m(values, dtype, copy, errors)\u001b[0m\n\u001b[1;32m   1289\u001b[0m     dtype \u001b[38;5;241m=\u001b[39m dtype\u001b[38;5;241m.\u001b[39mnumpy_dtype\n\u001b[1;32m   1291\u001b[0m \u001b[38;5;28;01mtry\u001b[39;00m:\n\u001b[0;32m-> 1292\u001b[0m     new_values \u001b[38;5;241m=\u001b[39m \u001b[43mastype_array\u001b[49m\u001b[43m(\u001b[49m\u001b[43mvalues\u001b[49m\u001b[43m,\u001b[49m\u001b[43m \u001b[49m\u001b[43mdtype\u001b[49m\u001b[43m,\u001b[49m\u001b[43m \u001b[49m\u001b[43mcopy\u001b[49m\u001b[38;5;241;43m=\u001b[39;49m\u001b[43mcopy\u001b[49m\u001b[43m)\u001b[49m\n\u001b[1;32m   1293\u001b[0m \u001b[38;5;28;01mexcept\u001b[39;00m (\u001b[38;5;167;01mValueError\u001b[39;00m, \u001b[38;5;167;01mTypeError\u001b[39;00m):\n\u001b[1;32m   1294\u001b[0m     \u001b[38;5;66;03m# e.g. astype_nansafe can fail on object-dtype of strings\u001b[39;00m\n\u001b[1;32m   1295\u001b[0m     \u001b[38;5;66;03m#  trying to convert to float\u001b[39;00m\n\u001b[1;32m   1296\u001b[0m     \u001b[38;5;28;01mif\u001b[39;00m errors \u001b[38;5;241m==\u001b[39m \u001b[38;5;124m\"\u001b[39m\u001b[38;5;124mignore\u001b[39m\u001b[38;5;124m\"\u001b[39m:\n",
      "File \u001b[0;32m/opt/homebrew/anaconda3/lib/python3.9/site-packages/pandas/core/dtypes/cast.py:1237\u001b[0m, in \u001b[0;36mastype_array\u001b[0;34m(values, dtype, copy)\u001b[0m\n\u001b[1;32m   1234\u001b[0m     values \u001b[38;5;241m=\u001b[39m values\u001b[38;5;241m.\u001b[39mastype(dtype, copy\u001b[38;5;241m=\u001b[39mcopy)\n\u001b[1;32m   1236\u001b[0m \u001b[38;5;28;01melse\u001b[39;00m:\n\u001b[0;32m-> 1237\u001b[0m     values \u001b[38;5;241m=\u001b[39m \u001b[43mastype_nansafe\u001b[49m\u001b[43m(\u001b[49m\u001b[43mvalues\u001b[49m\u001b[43m,\u001b[49m\u001b[43m \u001b[49m\u001b[43mdtype\u001b[49m\u001b[43m,\u001b[49m\u001b[43m \u001b[49m\u001b[43mcopy\u001b[49m\u001b[38;5;241;43m=\u001b[39;49m\u001b[43mcopy\u001b[49m\u001b[43m)\u001b[49m\n\u001b[1;32m   1239\u001b[0m \u001b[38;5;66;03m# in pandas we don't store numpy str dtypes, so convert to object\u001b[39;00m\n\u001b[1;32m   1240\u001b[0m \u001b[38;5;28;01mif\u001b[39;00m \u001b[38;5;28misinstance\u001b[39m(dtype, np\u001b[38;5;241m.\u001b[39mdtype) \u001b[38;5;129;01mand\u001b[39;00m \u001b[38;5;28missubclass\u001b[39m(values\u001b[38;5;241m.\u001b[39mdtype\u001b[38;5;241m.\u001b[39mtype, \u001b[38;5;28mstr\u001b[39m):\n",
      "File \u001b[0;32m/opt/homebrew/anaconda3/lib/python3.9/site-packages/pandas/core/dtypes/cast.py:1154\u001b[0m, in \u001b[0;36mastype_nansafe\u001b[0;34m(arr, dtype, copy, skipna)\u001b[0m\n\u001b[1;32m   1150\u001b[0m \u001b[38;5;28;01melif\u001b[39;00m is_object_dtype(arr\u001b[38;5;241m.\u001b[39mdtype):\n\u001b[1;32m   1151\u001b[0m \n\u001b[1;32m   1152\u001b[0m     \u001b[38;5;66;03m# work around NumPy brokenness, #1987\u001b[39;00m\n\u001b[1;32m   1153\u001b[0m     \u001b[38;5;28;01mif\u001b[39;00m np\u001b[38;5;241m.\u001b[39missubdtype(dtype\u001b[38;5;241m.\u001b[39mtype, np\u001b[38;5;241m.\u001b[39minteger):\n\u001b[0;32m-> 1154\u001b[0m         \u001b[38;5;28;01mreturn\u001b[39;00m \u001b[43mlib\u001b[49m\u001b[38;5;241;43m.\u001b[39;49m\u001b[43mastype_intsafe\u001b[49m\u001b[43m(\u001b[49m\u001b[43marr\u001b[49m\u001b[43m,\u001b[49m\u001b[43m \u001b[49m\u001b[43mdtype\u001b[49m\u001b[43m)\u001b[49m\n\u001b[1;32m   1156\u001b[0m     \u001b[38;5;66;03m# if we have a datetime/timedelta array of objects\u001b[39;00m\n\u001b[1;32m   1157\u001b[0m     \u001b[38;5;66;03m# then coerce to a proper dtype and recall astype_nansafe\u001b[39;00m\n\u001b[1;32m   1159\u001b[0m     \u001b[38;5;28;01melif\u001b[39;00m is_datetime64_dtype(dtype):\n",
      "File \u001b[0;32m/opt/homebrew/anaconda3/lib/python3.9/site-packages/pandas/_libs/lib.pyx:668\u001b[0m, in \u001b[0;36mpandas._libs.lib.astype_intsafe\u001b[0;34m()\u001b[0m\n",
      "\u001b[0;31mValueError\u001b[0m: invalid literal for int() with base 10: '173.0'"
     ]
    }
   ],
   "source": [
    "olympics['height'].astype(int)"
   ]
  },
  {
   "cell_type": "code",
   "execution_count": null,
   "id": "7930849f",
   "metadata": {
    "ExecuteTime": {
     "end_time": "2022-08-14T23:51:06.683040Z",
     "start_time": "2022-08-14T23:51:06.683034Z"
    }
   },
   "outputs": [],
   "source": [
    "olympics.head()"
   ]
  },
  {
   "cell_type": "code",
   "execution_count": null,
   "id": "7fb310cc",
   "metadata": {
    "ExecuteTime": {
     "end_time": "2022-08-14T23:51:06.683454Z",
     "start_time": "2022-08-14T23:51:06.683448Z"
    }
   },
   "outputs": [],
   "source": [
    "# WOrking\n",
    "# olympics['age'] = olympics.year-olympics.born"
   ]
  },
  {
   "cell_type": "code",
   "execution_count": null,
   "id": "d26ddbc7",
   "metadata": {
    "ExecuteTime": {
     "end_time": "2022-08-14T23:51:06.683848Z",
     "start_time": "2022-08-14T23:51:06.683843Z"
    }
   },
   "outputs": [],
   "source": [
    "olympics['height']=olympics['height'].astype('int')\n",
    "olympics['year']=olympics['year'].astype('int')"
   ]
  },
  {
   "cell_type": "code",
   "execution_count": null,
   "id": "c3a1a39c",
   "metadata": {
    "ExecuteTime": {
     "end_time": "2022-08-14T23:51:06.684456Z",
     "start_time": "2022-08-14T23:51:06.684451Z"
    }
   },
   "outputs": [],
   "source": [
    "# # Changes and updates:\n",
    "# # Change Born to date format\n",
    "# olympics['born'] = pd.to_datetime(olympics['born'], errors='ignore', format=\"%Y-%m-%d\")\n",
    "# # Building event_year because 'year' has missing values\n",
    "# olympics['event_year'] = olympics['edition'].str[:4]\n",
    "# # Pull year off edition\n",
    "# olympics['edition']=olympics['edition'].str[4:]\n",
    "# # Cleared 'year' due to missing values\n",
    "# olympics.drop(columns='year')\n",
    "# # Height Change to int.\n",
    "# # Edition - Take off year\n",
    "# olympics['edition'] = olympics['edition'].str[4:]\n",
    "# # Medal - Change na to participant\n",
    "# olympics.medal.replace('na','participant',inplace=True)\n",
    "# # Year - Take off decimal"
   ]
  },
  {
   "cell_type": "code",
   "execution_count": null,
   "id": "957a27eb",
   "metadata": {
    "ExecuteTime": {
     "end_time": "2022-08-14T23:51:06.684865Z",
     "start_time": "2022-08-14T23:51:06.684860Z"
    }
   },
   "outputs": [],
   "source": [
    "# Added Features\n",
    "# Age at time of olympics\n",
    "# FromHostCountry\n",
    "# Need to Add Coutry of olympics"
   ]
  },
  {
   "cell_type": "code",
   "execution_count": null,
   "id": "18bd583d",
   "metadata": {
    "ExecuteTime": {
     "end_time": "2022-08-14T23:51:06.685437Z",
     "start_time": "2022-08-14T23:51:06.685431Z"
    },
    "code_folding": []
   },
   "outputs": [],
   "source": [
    "# Find 2020 Total Number of medals vs number of athletes \n",
    "# Classification= Did athlete medal\n",
    "# LR : number of medals by country/year\n",
    "# Time Series: lm by "
   ]
  },
  {
   "cell_type": "code",
   "execution_count": null,
   "id": "337191ed",
   "metadata": {
    "ExecuteTime": {
     "end_time": "2022-08-14T23:51:06.686458Z",
     "start_time": "2022-08-14T23:51:06.686452Z"
    }
   },
   "outputs": [],
   "source": [
    "mt.head()"
   ]
  },
  {
   "cell_type": "code",
   "execution_count": null,
   "id": "4ae62cf5",
   "metadata": {
    "ExecuteTime": {
     "end_time": "2022-08-14T23:51:06.687379Z",
     "start_time": "2022-08-14T23:51:06.687372Z"
    }
   },
   "outputs": [],
   "source": [
    "# Need to find LR"
   ]
  }
 ],
 "metadata": {
  "kernelspec": {
   "display_name": "Python 3 (ipykernel)",
   "language": "python",
   "name": "python3"
  },
  "language_info": {
   "codemirror_mode": {
    "name": "ipython",
    "version": 3
   },
   "file_extension": ".py",
   "mimetype": "text/x-python",
   "name": "python",
   "nbconvert_exporter": "python",
   "pygments_lexer": "ipython3",
   "version": "3.9.13"
  }
 },
 "nbformat": 4,
 "nbformat_minor": 5
}
